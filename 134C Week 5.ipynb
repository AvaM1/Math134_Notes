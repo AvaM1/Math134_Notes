{
 "cells": [
  {
   "cell_type": "markdown",
   "source": [
    "# Math 134C Week 5"
   ],
   "metadata": {
    "collapsed": false
   },
   "id": "c2313035881fe26e"
  },
  {
   "cell_type": "code",
   "outputs": [],
   "source": [
    "import math\n",
    "import numpy as np\n",
    "from scipy.stats import norm\n",
    "\n",
    "def NPV(r, cf, continuous_compounding = False, dt = None): \n",
    "    if dt is None: dt = range(len(cf))\n",
    "    pv = 0\n",
    "    if not continuous_compounding:\n",
    "        for k in range(0, len(cf)):\n",
    "            pv += cf[k] / (1+r)**dt[k]\n",
    "    else:\n",
    "        for k in range(0, len(cf)):\n",
    "            pv += cf[k] * math.exp(-r * dt[k])\n",
    "    return pv\n",
    "\n",
    "# r is the risk-free rate, F is a cash flow, and dT is the time that we get each cash flow\n",
    "def PV(F, dT, r):\n",
    "    pv = 0\n",
    "    if len(dT) != len(F):\n",
    "        print(\"Input Error\")\n",
    "        return 0\n",
    "    for n in range(0, len(F)):\n",
    "        pv += F[n] * math.exp(-r * dT[n])\n",
    "    return pv\n",
    "        \n",
    "# C_t is the price of call option, S_t is the current stock price, K is the strike, r is the risk-free rate, dt is time to expiration. D is the dividend of the stock, and dT is the time at which we receive the dividend. The delta is for the continuous dividend paying model. The function will return the price of the corresponding put option. \n",
    "def put_given_call(C_t, S_t, K, r, dt, D= None, dT = None, delta = 0):\n",
    "    if D is None: D = []\n",
    "    if dT is None: dT = []\n",
    "    return C_t - (S_t - PV(D, dT, r)) * math.exp(-delta * dt) + K * math.exp(-r * dt)\n",
    "\n",
    "def call_given_put(P_t, S_t, K, r, dt, D = None, dT = None, delta = 0):\n",
    "    if D is None: D = []\n",
    "    if dT is None: dT = []\n",
    "    return P_t + (S_t - PV(D, dT, r)) * math.exp(-delta * dt) - K * math.exp(-r * dt)\n",
    "\n",
    "def one_step_binomial(r, dt, u, d, Vu, Vd, delta = 0):\n",
    "    q = (math.exp((r - delta) * dt) - d)/(u-d)\n",
    "    if not (1 > q > 0): \n",
    "        print(\"Arbitrage opportunity exists\")\n",
    "        return -1\n",
    "    return math.exp(-r * dt)*(q*Vu+(1-q)*Vd)    \n",
    "\n",
    "def Delta(r, dt, u, d, Vu, Vd, S, delta = 0):\n",
    "    return math.exp(-delta * dt)*(Vu-Vd)/(S*(u-d))\n",
    "\n",
    "def B(r, dt, u, d, Vu, Vd):\n",
    "    return math.exp(-r * dt)*(u * Vd - d * Vu)/(u-d)\n",
    "\n",
    "def black_scholes_call(S_t, K, dt, r, sigma, delta):\n",
    "    d1 = (np.log(S_t / K) + (r -delta + 0.5 * sigma ** 2) * dt) / (sigma * np.sqrt(dt))\n",
    "    d2 = d1 - sigma * np.sqrt(dt)\n",
    "    call_price = S_t * np.exp(-delta * dt) * norm.cdf(d1) - K * np.exp(-r * dt) * norm.cdf(d2)\n",
    "    return call_price\n",
    "\n",
    "def black_scholes_put(S_t, K, dt, r, sigma, delta):\n",
    "    d1 = (np.log(S_t / K) + (r -delta + 0.5 * sigma ** 2) * dt) / (sigma * np.sqrt(dt))\n",
    "    d2 = d1 - sigma * np.sqrt(dt)\n",
    "    call_price = - S_t * np.exp(-delta * dt) * norm.cdf(-d1) + K * np.exp(-r * dt) * norm.cdf(-d2)\n",
    "    return call_price\n"
   ],
   "metadata": {
    "collapsed": false,
    "ExecuteTime": {
     "end_time": "2024-04-30T06:33:59.311847Z",
     "start_time": "2024-04-30T06:33:58.539317Z"
    }
   },
   "id": "12c73d74bedc1552",
   "execution_count": 2
  },
  {
   "cell_type": "markdown",
   "source": [
    "# Black-Scholes Formula\n",
    "Assume that the risk-free rate is $r$. Then the call option with strike $K$, mature in time T, on a stock with price $S$, volatility $\\sigma$, continuous dividend yield $\\delta$ has price \n",
    "$$C = Se^{-\\delta T}N(d_1)-Ke^{-rT}N(d_2)$$\n",
    "$$d_1 = \\frac{\\ln(S/K)+(r-\\delta+\\frac{1}{2}\\sigma^2)T}{\\sigma\\sqrt{T}}$$\n",
    "$$d_2 = d_1-\\sigma\\sqrt{T}$$\n",
    "\n",
    "The corresponding put option has price\n",
    "$$P = Ke^{-rT}N(-d_2)-Se^{-\\delta T}N(-d_1)$$"
   ],
   "metadata": {
    "collapsed": false
   },
   "id": "65b442a6915b28cb"
  },
  {
   "cell_type": "markdown",
   "source": [
    "**Quiz 4.1**\n",
    "Assume the Black-Scholes framework for option pricing.\n",
    "\n",
    "For a nond ividend-paying stock and a European call option on the stock, you are given:\n",
    "\n",
    "- The volatility of the stock is 20%\n",
    "- The continuously compounded annual risk-free interest rate is 4%\n",
    "- The time to maturity of the option is six months\n",
    "- The Black-Scholes price of the call option is $9.94\n",
    "- d1 = 0.21213\n",
    "\n",
    "Calculate the strike price of the call option."
   ],
   "metadata": {
    "collapsed": false
   },
   "id": "f49ba23020f67dfd"
  },
  {
   "cell_type": "code",
   "outputs": [
    {
     "name": "stdout",
     "output_type": "stream",
     "text": [
      "The strike of this call option is 149.99\n"
     ]
    }
   ],
   "source": [
    "d1 = 0.21213\n",
    "C = 9.94\n",
    "sigma = 0.2\n",
    "T = 0.5\n",
    "r = 0.04\n",
    "\n",
    "d2 = d1 - sigma * np.sqrt(T)\n",
    "S_over_K = math.exp(sigma * np.sqrt(T) * d1 - (r + 0.5 * sigma ** 2)*T)\n",
    "\n",
    "K = C/(S_over_K * norm.cdf(d1) - math.exp(-r * T) * norm.cdf(d2))\n",
    "print(f\"The strike of this call option is {K:.2f}\")"
   ],
   "metadata": {
    "collapsed": false,
    "ExecuteTime": {
     "end_time": "2024-04-30T06:51:01.436846Z",
     "start_time": "2024-04-30T06:51:01.428760Z"
    }
   },
   "id": "6483afdf861d468",
   "execution_count": 12
  },
  {
   "cell_type": "markdown",
   "source": [
    "**Quiz 4.2**\n",
    "Assume the Black-Scholes framework for option pricing.\n",
    "\n",
    "For a two-year European call option on a non dividend-paying stock, you are given:\n",
    "\n",
    "- The current price of the stock is 98.\n",
    "- The strike price of the call option is 100.\n",
    "- The stock’s volatility is 32%.\n",
    "- The continuously compounded annual risk-free interest rate is 5%.\n",
    "\n",
    "Calculate the price of the call option."
   ],
   "metadata": {
    "collapsed": false
   },
   "id": "1e98efd117ccd99c"
  },
  {
   "cell_type": "code",
   "outputs": [
    {
     "name": "stdout",
     "output_type": "stream",
     "text": [
      "The call option has price 20.89\n"
     ]
    }
   ],
   "source": [
    "print(f\"The call option has price {black_scholes_call(98, 100, 2, 0.05, 0.32, 0):.2f}\")"
   ],
   "metadata": {
    "collapsed": false,
    "ExecuteTime": {
     "end_time": "2024-04-30T06:52:09.184508Z",
     "start_time": "2024-04-30T06:52:09.169337Z"
    }
   },
   "id": "e7813bdac6bf048e",
   "execution_count": 14
  },
  {
   "cell_type": "markdown",
   "source": [
    "**Quiz 4.3**\n",
    "Assume the Black-Scholes framework for options pricing.\n",
    "\n",
    "Let S(t) denote the price at time t of a stock that pays no dividends. Consider a European put option with expiration date T and exercise price $K = S(0)e^{rT}$ where $r$ is the continuously compounded annual risk-free interest rate.\n",
    "\n",
    "You are given:\n",
    "- $T = 4$\n",
    "- $\\sigma^2 = 0.25$\n",
    "\n",
    "Let $P(0)$ denote the price of the put option at time 0. Calculate the ratio $P(0)/S(0)$\n",
    "\n"
   ],
   "metadata": {
    "collapsed": false
   },
   "id": "c0082f436cc02175"
  },
  {
   "cell_type": "markdown",
   "source": [
    "**Quiz 4.4**\n",
    "Consider a one-year at-the-money European call option on a non dividend-paying stock for which the Black-Scholes framework for option pricing holds.\n",
    "\n",
    "You are given:\n",
    "\n",
    "- The stock currently sells for 100.\n",
    "- The stock’s volatility is 30%.\n",
    "- The continuously compounded risk-free interest rate is 6%.\n",
    "\n",
    "Now consider a European put option on the same stock and subject to the same pricing parameters as the call.\n",
    "\n",
    "You bought 1,000 units of the call and 500 units of the put. Calculate the total price of all 1,500 options, rounded to the nearest 100."
   ],
   "metadata": {
    "collapsed": false
   },
   "id": "2b370b85db5652bb"
  },
  {
   "cell_type": "markdown",
   "source": [
    "**Quiz 4.5**\n",
    "Assume the Black-Scholes framework for options pricing.\n",
    "\n",
    "You are given the following information regarding two non dividend-paying stocks, Stock X and Stock Y\n",
    "\n",
    "- The current price of Stock X and Stock Y is 50\n",
    "- The volatility of Stock X is 40%\n",
    "- The volatility of Stock Y is $\\sigma_Y$\n",
    "- A one-year at-the-money European put option on Stock X has a price of P\n",
    "- A one-year at-the-money European put option on Stock Y has a price of 9.67\n",
    "- The continuously compounded annual risk-free interest rate is 4%\n",
    "Which of the following is correct regarding P and $\\sigma_Y$?"
   ],
   "metadata": {
    "collapsed": false
   },
   "id": "f46294fa58968407"
  },
  {
   "cell_type": "markdown",
   "source": [
    "**Quiz 4.6**\n",
    "Assume the Black-Scholes framework for options pricing.\n",
    "\n",
    "You make the following trades today to assemble a portfolio of non dividend-paying European stock options on the same underlying stock and hold all the positions until expiration.  \n",
    "\n",
    "- Buy 1 at-the-money call option\n",
    "- Sell 1 at-the-money put option\n",
    "- Sell 1 call option with strike price 350\n",
    "- Buy 1 put option with strike price 350\n",
    "\n",
    "All options have an expiration date of one year from today and the continuously compounded risk-free interest rate is 2%.  The current stock price is 100 and the volatility is 30%.\n",
    "\n",
    "Assume all premiums are exactly equal to the Black-Scholes options prices. \n",
    "\n",
    "What is the continuously compounded return you earn on this portfolio of options during the time that you hold it?"
   ],
   "metadata": {
    "collapsed": false
   },
   "id": "8027d7993a293714"
  },
  {
   "cell_type": "markdown",
   "source": [
    "**Quiz 4.7**\n",
    "Assume the Black-Scholes framework for options pricing.\n",
    "\n",
    "You make the following trades today to assemble a portfolio of non dividend-paying European stock options on the same underlying stock and hold all the positions until expiration.  \n",
    "\n",
    "- Buy 1 at-the-money call option\n",
    "- Sell 1 at-the-money put option\n",
    "- Sell 1 call option with strike price 350\n",
    "- Buy 1 put option with strike price 350\n",
    "- All options have an expiration date of one year from today and the continuously compounded risk-free interest rate is 2%.  The current stock price is 100 and the volatility is 10%.\n",
    "\n",
    "Assume all premiums are exactly equal to the Black-Scholes options prices. \n",
    "\n",
    "What is the continuously compounded return you earn on this portfolio of options during the time that you hold it?"
   ],
   "metadata": {
    "collapsed": false
   },
   "id": "c43e9783428af0d7"
  },
  {
   "cell_type": "markdown",
   "source": [
    "**Quiz 4.8**\n",
    "You observe the price of a volatile stock over 100 trading days and record that it either doubles or halves each day with equal likelihood.\n",
    "\n",
    "To be clear, the stock doubles (daily return of 100%) on a total of 50 days and gets cut in half (daily return of -50%) on 50 days during the 100-day observation period.\n",
    "\n",
    "What is an accurate estimate for the stock's daily realized volatility?"
   ],
   "metadata": {
    "collapsed": false
   },
   "id": "bcde232f5f1c550d"
  },
  {
   "cell_type": "markdown",
   "source": [
    "**Quiz 4.9**\n",
    "\n",
    "Assume the Black-Scholes framework for options pricing.\n",
    "\n",
    "You are a portfolio manager and already have a long position in Apple (ticker: AAPL).\n",
    "\n",
    "You want to protect your long position against losses and decide to buy a European put option on AAPL with a strike price of 180.15 and an expiration date of 1-year from today.  \n",
    "\n",
    "The continuously compounded risk-free interest rate is 8% and the stock pays no dividends. The current stock price for AAPL is 200 and its volatility is 30%.\n",
    "\n",
    "Assume all options premiums are exactly equal to the Black-Scholes options prices. \n",
    "\n",
    "Once you discover how expensive the put option premium is, you decide to sell a 1-year call European call option on AAPL to help pay for the put option.  \n",
    "\n",
    "You are free to choose the strike price of the call option.  At what strike price will the call option you sell exactly pay for the put option you buy, such that the net option premium is zero?  \n",
    "\n",
    "Note that all option premiums should be rounded to the nearest cent ($0.01)"
   ],
   "metadata": {
    "collapsed": false
   },
   "id": "c0367f5b1d9c54f8"
  },
  {
   "cell_type": "markdown",
   "source": [
    "**Quiz 4.10**\n",
    "Assume the Black-Scholes framework for options pricing.\n",
    "\n",
    "You are a portfolio manager and already have a long position in Apple (ticker: AAPL).\n",
    "\n",
    "The continuously compounded risk-free interest rate is 8% and the stock pays no dividends.  You also are given:\n",
    "\n",
    "- The current stock price for AAPL is 200\n",
    "- The volatility for AAPL  is 30%\n",
    "- The continuously compounded expected growth rate for AAPL is $\\mu= 4.5\\%$\n",
    "\n",
    "You want to protect your long position against losses and decide to hedge your long position with the following options trades:\n",
    "- Buy a European put option on AAPL with an expiration date of 1-year from today with strike price of 200\n",
    "- Sell a European call option on AAPL with an expiration date of 1-year from today with strike price greater than 220\n",
    "\n",
    "The strike price of the call option is chosen carefully so that the net option premium including both options is zero. The hedged portfolio contains long 1 share of AAPL stock, long 1 put option, and short one call option.\n",
    "\n",
    "Assume all options premiums are exactly equal to the Black-Scholes options prices. \n",
    "\n",
    "What is the probability that this hedged portfolio value will be strictly greater than the price of AAPL in one year?"
   ],
   "metadata": {
    "collapsed": false
   },
   "id": "95d3953be3eb9111"
  },
  {
   "cell_type": "markdown",
   "source": [
    "# Greeks"
   ],
   "metadata": {
    "collapsed": false
   },
   "id": "dc12d187914785c3"
  }
 ],
 "metadata": {
  "kernelspec": {
   "display_name": "Python 3",
   "language": "python",
   "name": "python3"
  },
  "language_info": {
   "codemirror_mode": {
    "name": "ipython",
    "version": 2
   },
   "file_extension": ".py",
   "mimetype": "text/x-python",
   "name": "python",
   "nbconvert_exporter": "python",
   "pygments_lexer": "ipython2",
   "version": "2.7.6"
  }
 },
 "nbformat": 4,
 "nbformat_minor": 5
}
