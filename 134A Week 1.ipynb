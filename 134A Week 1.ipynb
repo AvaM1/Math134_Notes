{
 "cells": [
  {
   "cell_type": "markdown",
   "source": [
    "# Math 134A Week 1"
   ],
   "metadata": {
    "collapsed": false
   },
   "id": "c82cdd99a0c9a6c3"
  },
  {
   "cell_type": "code",
   "outputs": [],
   "source": [],
   "metadata": {
    "collapsed": false
   },
   "id": "12cadf6b070f9703"
  }
 ],
 "metadata": {
  "kernelspec": {
   "display_name": "Python 3",
   "language": "python",
   "name": "python3"
  },
  "language_info": {
   "codemirror_mode": {
    "name": "ipython",
    "version": 2
   },
   "file_extension": ".py",
   "mimetype": "text/x-python",
   "name": "python",
   "nbconvert_exporter": "python",
   "pygments_lexer": "ipython2",
   "version": "2.7.6"
  }
 },
 "nbformat": 4,
 "nbformat_minor": 5
}
