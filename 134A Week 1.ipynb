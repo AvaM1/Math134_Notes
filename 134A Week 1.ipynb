{
 "cells": [
  {
   "cell_type": "markdown",
   "source": [
    "# Math 134A Week 1"
   ],
   "metadata": {
    "collapsed": false
   },
   "id": "c82cdd99a0c9a6c3"
  },
  {
   "cell_type": "markdown",
   "source": [
    "## Compound Interest\n",
    "Let $A$ be the **principal**, which is the original amount of money we saved in the bank. Let $r$ be the **annual interest rate**. Suppose that the interest is compounded annually, then the amount of money we received in year $t$ is given by \n",
    "$$A(1+r)^t$$\n",
    "\n",
    "If the interest is compounded quarterly, then the amount of money we received in year $t$ is given by \n",
    "$$A\\left(1+\\frac{r}{4}\\right)^{4t}$$\n",
    "\n",
    "If we further divide the interval for which we receive the interest as $1/n$ year, and take the limit as $n\\rightarrow\\infty$, then we get the **continuous compound interest model**\n",
    "$$\\lim_{n\\rightarrow \\infty} A\\left(1+\\frac{r}{n}\\right)^{nt} = Ae^{rt}$$"
   ],
   "metadata": {
    "collapsed": false
   },
   "id": "b631f41058d5a568"
  },
  {
   "cell_type": "markdown",
   "source": [
    "## Present Value and Future Value\n",
    "Since we can save the money in the bank, and it will grow according to the interest rate. Hence, the money received tomorrow will worth less than the same amount of money received today. We introduce the notion of **present value/future value** as a tool to compare the value the money received in different time. \n",
    "\n",
    "Suppose the annual interest rate is $r$, and a cash flow $(x_0, x_1,\\ldots, x_n)$ where $x_i$ is the amount of money that we will receive or lose in year $n$. Then its **present value**, which the value of this cash flow at year $0$ is given by \n",
    "$$PV = x_0 + \\frac{x_1}{1+r}+\\frac{x_2}{(1+r)^2}+\\cdots+\\frac{x_n}{(1+r)^n}$$\n",
    "Its **future value** at year $n$ is given by \n",
    "$$FV = x_0(1+r)^n+x_1(1+r)^{n-1}+\\cdots+x_n$$\n",
    "\n",
    "We also call $\\frac{1}{1+r}$ as the **discount factor**. This is how the money received in the future will be discounted by. \n",
    "\n",
    "In the continuous compound model, the discount factor is $e^{-r}$. Suppose the cash flow we have is $(x_{t_0}, x_{t_1},\\ldots, x_{t_n})$ where $x_{t_i}$ is the money received at time $t_i$. Then its present value is given by\n",
    "$$PV = \\sum_0^n x_{t_k}e^{-rt_k}$$\n",
    "\n",
    "If the present value of two cash flow are the same, then we say that they are **equivalent**. "
   ],
   "metadata": {
    "collapsed": false
   },
   "id": "85debf1c7f63d68a"
  },
  {
   "cell_type": "code",
   "outputs": [],
   "source": [
    "import math\n",
    "def PV(r, cf, continuous_compounding = False, dt = None): \n",
    "    if dt is None: dt = range(len(cf))\n",
    "    pv = 0\n",
    "    if not continuous_compounding:\n",
    "        for k in range(0, len(cf)):\n",
    "            pv += cf[k] / (1+r)**dt[k]\n",
    "    else:\n",
    "        for k in range(0, len(cf)):\n",
    "            pv += cf[k] * math.exp(-r * dt[k])\n",
    "    return pv\n",
    "\n",
    "# This will return the future value of a cash flow at time T. If T is not specified, then we take T as the time that we receive the last cash flow\n",
    "def FV(r, cf, continuous_compounding = False, dt = None, T = None):\n",
    "    if dt is None: dt = range(len(cf))\n",
    "    if T is None: T = dt[-1]\n",
    "    fv = 0\n",
    "    if not continuous_compounding:\n",
    "        for k in range(0, len(cf)):\n",
    "            fv += cf[k] * (1+r)**dt[k]\n",
    "        fv = fv * (1+r)**(T - dt[-1])\n",
    "    else:\n",
    "        for k in range(0, len(cf)):\n",
    "            fv += cf[k] * math.exp(r * dt[k])\n",
    "        fv = fv * math.exp(r * (T-dt[-1]))\n",
    "    return fv   \n",
    "    "
   ],
   "metadata": {
    "collapsed": false,
    "ExecuteTime": {
     "end_time": "2024-04-04T21:38:15.791960Z",
     "start_time": "2024-04-04T21:38:15.783394Z"
    }
   },
   "id": "30c6defef1f4464d",
   "execution_count": 1
  },
  {
   "cell_type": "markdown",
   "source": [
    "#### Example in Lecture:\n",
    "Compute the present value of the cash flow $[-2,1,1, 1]$ with $r = 0.1$, compounded yearly. "
   ],
   "metadata": {
    "collapsed": false
   },
   "id": "a068fd3db01fb310"
  },
  {
   "cell_type": "code",
   "outputs": [
    {
     "name": "stdout",
     "output_type": "stream",
     "text": [
      "The present value of the above cash flow is 0.48685199098422216\n"
     ]
    }
   ],
   "source": [
    "print(\"The present value of the above cash flow is\" ,PV(r = 0.1, cf = [-2,1,1,1]))"
   ],
   "metadata": {
    "collapsed": false,
    "ExecuteTime": {
     "end_time": "2024-04-04T21:38:15.796307Z",
     "start_time": "2024-04-04T21:38:15.793507Z"
    }
   },
   "id": "9111eda52b1b5a6f",
   "execution_count": 2
  },
  {
   "cell_type": "markdown",
   "source": [
    "## Internal rate of return\n",
    "Usually, there are investments where we need to deposit an amount money first, and then receive money in the future. This corresponds to a cash flow $(x_0,x_1,\\ldots, x_n)$ with $x_0 < 0$, and all other $x_i \\geq 0$. The **Internal rate of return(IRR)** is a tool to analyze the actual interest paid by this investment. More precisely, the IRR is a number $r$ such that the present value corresponding to this cash flow is $0$. In other words, the cash flow corresponding to investment is the same as the cash flow generated by saving the money $x_0$ in the bank with interest rate $r$ (which has present value $0$). \n",
    "\n",
    " "
   ],
   "metadata": {
    "collapsed": false
   },
   "id": "a5f9cca70b6c3a4f"
  },
  {
   "cell_type": "code",
   "outputs": [],
   "source": [
    "from scipy.optimize import fsolve\n",
    "\n",
    "def irr(cf):\n",
    "    \n",
    "    def simple_npv(r, cf):\n",
    "        return sum(cf[k]/(1+r)**k for k in range(len(cf)))\n",
    "    \n",
    "    result = fsolve(simple_npv, x0 = 0.1, args = cf)\n",
    "    return result[0]\n"
   ],
   "metadata": {
    "collapsed": false,
    "ExecuteTime": {
     "end_time": "2024-04-04T21:38:16.147289Z",
     "start_time": "2024-04-04T21:38:15.797129Z"
    }
   },
   "id": "76463f26195127d",
   "execution_count": 3
  },
  {
   "cell_type": "code",
   "outputs": [
    {
     "data": {
      "text/plain": "0.23291940737673406"
     },
     "execution_count": 4,
     "metadata": {},
     "output_type": "execute_result"
    }
   ],
   "source": [
    "irr([-10000,2000,3000,4000,5000,6000])"
   ],
   "metadata": {
    "collapsed": false,
    "ExecuteTime": {
     "end_time": "2024-04-04T21:38:16.159898Z",
     "start_time": "2024-04-04T21:38:16.150083Z"
    }
   },
   "id": "e22f0ffa89d60679",
   "execution_count": 4
  }
 ],
 "metadata": {
  "kernelspec": {
   "display_name": "Python 3",
   "language": "python",
   "name": "python3"
  },
  "language_info": {
   "codemirror_mode": {
    "name": "ipython",
    "version": 2
   },
   "file_extension": ".py",
   "mimetype": "text/x-python",
   "name": "python",
   "nbconvert_exporter": "python",
   "pygments_lexer": "ipython2",
   "version": "2.7.6"
  }
 },
 "nbformat": 4,
 "nbformat_minor": 5
}
