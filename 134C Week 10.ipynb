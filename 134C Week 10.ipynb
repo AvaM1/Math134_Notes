{
 "cells": [
  {
   "cell_type": "markdown",
   "id": "8e6a42de532c3263",
   "metadata": {
    "collapsed": false
   },
   "source": [
    "# Math 134C Week 10"
   ]
  },
  {
   "cell_type": "code",
   "execution_count": 1,
   "id": "a6b46555bd173c4a",
   "metadata": {
    "collapsed": false,
    "ExecuteTime": {
     "end_time": "2024-06-06T09:25:33.084128Z",
     "start_time": "2024-06-06T09:25:32.239460Z"
    }
   },
   "outputs": [],
   "source": [
    "import math\n",
    "import numpy as np\n",
    "from scipy.stats import norm\n",
    "from scipy.stats.mstats import gmean\n",
    "\n",
    "def black_scholes_call(S_t, K, dt, r, sigma, delta):\n",
    "    d1 = (np.log(S_t / K) + (r -delta + 0.5 * sigma ** 2) * dt) / (sigma * np.sqrt(dt))\n",
    "    d2 = d1 - sigma * np.sqrt(dt)\n",
    "    call_price = S_t * np.exp(-delta * dt) * norm.cdf(d1) - K * np.exp(-r * dt) * norm.cdf(d2)\n",
    "    return call_price\n",
    "\n",
    "def black_scholes_put(S_t, K, dt, r, sigma, delta):\n",
    "    d1 = (np.log(S_t / K) + (r -delta + 0.5 * sigma ** 2) * dt) / (sigma * np.sqrt(dt))\n",
    "    d2 = d1 - sigma * np.sqrt(dt)\n",
    "    call_price = - S_t * np.exp(-delta * dt) * norm.cdf(-d1) + K * np.exp(-r * dt) * norm.cdf(-d2)\n",
    "    return call_price\n",
    "\n",
    "def call_Delta(S_t, K, dt, r, sigma, delta):\n",
    "    d1 = (np.log(S_t / K) + (r -delta + 0.5 * sigma ** 2) * dt) / (sigma * np.sqrt(dt))  \n",
    "    return np.exp(-delta * dt) * norm.cdf(d1)\n",
    "\n",
    "def put_Delta(S_t, K, dt, r, sigma, delta):\n",
    "    d1 = (np.log(S_t / K) + (r -delta + 0.5 * sigma ** 2) * dt) / (sigma * np.sqrt(dt))  \n",
    "    return -np.exp(-delta * dt) * norm.cdf(-d1)\n",
    "\n",
    "def Gamma(S_t, K, dt, r, sigma, delta):\n",
    "    d1 = (np.log(S_t / K) + (r -delta + 0.5 * sigma ** 2) * dt) / (sigma * np.sqrt(dt))\n",
    "    return np.exp(-delta * dt) * norm.pdf(d1)/(S_t * sigma * np.sqrt(dt)) \n",
    "\n",
    "def call_Theta(S_t, K, dt, r, sigma, delta):\n",
    "    d1 = (np.log(S_t / K) + (r -delta + 0.5 * sigma ** 2) * dt) / (sigma * np.sqrt(dt))\n",
    "    d2 = d1 - sigma * np.sqrt(dt)\n",
    "    return delta * S_t * np.exp(-delta * dt)*norm.cdf(d1) - r * K * np.exp(-r*dt)*norm.cdf(d2)-(K * np.exp(-r*dt) * sigma * norm.pdf(d2))/ (2 * np.sqrt(dt)) \n",
    "\n",
    "def put_Theta(S_t, K, dt, r, sigma, delta):\n",
    "    d1 = (np.log(S_t / K) + (r -delta + 0.5 * sigma ** 2) * dt) / (sigma * np.sqrt(dt))\n",
    "    d2 = d1 - sigma * np.sqrt(dt)\n",
    "    return call_Theta(S_t, K, dt, r, sigma, delta) + r * K * np.exp(-r*dt) - delta * S_t * np.exp(-delta * dt)\n",
    "\n",
    "def put_given_call(C_t, S_t, K, r, dt):\n",
    "    return C_t - S_t + K * math.exp(-r * dt)\n",
    "def call_given_put(P_t, S_t, K, r, dt):\n",
    "    return P_t + S_t - K * math.exp(-r * dt)\n",
    "\n",
    "def one_step_binomial(r, dt, u, d, Vu, Vd, delta = 0):\n",
    "    q = (math.exp((r - delta) * dt) - d)/(u-d)\n",
    "    if not (1 > q > 0): \n",
    "        print(\"Arbitrage opportunity exists\")\n",
    "        return -1\n",
    "    return math.exp(-r * dt)*(q*Vu+(1-q)*Vd)    \n",
    "\n",
    "def stock_price_simulation(T, N, r, delta, sigma, S0):\n",
    "    dt = float(T) / N\n",
    "    t = np.linspace(0, T, N+1)\n",
    "    S = np.zeros(N+1)\n",
    "    S[0] = S0\n",
    "    for i in range(1, N+1):\n",
    "        Z = np.random.normal(0, 1)\n",
    "        S[i] = S[i-1] * np.exp((r - delta - 0.5 * sigma**2) * dt + sigma * np.sqrt(dt) * Z)\n",
    "    return t, S"
   ]
  },
  {
   "cell_type": "markdown",
   "id": "df2198cfc391f4d2",
   "metadata": {
    "collapsed": false
   },
   "source": [
    "**Quiz 9.1**\n",
    "![](./img/week10_1.png)"
   ]
  },
  {
   "cell_type": "code",
   "execution_count": 7,
   "id": "be8b83db-4e50-41b6-836d-bc26149eabac",
   "metadata": {},
   "outputs": [
    {
     "name": "stdout",
     "output_type": "stream",
     "text": [
      "0.5857859529773828\n",
      "32.87579326094541\n",
      "15.532861292062652\n"
     ]
    }
   ],
   "source": [
    "q = (np.exp(0.05-0.04) - 0.6)/(1.3-0.6)\n",
    "print(q)\n",
    "Cu = np.exp(-0.05) * (q * 59)\n",
    "print(Cu)\n",
    "P = np.exp(-0.05) * (q * (Cu-5))\n",
    "print(P)"
   ]
  },
  {
   "cell_type": "markdown",
   "id": "d5b9f55563a597cd",
   "metadata": {
    "collapsed": false
   },
   "source": [
    "**Quiz 9.2**\n",
    "For this problem please assume the risk-free annual interest rate is 5.35\\% and the underlying stock has a current price of 41.75 and volatility of 0.34. Also assume there are 365 days until expiration.\n",
    "\n",
    "Using the Monte Carlo methodology with one day time steps, compute the value of an exotic Asian-style geometric average price European put option with a strike price of 55 using 10,000 trials.\n",
    "\n",
    "Please round your answer to the nearest integer."
   ]
  },
  {
   "cell_type": "code",
   "execution_count": 8,
   "id": "8cee4e712b05fb6f",
   "metadata": {
    "ExecuteTime": {
     "end_time": "2024-06-04T18:27:09.835920Z",
     "start_time": "2024-06-04T18:26:54.294556Z"
    },
    "collapsed": false
   },
   "outputs": [
    {
     "name": "stdout",
     "output_type": "stream",
     "text": [
      "12.260054536502018\n"
     ]
    }
   ],
   "source": [
    "T = 1\n",
    "N = 365\n",
    "r = 0.0535\n",
    "delta = 0\n",
    "sigma = 0.34\n",
    "S0 = 41.75\n",
    "K = 55\n",
    "n_trials = 10000\n",
    "\n",
    "price_sum = 0\n",
    "for i in range(n_trials):\n",
    "    t,S = stock_price_simulation(T, N, r, delta, sigma, S0)\n",
    "    Smean = gmean(S)\n",
    "    price_sum += np.exp(-r) * max(0, K - Smean)\n",
    "\n",
    "print(price_sum/n_trials)"
   ]
  },
  {
   "cell_type": "markdown",
   "id": "2b1c4314ec6ffd74",
   "metadata": {
    "collapsed": false
   },
   "source": [
    "**Quiz 9.3**\n",
    "For this problem please assume the risk-free annual interest rate is 5.35% and the underlying stock has a current price of 41.75 and volatility of 0.34. Also assume there are 365 days until expiration.\n",
    "\n",
    "Using the Monte Carlo methodology, compute the value of an exotic Asian-style arithmetic average strike European put option using 10,000 trials.\n",
    "\n",
    "Please round your answer to the nearest integer."
   ]
  },
  {
   "cell_type": "code",
   "execution_count": 10,
   "id": "98a28aaf-86a9-49c2-ae6a-378d8090b576",
   "metadata": {},
   "outputs": [
    {
     "name": "stdout",
     "output_type": "stream",
     "text": [
      "2.7140369115642207\n"
     ]
    }
   ],
   "source": [
    "T = 1\n",
    "N = 365\n",
    "r = 0.0535\n",
    "delta = 0\n",
    "sigma = 0.34\n",
    "S0 = 41.75\n",
    "K = 55\n",
    "n_trials = 10000\n",
    "\n",
    "price_sum = 0\n",
    "for i in range(n_trials):\n",
    "    t,S = stock_price_simulation(T, N, r, delta, sigma, S0)\n",
    "    Smean = S.mean()\n",
    "    price_sum += np.exp(-r) * max(0, Smean-S[-1])\n",
    "\n",
    "print(price_sum/n_trials)"
   ]
  },
  {
   "cell_type": "markdown",
   "id": "697799ecb5605e90",
   "metadata": {
    "collapsed": false
   },
   "source": [
    "**Quiz 9.4**\n",
    "In this problem you must  construct a 3-period binomial tree for modeling the price movements of a stock.  Assume the following form for the up and down movements in the stock price over each period h:\n",
    "\n",
    "$$u = e^{(r-\\delta)h+\\sigma\\sqrt{h}}$$\n",
    "$$d = e^{(r-\\delta)h-\\sigma\\sqrt{h}}$$\n",
    "\n",
    "Also you are given:\n",
    "\n",
    "![](./img/week10_2.png)\n",
    "\n",
    "To be clear, the compound option expires 3 months from today, while the underlying 6-month 100-strike European put option starts 3 months from today and expires 9 months from today."
   ]
  },
  {
   "cell_type": "code",
   "execution_count": 17,
   "id": "27871f95-9929-4d15-a0e9-0c136a75c89d",
   "metadata": {},
   "outputs": [
    {
     "name": "stdout",
     "output_type": "stream",
     "text": [
      "1.1793931187113906 0.8564151774836135\n",
      "129.73324305825298 94.20566952319749 153.00649413101584 111.1055183792585 80.67916518467182 180.45480629627485 131.0370838273594 95.15245224218155 69.09486157086049\n",
      "0.460085115444434\n",
      "1.3441816833864326 10.860590913483586\n",
      "1.640459170623296\n"
     ]
    }
   ],
   "source": [
    "r = 0.1\n",
    "delta = 0.08\n",
    "h = 0.25\n",
    "sigma = 0.32\n",
    "S0 = 110\n",
    "\n",
    "u = np.exp((r-delta)*h + sigma * np.sqrt(h))\n",
    "d = np.exp((r-delta)*h - sigma * np.sqrt(h))\n",
    "print(u,d)\n",
    "Su = S0 * u\n",
    "Sd = S0 * d\n",
    "Suu = S0 *u * u\n",
    "Sud = S0* u *d \n",
    "Sdd = S0 * d*d\n",
    "Suuu = S0 * u * u * u\n",
    "Suud = S0 * u * u *d\n",
    "Sudd = S0 * u * d * d\n",
    "Sddd = S0 * d * d * d\n",
    "print(Su, Sd, Suu, Sud, Sdd, Suuu, Suud, Sudd, Sddd)\n",
    "\n",
    "q = (np.exp((r-delta)*h)-d)/(u-d)\n",
    "print(q)\n",
    "\n",
    "Pu = np.exp(-r * 2 * h)*(q**2 * 0 + 2 * q * (1-q) * 0 + (1-q)**2 * (100 - Sudd))\n",
    "Pd = np.exp(-r * 2 * h)*(q**2 * 0 + 2 * q * (1-q) * (100-Sudd) + (1-q)**2 * (100 - Sddd))\n",
    "\n",
    "print(Pu, Pd)\n",
    "\n",
    "P = np.exp(-r * h) * (q * (5-Pu))\n",
    "print(P)"
   ]
  },
  {
   "cell_type": "markdown",
   "id": "69f7c8674d4d8a10",
   "metadata": {
    "collapsed": false
   },
   "source": [
    "**Quiz 9.5**\n",
    "The initial price of a stock is 45. The stock does not pay dividends.\n",
    "\n",
    "The continuously compounded risk-free annual interest rate is 10%.\n",
    "\n",
    "An American call option on the stock expires in 1 year and has a strike price of 40.\n",
    "\n",
    "A 3-month European call on a put with exercise price 0.80 allows the owner to buy a European put option expiring at the end of year 1 on the same stock with strike price 40.\n",
    "\n",
    "After 3 months, on the day the compound option expires, the price of the stock is 48, and the American call option has a price of 11.82, with 9 months left to expiration.\n",
    "\n",
    "Calculate the payoff of the call on put compound option on the day it expires."
   ]
  },
  {
   "cell_type": "code",
   "execution_count": 19,
   "id": "573ecb75-00c8-43aa-a94d-41bfd7889107",
   "metadata": {},
   "outputs": [
    {
     "name": "stdout",
     "output_type": "stream",
     "text": [
      "0.9297394531421119\n",
      "The payoff of this call-on-put option is 0.12973945314211188\n"
     ]
    }
   ],
   "source": [
    "S0 = 45\n",
    "delta = 0\n",
    "T = 1\n",
    "K = 40\n",
    "\n",
    "\n",
    "P = put_given_call(11.82, 48, 40, 0.1, 0.75)\n",
    "print(P)\n",
    "print(\"The payoff of this call-on-put option is\", P - 0.8)"
   ]
  },
  {
   "cell_type": "markdown",
   "id": "efa78d05621bba43",
   "metadata": {
    "collapsed": false
   },
   "source": [
    "**Quiz 9.6**\n",
    "![](./img/week10_3.png)"
   ]
  },
  {
   "cell_type": "markdown",
   "id": "405ca2eab0cdf9e",
   "metadata": {
    "collapsed": false
   },
   "source": [
    "**Quiz 9.7**\n",
    "![](./img/week10_4.png)"
   ]
  },
  {
   "cell_type": "markdown",
   "id": "39bdc849-eb7f-4fed-9749-9cba31a241da",
   "metadata": {},
   "source": [
    "statements II, III are true"
   ]
  },
  {
   "cell_type": "markdown",
   "id": "95b1c96cc5aa970b",
   "metadata": {
    "collapsed": false
   },
   "source": [
    "**Quiz 9.8**\n",
    "![](./img/week10_5.png)\n",
    "True or False:  Pin risk for a European call option is the risk that the call option's delta flips between zero and one as the option flips from being slightly out of the money to slightly in the money, making delta hedging difficult."
   ]
  }
 ],
 "metadata": {
  "kernelspec": {
   "display_name": "Python 3 (ipykernel)",
   "language": "python",
   "name": "python3"
  },
  "language_info": {
   "codemirror_mode": {
    "name": "ipython",
    "version": 3
   },
   "file_extension": ".py",
   "mimetype": "text/x-python",
   "name": "python",
   "nbconvert_exporter": "python",
   "pygments_lexer": "ipython3",
   "version": "3.11.5"
  }
 },
 "nbformat": 4,
 "nbformat_minor": 5
}
