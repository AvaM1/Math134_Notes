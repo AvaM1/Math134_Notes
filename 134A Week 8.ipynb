{
 "cells": [
  {
   "cell_type": "markdown",
   "id": "57ee31a3e81699a3",
   "metadata": {
    "collapsed": false,
    "jupyter": {
     "outputs_hidden": false
    }
   },
   "source": [
    "# Math 134A Week 8"
   ]
  },
  {
   "cell_type": "markdown",
   "id": "26dba2b498dad5a7",
   "metadata": {
    "collapsed": false,
    "jupyter": {
     "outputs_hidden": false
    }
   },
   "source": [
    "# Market Portfolio\n",
    "If everyone uses the mean-variance approach to investing, and has the same estimates for the asset's return, variance, and covariance, then every one must invest in the same fund $F$ of risky assets by the one fund theorem. It follows from the equilibrium that $F$ must be the **market portfolio** $M$, whose weights in each asset is the proportion of total market capitalization. "
   ]
  },
  {
   "cell_type": "markdown",
   "id": "90a41db0-71f6-408b-bdd4-d2e6c0fa1106",
   "metadata": {},
   "source": [
    "**Example**\n",
    "Suppose that there are three stocks A,B,C on the market, and they each have 100, 200, 200 shares on the market. Suppose that the current stock price for each of them is $3,2,1$. Find the weights in each stock of the market portfoloio. \n",
    "\n",
    "Suppose further that their expected rate of return are $0.1, 0.05, 0.1$, and variances are $0.3, 0.1, 0.2$, and they are uncorrelated. Compute the expected rate of return of the market portfolio. "
   ]
  },
  {
   "cell_type": "markdown",
   "id": "23310f38-8b61-4699-ad29-55a7bd64b3e9",
   "metadata": {},
   "source": [
    "# Capital Market Line\n",
    "Following from the one fund theorem, we know that the efficient frontier is a straight line connecting the risk-free asset with the market portfolio. We call this as the **capital market line**. Denote $r_f$ be the risk-free rate, and $\\overline{r_M}, \\sigma_M^2$ be the expected return and variance of the market portfolio, then a point $(\\overline{r}, \\sigma)$ on the capital market line satisfies \n",
    "$$\\overline{r} = r_f+\\frac{\\overline{r_M}-r_f}{\\sigma_M}\\sigma$$"
   ]
  },
  {
   "cell_type": "markdown",
   "id": "da3e0a8b64e63d97",
   "metadata": {
    "collapsed": false,
    "jupyter": {
     "outputs_hidden": false
    }
   },
   "source": [
    "**Exercise 7.1** (Capital market line) Assume that the expected rate of return on the market portfolio is 23\\% and the rate of return on T-bills (the risk-free rate) is 7%. The standard deviation of the market is 32\\%. Assume that the market portfolio is efficient. \\\n",
    "(a) What is the equation of the capital market line? \\\n",
    "(b) (i) If an expected return of 39\\% is desired, what is the standard deviation of this position? \\\n",
    "    (ii) If you have 1,000 to invest, how should you allocate it to achieve the above position? \\\n",
    "(c) If you invest 300 in the risk-free asset and 700 in the market portfolio, how much money should you expect to have at the end of the year?"
   ]
  },
  {
   "cell_type": "markdown",
   "id": "f9e5f81876ea7077",
   "metadata": {
    "collapsed": false,
    "jupyter": {
     "outputs_hidden": false
    }
   },
   "source": [
    "**Solution:**"
   ]
  },
  {
   "cell_type": "markdown",
   "id": "9683841a1b00680f",
   "metadata": {
    "collapsed": false,
    "jupyter": {
     "outputs_hidden": false
    }
   },
   "source": [
    "# Capital Asset Pricing Model (CAPM)\n",
    "The capital market lines gives the expected return of an efficient portfolio given its standard deviation. We now derive a similar formula for a portfolio that is not necessarily efficient. \n",
    "\n",
    "Assuming that the market portfolio $M$ is efficient, the expected return $\\overline{r_i}$ of any asset $i$ satisfies \n",
    "$$\\overline{r_i}-r_f = \\beta_i(\\overline{r_M}-r_f)$$\n",
    "where \n",
    "$$\\beta_i = \\frac{\\sigma_{iM}}{\\sigma_M^2}$$\n",
    "\n",
    "We call the $\\beta_i$ in the above formula as the **beta** if an asset. The beta is really the risk characteristic of an asset. We call $\\overline{r_i}-r_f$ as the **expected excess rate of return** of the asset $i$. Then the CAPM says that the excess rate of return of an asset is porportional to the expected excess rate of return of the market portfolio, and the proportion factor is $\\beta$. "
   ]
  },
  {
   "cell_type": "markdown",
   "id": "c9d0987200348398",
   "metadata": {
    "collapsed": false,
    "jupyter": {
     "outputs_hidden": false
    }
   },
   "source": [
    "**Example**\n",
    "Consider an efficient portfolio with variance $\\sigma$^2. Compute the weights of this portfolio in the risk-free asset and the market portfolio. Then, compute its expected rate of return using the above formula."
   ]
  },
  {
   "cell_type": "markdown",
   "id": "758b35a5fb8a9abb",
   "metadata": {
    "collapsed": false,
    "jupyter": {
     "outputs_hidden": false
    }
   },
   "source": [
    "**Example**\n",
    "Suppose that a portfolio contains $n$ assets with weights $w_1,\\ldots, w_n$, and the bata of each asset is $\\beta_1,\\ldots, \\beta_n$. Compute the $\\beta$ of this portfolio. "
   ]
  },
  {
   "cell_type": "markdown",
   "id": "c06d5611e41f23c0",
   "metadata": {
    "collapsed": false,
    "jupyter": {
     "outputs_hidden": false
    }
   },
   "source": [
    "**Exercise 7.2** (A small world) Consider a world in which there are only two risky assets, A and B, and a risk-free asset F. The two risky assets are in equal supply in the market; that is, $M = \\frac{1}{2}(A +B)$. The following information is known: $r_F = 0.1, \\sigma_A^2 = 0.04, \\sigma_{AB} = 0.01, \\sigma_B^2 = 0.02$ and $\\overline{r_M} = 0.18$. \n",
    "\n",
    "a) Find a general expression (without substituting values) for $\\sigma_M^2, \\beta_A$ and $\\beta_B$. \\\n",
    "b) According to the CAPM, what are the numerical values of $\\overline{r_A}$ and $\\overline{r_B}$. "
   ]
  },
  {
   "cell_type": "markdown",
   "id": "a12a39366cc5f823",
   "metadata": {
    "collapsed": false,
    "jupyter": {
     "outputs_hidden": false
    }
   },
   "source": [
    "**Solution:**"
   ]
  },
  {
   "cell_type": "markdown",
   "id": "1eb26e934f7be382",
   "metadata": {
    "collapsed": false,
    "jupyter": {
     "outputs_hidden": false
    }
   },
   "source": [
    "**Exercise 7.3**(Bounds on returns) Consider a universe of just three securities. They have expected rates of return of 10%, 20%, and 10%, respectively. Two portfolios are known to lie on the minimum-variance set. They are defined by the portfolio weights\n",
    "$$\\mathbf{w} = \\begin{bmatrix}0.6 \\\\ 0.2 \\\\ 0.2\\end{bmatrix},\\;\\;\\;\\;\\mathbf{v} = \\begin{bmatrix}0.8 \\\\ -0.2 \\\\ 0.4\\end{bmatrix}$$\n",
    "It is also known that the market portfolio is efficient.\n",
    "\n",
    "(a) Given this information, what are the minimum and maximum possible values for the expected rate of return on the market portfolio? \\\n",
    "(b) Now suppose you are told that w represents the minimum-variance portfolio. Does this change your answers to part (a)?"
   ]
  }
 ],
 "metadata": {
  "kernelspec": {
   "display_name": "Python 3 (ipykernel)",
   "language": "python",
   "name": "python3"
  },
  "language_info": {
   "codemirror_mode": {
    "name": "ipython",
    "version": 3
   },
   "file_extension": ".py",
   "mimetype": "text/x-python",
   "name": "python",
   "nbconvert_exporter": "python",
   "pygments_lexer": "ipython3",
   "version": "3.11.5"
  }
 },
 "nbformat": 4,
 "nbformat_minor": 5
}
