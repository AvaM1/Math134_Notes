{
 "cells": [
  {
   "cell_type": "markdown",
   "source": [
    "# Mah 134C Week 7"
   ],
   "metadata": {
    "collapsed": false
   },
   "id": "ee6107766ef369d5"
  },
  {
   "cell_type": "code",
   "outputs": [],
   "source": [
    "import math\n",
    "import numpy as np\n",
    "from scipy.stats import norm\n",
    "def black_scholes_call(S_t, K, dt, r, sigma, delta):\n",
    "    d1 = (np.log(S_t / K) + (r -delta + 0.5 * sigma ** 2) * dt) / (sigma * np.sqrt(dt))\n",
    "    d2 = d1 - sigma * np.sqrt(dt)\n",
    "    call_price = S_t * np.exp(-delta * dt) * norm.cdf(d1) - K * np.exp(-r * dt) * norm.cdf(d2)\n",
    "    return call_price\n",
    "\n",
    "def black_scholes_put(S_t, K, dt, r, sigma, delta):\n",
    "    d1 = (np.log(S_t / K) + (r -delta + 0.5 * sigma ** 2) * dt) / (sigma * np.sqrt(dt))\n",
    "    d2 = d1 - sigma * np.sqrt(dt)\n",
    "    call_price = - S_t * np.exp(-delta * dt) * norm.cdf(-d1) + K * np.exp(-r * dt) * norm.cdf(-d2)\n",
    "    return call_price\n",
    "\n",
    "def call_Delta(S_t, K, dt, r, sigma, delta):\n",
    "    d1 = (np.log(S_t / K) + (r -delta + 0.5 * sigma ** 2) * dt) / (sigma * np.sqrt(dt))  \n",
    "    return np.exp(-delta * dt) * norm.cdf(d1)\n",
    "\n",
    "def put_Delta(S_t, K, dt, r, sigma, delta):\n",
    "    d1 = (np.log(S_t / K) + (r -delta + 0.5 * sigma ** 2) * dt) / (sigma * np.sqrt(dt))  \n",
    "    return -np.exp(-delta * dt) * norm.cdf(-d1)\n",
    "\n",
    "def Gamma(S_t, K, dt, r, sigma, delta):\n",
    "    d1 = (np.log(S_t / K) + (r -delta + 0.5 * sigma ** 2) * dt) / (sigma * np.sqrt(dt))\n",
    "    return np.exp(-delta * dt) * norm.pdf(d1)/(S_t * sigma * np.sqrt(dt)) \n",
    "\n",
    "def call_Theta(S_t, K, dt, r, sigma, delta):\n",
    "    d1 = (np.log(S_t / K) + (r -delta + 0.5 * sigma ** 2) * dt) / (sigma * np.sqrt(dt))\n",
    "    d2 = d1 - sigma * np.sqrt(dt)\n",
    "    return (K * np.exp(-r*dt) * sigma * norm.pdf(d2))/ (2 * np.sqrt(dt)) \n",
    "\n",
    "def put_Theta(S_t, K, dt, r, sigma, delta):\n",
    "    d1 = (np.log(S_t / K) + (r -delta + 0.5 * sigma ** 2) * dt) / (sigma * np.sqrt(dt))\n",
    "    d2 = d1 - sigma * np.sqrt(dt)\n",
    "    return call_Theta(S_t, K, dt, r, sigma, delta) + r * K * np.exp(-r*dt) - delta * S_t * np.exp(-delta * dt)"
   ],
   "metadata": {
    "collapsed": false,
    "ExecuteTime": {
     "end_time": "2024-05-14T21:11:49.190074Z",
     "start_time": "2024-05-14T21:11:49.178876Z"
    }
   },
   "id": "38117a699fe49553",
   "execution_count": 13
  },
  {
   "cell_type": "markdown",
   "source": [
    "**Quiz 6.1** \\\n",
    "Consider a 50-strike European call option with the risk-free annual continuously compounded interest rate r = 7%,  volatility $\\sigma$ = 0.25, and the underlying stock price S = 48.00.  Assume the stock pays a continuous dividend $\\delta$ = 2.0% and the option expires in 60 days.\n",
    "\n",
    "You sell 1 call option today. What is the profit or loss after 5 days if the stock price rises to 50.00 while $r,\\delta, \\sigma$ remained unchanged?\n",
    "\n",
    "Please use the Black-Scholes option pricing model, rounded to the nearest cent, for all numerical option prices."
   ],
   "metadata": {
    "collapsed": false
   },
   "id": "aa5b580e31517b20"
  },
  {
   "cell_type": "code",
   "outputs": [
    {
     "name": "stdout",
     "output_type": "stream",
     "text": [
      "The value of our portfolio today is -1.27\n",
      "The value of our portfolio after 5 days is -2.11\n",
      "The profit is -0.84\n"
     ]
    },
    {
     "data": {
      "text/plain": "0.8636930984893377"
     },
     "execution_count": 8,
     "metadata": {},
     "output_type": "execute_result"
    }
   ],
   "source": [
    "print(f\"The value of our portfolio today is {-black_scholes_call(48, 50, 60/365, 0.07, 0.25, 0.02):.2f}\")\n",
    "print(f\"The value of our portfolio after 5 days is {-black_scholes_call(50, 50, 55/365, 0.07, 0.25, 0.02):.2f}\")\n",
    "print(f\"The profit is {black_scholes_call(48, 50, 60/365, 0.07, 0.25, 0.02)-black_scholes_call(50, 50, 55/365, 0.07, 0.25, 0.02):.2f}\")\n",
    "call_Delta(48, 50, 60/365, 0.07, 0.25, 0.02) * 2 + 0.5 * Gamma(48,50,60/365, 0.07, 0.25, 0.02) * 4 + call_Theta(48,50,60/365, 0.07, 0.25, 0.02) * -5/365"
   ],
   "metadata": {
    "collapsed": false,
    "ExecuteTime": {
     "end_time": "2024-05-14T20:13:54.723869Z",
     "start_time": "2024-05-14T20:13:54.715542Z"
    }
   },
   "id": "df4ae7ac9bab8098",
   "execution_count": 8
  },
  {
   "cell_type": "markdown",
   "source": [
    "**Quiz 6.2**\n",
    "Consider a 60-strike European call option with the risk-free annual continuously compounded interest rate r = 7%, volatility $\\sigma$ = 0.28, and the underlying stock price S = 62.00.  Assume the stock pays a continuous dividend $\\delta$ = 1.0% and the option expires in 73 days.\n",
    "\n",
    "You buy 1 call option today.   What is the profit or loss if the stock price immediately rises to 63.00 while r, $\\delta$, and $\\sigma$ remained unchanged?\n",
    "\n",
    "Please use the Black-Scholes option pricing model, rounded to the nearest cent, for all numerical option prices."
   ],
   "metadata": {
    "collapsed": false
   },
   "id": "da2fb4ccdb72979a"
  },
  {
   "cell_type": "code",
   "outputs": [
    {
     "name": "stdout",
     "output_type": "stream",
     "text": [
      "The profit is 0.68\n"
     ]
    },
    {
     "data": {
      "text/plain": "0.6850162687847823"
     },
     "execution_count": 11,
     "metadata": {},
     "output_type": "execute_result"
    }
   ],
   "source": [
    "print(f\"The profit is {black_scholes_call(63, 60, 73/365, 0.07, 0.28, 0.01) - black_scholes_call(62, 60, 73/365, 0.07, 0.28, 0.01):.2f}\")\n",
    "call_Delta(62, 60, 73/365, 0.07, 0.28, 0.01) * 1 + 0.5 * Gamma(62,60,73/365, 0.07, 0.28, 0.01) * 1"
   ],
   "metadata": {
    "collapsed": false,
    "ExecuteTime": {
     "end_time": "2024-05-14T20:18:34.140308Z",
     "start_time": "2024-05-14T20:18:34.123734Z"
    }
   },
   "id": "baccacbe301f7a9a",
   "execution_count": 11
  },
  {
   "cell_type": "markdown",
   "source": [
    "**Quiz 6.3**\n",
    "A delta-hedged portfolio $\\Pi$ has a portfolio delta equal to zero:\n",
    "$$\\frac{d\\Pi}{dS} = 0$$\n",
    "\n",
    "What is the total dollar cost to create a delta-hedged portfolio that includes a long stock position and 200 short European call options, rounded to the nearest integer dollar?  \n",
    "\n",
    "You are free to choose the number of shares of stock you are long in order to make the portfolio delta equal to zero.  You are allowed to hold a fractional number of shares of stock in the portfolio.\n",
    "\n",
    "Assume the call options are priced at 4.16, the call option delta is 0.7644, and the stock price is 73.00."
   ],
   "metadata": {
    "collapsed": false
   },
   "id": "51dc36ff8926b126"
  },
  {
   "cell_type": "code",
   "outputs": [
    {
     "name": "stdout",
     "output_type": "stream",
     "text": [
      " The total dollar cost to create the Delta-hedged portfolio is 10328\n"
     ]
    }
   ],
   "source": [
    "print(f\" The total dollar cost to create the Delta-hedged portfolio is {-(-200 * 0.7644) * 73 - 200 * 4.16:.0f}\")"
   ],
   "metadata": {
    "collapsed": false,
    "ExecuteTime": {
     "end_time": "2024-05-14T20:26:11.603691Z",
     "start_time": "2024-05-14T20:26:11.596625Z"
    }
   },
   "id": "7175d2194f8a2ce1",
   "execution_count": 14
  },
  {
   "cell_type": "markdown",
   "source": [
    "**Quiz 6.4**\n",
    "\n",
    "Assume a stock has price S = 33.00, volatility $\\sigma$ = 0.32,  and pays continuous dividends at a rate of 1% per year. The risk-free annual continuously compounded interest rate r is 6%.\n",
    "\n",
    "You sell short 100 35-strike European call options on this stock with 68 days until expiration.\n",
    "\n",
    "You also buy or sell shares of stock to delta-hedge your call option position, so that your total portfolio delta is zero:\n",
    "$$\\frac{d\\Pi}{dS} = 0$$\n",
    "\n",
    "You are free to choose the number of shares of stock you buy or sell  in order to make the portfolio delta equal to zero.  You are allowed to hold a fractional number of shares of stock in the portfolio.\n",
    "\n",
    "Please use the Black-Scholes option pricing model, rounded to the nearest cent, for all numerical option prices.\n",
    "\n",
    "What is your overnight profit or loss if the stock price rises to 34.50? "
   ],
   "metadata": {
    "collapsed": false
   },
   "id": "428eb97f1d34262c"
  },
  {
   "cell_type": "code",
   "outputs": [
    {
     "name": "stdout",
     "output_type": "stream",
     "text": [
      "We need to buy 38.54 units of stocks for delta hedged portfolio. The cost is 1271.75\n",
      "The profit from long position on the stock is 57.81\n",
      "The profit from short position call options is -65.69\n",
      "The interested we paid is 0.21\n",
      "The profit is -8.09\n"
     ]
    }
   ],
   "source": [
    "print(f\"We need to buy {100 * call_Delta(33, 35, 68/365, 0.06, 0.32, 0.01):.2f} units of stocks for delta hedged portfolio. The cost is {100 * call_Delta(33, 35, 68/365, 0.06, 0.32, 0.01) * 33:.2f}\")\n",
    "print(f\"The profit from long position on the stock is {1.5 * 100 * call_Delta(33, 35, 68/365, 0.06, 0.32, 0.01):.2f}\")\n",
    "print(f\"The profit from short position call options is {100 * (black_scholes_call(33, 35, 68/365, 0.06, 0.32, 0.01) - black_scholes_call(34.5, 35, 67/365, 0.06, 0.32, 0.01)):.2f}\")\n",
    "print(f\"The interested we paid is {100 * call_Delta(33, 35, 68/365, 0.06, 0.32, 0.01) * 33 * (np.exp(0.06 * 1/356)-1):.2f}\")\n",
    "\n",
    "print(f\"The profit is {1.5 * 100 * call_Delta(33, 35, 68/365, 0.06, 0.32, 0.01) + 100 * (black_scholes_call(33, 35, 68/365, 0.06, 0.32, 0.01) - black_scholes_call(34.5, 35, 67/365, 0.06, 0.32, 0.01)) - 100 * call_Delta(33, 35, 68/365, 0.06, 0.32, 0.01) * 33 * (np.exp(0.06 * 1/365)-1):.2f}\")"
   ],
   "metadata": {
    "collapsed": false,
    "ExecuteTime": {
     "end_time": "2024-05-14T21:38:30.575389Z",
     "start_time": "2024-05-14T21:38:30.562277Z"
    }
   },
   "id": "19bc3f7f8533dcbd",
   "execution_count": 38
  },
  {
   "cell_type": "markdown",
   "source": [
    "**Quiz 6.5**\n",
    "In this problem we are given that the stock price S = 40, volatility $\\sigma$ = 30%, risk-free annual continuously compounded interest rate r = 8%, and continuous dividend rate $\\delta = 0$. Suppose you sell 100 45-strike European call options with 91 days to expiration.\n",
    "\n",
    "You also buy or sell shares of stock to delta-hedge your call option position, so that your total portfolio delta is zero:\n",
    "$$\\frac{d\\Pi}{dS} = 0$$\n",
    "\n",
    "You are free to choose the number of shares of stock you buy or sell in order to make the portfolio delta equal to zero.  You are allowed to hold a fractional number of shares of stock in the portfolio.\n",
    "\n",
    "Please use the Black-Scholes option pricing model, rounded to the nearest cent, for all numerical option prices.\n",
    "\n",
    "What is your overnight profit / loss if the stock price tomorrow is 39? "
   ],
   "metadata": {
    "collapsed": false
   },
   "id": "8a1c356c04164f34"
  },
  {
   "cell_type": "code",
   "outputs": [
    {
     "name": "stdout",
     "output_type": "stream",
     "text": [
      "We need to buy 28.15 units of stocks for delta hedged portfolio. The cost is 1126.19\n",
      "The old option price is 0.71\n",
      "The new option price is 0.97\n",
      "The change in the call option price is 0.26\n",
      "The profit from long position on the stock is -28.15\n",
      "The profit from the short position on the call options is 26\n",
      "The interest paid is 0.25\n",
      "The profit is -2.38\n"
     ]
    }
   ],
   "source": [
    "print(f\"We need to buy {100 *  call_Delta(40, 45, 91/365, 0.08, 0.3, 0):.2f} units of stocks for delta hedged portfolio. The cost is {100 * call_Delta(40, 45, 91/365, 0.08, 0.3, 0) * 40:.2f}\")\n",
    "print(f\"The old option price is {black_scholes_call(39, 45, 90/365, 0.08, 0.3, 0):.2f}\")\n",
    "print(f\"The new option price is {black_scholes_call(40, 45, 91/365, 0.08, 0.3, 0):.2f}\")\n",
    "print(f\"The change in the call option price is {0.26}\")\n",
    "print(f\"The profit from long position on the stock is {-1 * 100 * call_Delta(40, 45, 91/365, 0.08, 0.3, 0):.2f}\")\n",
    "print(f\"The profit from the short position on the call options is 26\")\n",
    "print(f\"The interest paid is {1126.19 * (np.exp(0.08/365)-1):.2f}\")\n",
    "print(f\"The profit is {-2.38}\")"
   ],
   "metadata": {
    "collapsed": false,
    "ExecuteTime": {
     "end_time": "2024-05-14T21:37:21.019124Z",
     "start_time": "2024-05-14T21:37:21.010911Z"
    }
   },
   "id": "d4eee47d17bab4ea",
   "execution_count": 36
  },
  {
   "cell_type": "markdown",
   "source": [
    "**Quiz 6.6**\n",
    "In this problem we are given that S = 40, volatility $\\sigma$ = 30%, risk-free annual continuously compounded interest rate r = 8%, and continuous dividend rate $\\delta = 0$.  Suppose you sell 100 45-strike European call options with 91 days to expiration.\n",
    "\n",
    "You also buy or sell shares of stock to delta-hedge your call option position, so that your total portfolio delta is zero:\n",
    "$$\\frac{d\\Pi}{dS} = 0$$\n",
    "\n",
    "You are free to choose the number of shares of stock you buy or sell in order to make the portfolio delta equal to zero.  You are allowed to hold a fractional number of shares of stock in the portfolio.\n",
    "\n",
    "Please use the Black-Scholes option pricing model, rounded to the nearest cent, for all numerical option prices.\n",
    "\n",
    "What is your overnight profit / loss if the stock price tomorrow is 41? "
   ],
   "metadata": {
    "collapsed": false
   },
   "id": "8bda85c00362eded"
  },
  {
   "cell_type": "markdown",
   "source": [
    "**Quiz 6.7**\n",
    "In this problem we are given that the stock price S = 250, volatility $\\sigma$ = 50%,  risk-free annual continuously compounded interest rate r = 3%, and the continuous dividend rate $\\delta = 0$.\n",
    "\n",
    "Suppose you sell 100 at-the-money European put options with 100 days to expiration.\n",
    "\n",
    "You also buy or sell shares of stock to delta-hedge your put option position, so that your total portfolio delta is zero:\n",
    "$$\\frac{d\\Pi}{dS} = 0$$\n",
    "\n",
    "You are free to choose the number of shares of stock you buy or sell in order to make the portfolio delta equal to zero.  How many shares of stock should you buy or sell?  \n",
    "\n",
    "Round your answer to the nearest integer number of shares.\n",
    "\n",
    "Please assume the Black-Scholes option pricing model holds and that there are no arbitrage opportunities."
   ],
   "metadata": {
    "collapsed": false
   },
   "id": "6d211f9116f8901c"
  },
  {
   "cell_type": "markdown",
   "source": [
    "**Quiz 6.8**\n",
    "Consider a $50-strike European put option on a stock that pays a 2.0% continuous dividend, has volatility σ = 0.25, and has a current price of  48.00. The risk-free continuously compounded interest rate r = 7%.\n",
    "\n",
    " The put option expires in 60 days from today. You sell 1 put option today.\n",
    "\n",
    " What your profit or loss after 5 days if the stock price increases to 50.00 during this time period, while the volatility, interest rate, and dividends remain unchanged ?  \n",
    "\n",
    "Please round your answer to the nearest cent.\n",
    "\n",
    "Please use the Black-Scholes option pricing model, rounded to the nearest cent, for all numerical option prices."
   ],
   "metadata": {
    "collapsed": false
   },
   "id": "8293e687d8000c1f"
  },
  {
   "cell_type": "markdown",
   "source": [
    "**Quiz 6.10**\n",
    "In this problem we are given that the stock price S = 250, volatility $\\sigma$ = 50%,  risk-free annual continuously compounded interest rate r = 3%, and the continuous dividend rate $\\delta$ = 2%.\n",
    "\n",
    "Suppose you buy 1 at-the-money European put option with 1 year to expiration. If all variables are constant except the passage of time, what will be the approximate percentage change in the value of your long put option position over 10 days?\n",
    "\n",
    "Please assume the Black-Scholes option pricing model holds and that there are no arbitrage opportunities.  "
   ],
   "metadata": {
    "collapsed": false
   },
   "id": "33164f42a4c2a349"
  }
 ],
 "metadata": {
  "kernelspec": {
   "display_name": "Python 3",
   "language": "python",
   "name": "python3"
  },
  "language_info": {
   "codemirror_mode": {
    "name": "ipython",
    "version": 2
   },
   "file_extension": ".py",
   "mimetype": "text/x-python",
   "name": "python",
   "nbconvert_exporter": "python",
   "pygments_lexer": "ipython2",
   "version": "2.7.6"
  }
 },
 "nbformat": 4,
 "nbformat_minor": 5
}
