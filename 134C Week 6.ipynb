{
 "cells": [
  {
   "cell_type": "markdown",
   "source": [
    "# Math 134C Week 6"
   ],
   "metadata": {
    "collapsed": false
   },
   "id": "f8cede37eedb7710"
  },
  {
   "cell_type": "code",
   "execution_count": 3,
   "id": "initial_id",
   "metadata": {
    "collapsed": true,
    "ExecuteTime": {
     "end_time": "2024-05-07T19:22:33.544445Z",
     "start_time": "2024-05-07T19:22:32.900780Z"
    }
   },
   "outputs": [],
   "source": [
    "import math\n",
    "import numpy as np\n",
    "from scipy.stats import norm\n",
    "def black_scholes_call(S_t, K, dt, r, sigma, delta):\n",
    "    d1 = (np.log(S_t / K) + (r -delta + 0.5 * sigma ** 2) * dt) / (sigma * np.sqrt(dt))\n",
    "    d2 = d1 - sigma * np.sqrt(dt)\n",
    "    call_price = S_t * np.exp(-delta * dt) * norm.cdf(d1) - K * np.exp(-r * dt) * norm.cdf(d2)\n",
    "    return call_price\n",
    "\n",
    "def black_scholes_put(S_t, K, dt, r, sigma, delta):\n",
    "    d1 = (np.log(S_t / K) + (r -delta + 0.5 * sigma ** 2) * dt) / (sigma * np.sqrt(dt))\n",
    "    d2 = d1 - sigma * np.sqrt(dt)\n",
    "    call_price = - S_t * np.exp(-delta * dt) * norm.cdf(-d1) + K * np.exp(-r * dt) * norm.cdf(-d2)\n",
    "    return call_price\n",
    "\n",
    "def call_Delta(S_t, K, dt, r, sigma, delta):\n",
    "    d1 = (np.log(S_t / K) + (r -delta + 0.5 * sigma ** 2) * dt) / (sigma * np.sqrt(dt))  \n",
    "    return np.exp(-delta * dt) * norm.cdf(d1)\n",
    "\n",
    "def put_Delta(S_t, K, dt, r, sigma, delta):\n",
    "    d1 = (np.log(S_t / K) + (r -delta + 0.5 * sigma ** 2) * dt) / (sigma * np.sqrt(dt))  \n",
    "    return np.exp(-delta * dt) * norm.cdf(-d1)\n",
    "\n",
    "def Gamma(S_t, K, dt, r, sigma, delta):\n",
    "    d1 = (np.log(S_t / K) + (r -delta + 0.5 * sigma ** 2) * dt) / (sigma * np.sqrt(dt))\n",
    "    return np.exp(-delta * dt) * norm.pdf(d1)/(S_t * sigma * np.sqrt(dt)) \n",
    "\n",
    "def call_Theta(S_t, K, dt, r, sigma, delta):\n",
    "    d1 = (np.log(S_t / K) + (r -delta + 0.5 * sigma ** 2) * dt) / (sigma * np.sqrt(dt))\n",
    "    d2 = d1 - sigma * np.sqrt(dt)\n",
    "    return (K * np.exp(-r*dt) * sigma * norm.pdf(d2))/ (2 * np.sqrt(dt)) \n",
    "\n",
    "def put_Theta(S_t, K, dt, r, sigma, delta):\n",
    "    d1 = (np.log(S_t / K) + (r -delta + 0.5 * sigma ** 2) * dt) / (sigma * np.sqrt(dt))\n",
    "    d2 = d1 - sigma * np.sqrt(dt)\n",
    "    return call_Theta(S_t, K, dt, r, sigma, delta) + r * K * np.exp(-r*dt) - delta * S_t * np.exp(-delta * dt)"
   ]
  },
  {
   "cell_type": "markdown",
   "source": [
    "# Black-Scholes Formula\n",
    "Assume that the risk-free rate is $r$. Then the call option with strike $K$, mature in time T, on a stock with price $S$, volatility $\\sigma$, continuous dividend yield $\\delta$ has price \n",
    "$$C = Se^{-\\delta T}N(d_1)-Ke^{-rT}N(d_2)$$\n",
    "$$d_1 = \\frac{\\ln(S/K)+(r-\\delta+\\frac{1}{2}\\sigma^2)T}{\\sigma\\sqrt{T}}$$\n",
    "$$d_2 = d_1-\\sigma\\sqrt{T}$$\n",
    "\n",
    "The corresponding put option has price\n",
    "$$P = Ke^{-rT}N(-d_2)-Se^{-\\delta T}N(-d_1)$$\n",
    "\n",
    "# Greeks\n",
    "$\\Delta = \\frac{dP}{dS}$. The sensitivity to the change in stock price. We have \n",
    "$$\\Delta_C = e^{-\\delta T}N(d_1) > 0$$\n",
    "$$\\Delta_P = -e^{-\\delta T}N(-d_1) < 0$$\n",
    "\n",
    "$\\Gamma = \\frac{d^2P}{dS^2}$\n",
    "$$\\Gamma_C = \\Gamma_P = \\frac{e^{-\\delta T} N'(d_1)}{S\\sigma\\sqrt{T}}$$\n",
    "\n",
    "$\\Theta = \\frac{dP}{dt}$\n",
    "$$\\Theta_C = \\frac{Ke^{-r(T-t)}N'(d_2)\\sigma}{2\\sqrt{T-t}}$$\n",
    "\n",
    "$Vega = \\frac{dP}{d\\sigma}$\n",
    "$$Vega_C = Vega_P = Se^{-\\delta T}N'(d_1)\\sqrt{T} > 0$$\n",
    "\n",
    "$\\rho = \\frac{dP}{dr}$\n",
    "$$\\rho_C = TKe^{-rT}N(d_2)$$\n",
    "$$\\rho_P = -TKe^{-rT}N(-d_2)$$\n",
    "\n"
   ],
   "metadata": {
    "collapsed": false
   },
   "id": "72c08531451af328"
  },
  {
   "cell_type": "markdown",
   "source": [
    "**Quiz 5.1**\\\n",
    "Assume the Black-Scholes framework for option pricing holds.\n",
    "\n",
    "For a particular stock you are given:\n",
    "- The stock pays no dividends.\n",
    "- The volatility of a stock is 40%.\n",
    "- The delta of a one-year 60-strike European call option on the stock is 0.43.\n",
    "\n",
    "Calculate the delta of a one-year 70-strike European call option."
   ],
   "metadata": {
    "collapsed": false
   },
   "id": "d1ba2f9c59f266dc"
  },
  {
   "cell_type": "markdown",
   "source": [
    "**Quiz 5.2**\n",
    "The table below lists the prices and Greek measures of two European call options on stock X.\n",
    "\n",
    "![title](img/table.png)\n",
    "\n",
    "The current price of stock X is 46.\n",
    "\n",
    "A call option bull spread consists of a portfolio of options in which a low-strike price call option is purchased and a high-strike price call option is sold.  \n",
    "\n",
    "A bull spread is constructed from the two call options in the table. Determine the value of vega for the call option bull spread position."
   ],
   "metadata": {
    "collapsed": false
   },
   "id": "3c29b5070a9bd3a7"
  },
  {
   "cell_type": "markdown",
   "source": [
    "**Quiz 5.3**\n",
    "Consider one-year 105-strike European call option and put option on a stock.\n",
    "\n",
    "You are given:\n",
    "\n",
    "- The current price of the stock is 100.\n",
    "- The stock pays dividends continuously at a rate proportional to its price. The dividend yield is 5%.\n",
    "- The continuously compounded risk-free annual interest rate is 10%.\n",
    "- The theta of the call option is -7.16.\n",
    "- An investor creates a portfolio by buying 2 call options and shorting 3 put options.\n",
    "\n",
    "Calculate the theta of the portfolio."
   ],
   "metadata": {
    "collapsed": false
   },
   "id": "e514247367b3d113"
  },
  {
   "cell_type": "markdown",
   "source": [
    "**Quiz 5.4**\n",
    "Assume the Black-Scholes framework for option pricing holds.\n",
    "\n",
    "You are given:\n",
    "\n",
    "- The current price of a stock is 80\n",
    "- The stock does not pay dividends\n",
    "- The stock's volatility is 20%\n",
    "- The continuously compounded risk-free interest rate is 5%\n",
    "- A straddle is created by buying a call option and a put option with the same strike price, underlying stock, and expiration date.  \n",
    "\n",
    "Calculate the delta of a 100-strike price 1-year straddle created with European options."
   ],
   "metadata": {
    "collapsed": false
   },
   "id": "57f60857c0bc162e"
  },
  {
   "cell_type": "code",
   "outputs": [],
   "source": [
    "# call_Delta(80,100, 1, 0.05, 0.2, 0) - put_Delta(80,100, 1, 0.05, 0.2, 0)"
   ],
   "metadata": {
    "collapsed": false,
    "ExecuteTime": {
     "end_time": "2024-05-07T19:24:53.872872Z",
     "start_time": "2024-05-07T19:24:53.859459Z"
    }
   },
   "id": "90e416aa9410c526",
   "execution_count": 13
  },
  {
   "cell_type": "markdown",
   "source": [
    "**Quiz 5.6**\n",
    "Assume the Black-Scholes framework for option pricing holds.\n",
    "\n",
    "Consider a European call option and a European put option on a nondividend-paying stock. You are given:\n",
    "\n",
    "- The options will expire in two years.\n",
    "- The strike prices for the options are the same.\n",
    "- The premiums for the options are the same.\n",
    "- The number of shares of stock needed to replicate the call option is 0.57.\n",
    "\n",
    "Determine the volatility of the stock."
   ],
   "metadata": {
    "collapsed": false
   },
   "id": "d840fe24111d9ec2"
  },
  {
   "cell_type": "markdown",
   "source": [
    "**Quiz 5.7**\n",
    "Assume the Black-Scholes framework for option pricing holds.\n",
    "\n",
    "You are given:\n",
    "\n",
    "- The current price of a nondividend-paying stock is 43.\n",
    "- The volatility of the stock is 20%.\n",
    "- The continuously compounded risk-free interest rate is 5%.\n",
    "- Consider a 5-month at-the-money European put option on the stock.\n",
    "\n",
    "Suppose a change in the stock price occurs which causes the price of the put option to rise by 0.25.\n",
    "\n",
    "Use the Delta-Gamma approximation to compute an estimate for the new stock price."
   ],
   "metadata": {
    "collapsed": false
   },
   "id": "ecb856082ebb7642"
  },
  {
   "cell_type": "markdown",
   "source": [
    "**Quiz 5.8**\n",
    "Assume the Black-Scholes framework for option pricing holds.\n",
    "\n",
    "You are considering buying a stock option.\n",
    "\n",
    "You are given the following information at time t=0:\n",
    "\n",
    "- The stock price S(t=0) is 100.\n",
    "- The option price is 5.80.\n",
    "- The option delta is –0.422.\n",
    "- The option theta measured in dollars per year is –48.253 per year.\n",
    "- The option gamma is 0.020\n",
    "- You decide to buy the option at time t=0 using the www.interactivebrokers.com electronic trading application.\n",
    "\n",
    "Two days pass and you find that the option price increases to 6.90 while the implied volatility remains constant and the stock price declines to S(t=2) which is less than S(t=0).\n",
    "\n",
    "Using the Delta-Gamma-Theta approximation, compute an estimate for the new stock price S(t=2)."
   ],
   "metadata": {
    "collapsed": false
   },
   "id": "c16d549b4a75e5a4"
  },
  {
   "cell_type": "markdown",
   "source": [
    "**Quiz 5.9**\n",
    "Assume the Black-Scholes framework for option pricing holds.\n",
    "\n",
    "You are given:\n",
    "\n",
    "- The current price of the stock is 40.00.\n",
    "- The stock does not pay dividends.\n",
    "- The continuously compounded annual risk-free interest rate is 5%.\n",
    "- Consider a 43-strike European call option on the stock that expires in one year. If the stock price rises by 1.00, the option price rises by 0.50.\n",
    "\n",
    "Calculate the volatility of the stock."
   ],
   "metadata": {
    "collapsed": false
   },
   "id": "7566d8d6bafac13e"
  },
  {
   "cell_type": "markdown",
   "source": [
    "**Quiz 5.10**\n",
    "The price of Apple stock (ticker: AAPL) increased over 32\\%  in the first 4 months of 2019, rising from 157.92 on January 2, 2019 to 209.15 on May 3, 2019.\n",
    "\n",
    "You think the price of AAPL will continue to rise and decide to buy a 1-year at-the-money call option on AAPL for 26.82.\n",
    "\n",
    "If you are correct and the price of AAPL continues to rise steadily over time, is it possible to lose money on the long call option position? \n",
    "\n",
    "a) Yes, due to negative theta and positive vega \n",
    "b) Yes, due to positive theta and negative vega \n",
    "c) No, due to positive theta and positive vega \n",
    "d) No, due to negative theta and positive vega "
   ],
   "metadata": {
    "collapsed": false
   },
   "id": "843c3a951b8109b4"
  }
 ],
 "metadata": {
  "kernelspec": {
   "display_name": "Python 3",
   "language": "python",
   "name": "python3"
  },
  "language_info": {
   "codemirror_mode": {
    "name": "ipython",
    "version": 2
   },
   "file_extension": ".py",
   "mimetype": "text/x-python",
   "name": "python",
   "nbconvert_exporter": "python",
   "pygments_lexer": "ipython2",
   "version": "2.7.6"
  }
 },
 "nbformat": 4,
 "nbformat_minor": 5
}
