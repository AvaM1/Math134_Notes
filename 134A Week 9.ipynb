{
 "cells": [
  {
   "cell_type": "markdown",
   "id": "d22d4f8b45752d6",
   "metadata": {
    "collapsed": false
   },
   "source": [
    "# Math 134A Week 9"
   ]
  },
  {
   "cell_type": "markdown",
   "id": "f7788813e5ca337",
   "metadata": {
    "collapsed": false
   },
   "source": [
    "**Exercise 7.4**(Quick CAPM derivation) Derive the CAPM formula for $\\overline{r}_k — r_f$ by using Equation (6.9) in Chapter 6. [Hint: Note that $\\sum_1^n \\sigma_{ik}w_i = \\text{cov}(r_k, r_M)$].  "
   ]
  },
  {
   "cell_type": "markdown",
   "id": "50842ae306cfe0cc",
   "metadata": {
    "collapsed": false
   },
   "source": [
    "# CAPM as pricing model\n",
    "Suppose that an asset is purchased at price $P$ (which is deterministic) and latter sold at price $Q$ (which is a random variable) in the future. Then, we have $r = \\frac{Q-P}{P}$, and $\\overline{r} - r_f = \\beta(\\overline{r_M}-r_f)$. Hence, we get \n",
    "$$P = \\frac{\\overline{Q}}{1+\\overline{r}} = \\frac{\\overline{Q}}{1+r_f+\\beta(\\overline{r_M}-r_f)}$$\n"
   ]
  },
  {
   "cell_type": "markdown",
   "id": "169f9bc35f7aaf4c",
   "metadata": {
    "collapsed": false
   },
   "source": [
    "**Exercise 7.10** (Little world CAPM) Suppose there are only two al assets with expected rates of return $\\overline{r_1} = 0.1, \\overline{r_2} = 0.2$ and covariances $\\sigma_1^2 = 0.04, \\sigma_2^2 = 0.09, \\sigma_{1,2} = 0.03$. The current risk-free rate is 0.05. \\\n",
    "(a) Find the one fund for this small market. \\\n",
    "(b) Now suppose that there is a new project with an expected payoff $\\overline{Q} = 10$ and covariances $\\sigma_Q^2 = 25, \\sigma_{Q,1} = 0.8, \\sigma_{Q,2} = 0.15$. Using the one fund as the market portfolio, what is the price of this project according to CAPM?"
   ]
  },
  {
   "cell_type": "markdown",
   "id": "938f86ab3fa93a45",
   "metadata": {
    "collapsed": false
   },
   "source": [
    "# Systematic Risk\n",
    "Let $\\varepsilon_i$ be the random variable such that the following equation is true\n",
    "$$r_i = r_f+\\beta_i(r_M-r_f)+\\varepsilon_i$$\n",
    "Assume the CAPM mode. Then taking expected value on both sides implies that $E[\\varepsilon_i] = 0$, and taking the covariance with $r_M$ implies that $Cov(r_M, \\varepsilon_i) = 0$. Thus, we have \n",
    "$$\\sigma_i^2 = \\beta_i^2\\sigma_M^2 + \\text{Var}(\\varepsilon_i)$$\n",
    "\n",
    "We call $\\beta_i^2\\sigma_M^2$ as the **systematic risk**, which is the risk associated to the market, and $\\text{Var}(\\varepsilon_i)$ as **non-systematic risk**, which is uncorrelated to the market and can be reduced by diversification. "
   ]
  },
  {
   "cell_type": "markdown",
   "id": "c2f06a642782f1b8",
   "metadata": {
    "collapsed": false
   },
   "source": [
    "**Example**\n",
    "Show that efficient portfolio has no non-systematic risk."
   ]
  },
  {
   "cell_type": "markdown",
   "id": "3d75ccbe12548b2",
   "metadata": {
    "collapsed": false
   },
   "source": [
    "**Example (Reducing the non-systematic risk by diversification)**\n",
    "Suppose that there are $n$ uncorrelated assets with identical non-systematic risk $\\text{Var}(\\epsilon)$ and identical expected rate of return $\\overline{r}$. Consider a portfolio with weights $\\frac{1}{n}$ in each of the assets. Compute the non-systematic risk of this portfolio, and show that the non-systematic risk of this portfolio goes to $0$ as $n\\rightarrow \\infty$. "
   ]
  },
  {
   "cell_type": "markdown",
   "id": "fbe499721e3e7b00",
   "metadata": {
    "collapsed": false
   },
   "source": [
    "**Exercise 7.11**(Risk analysis) Assume the market portfolio has expected rate of return $\\overline{r_M} = 0.12$ and standard deviation $\\sigma_M = 0.3$. The risk-free rate is $r_f = 0.02$. There is another stock, a, in the market with $\\overline{\\sigma_a} = 0.6, \\rho_{aM} = 0.1$.\n",
    "(a) Find $\\overline{r_a}$ and $\\beta_a$. \\\n",
    "(b) Anew asset, b, has the same expected return as a, but a standard deviation of $\\sigma_b = 0.8$. What is the non-systematic error of b? \\\n",
    "(c) Another asset, c, enters the market with $\\rho_c = 0.8$. What percentage of the risk of c is non-systematic?"
   ]
  }
 ],
 "metadata": {
  "kernelspec": {
   "display_name": "Python 3 (ipykernel)",
   "language": "python",
   "name": "python3"
  },
  "language_info": {
   "codemirror_mode": {
    "name": "ipython",
    "version": 3
   },
   "file_extension": ".py",
   "mimetype": "text/x-python",
   "name": "python",
   "nbconvert_exporter": "python",
   "pygments_lexer": "ipython3",
   "version": "3.11.5"
  }
 },
 "nbformat": 4,
 "nbformat_minor": 5
}
