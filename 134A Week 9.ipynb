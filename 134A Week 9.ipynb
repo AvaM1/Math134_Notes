{
 "cells": [
  {
   "cell_type": "markdown",
   "source": [
    "# Math 134A Week 9"
   ],
   "metadata": {
    "collapsed": false
   },
   "id": "d22d4f8b45752d6"
  },
  {
   "cell_type": "markdown",
   "source": [
    "**Exercise 7.4**(Quick CAPM derivation) Derive the CAPM formula for $\\overline{r}_k — r_f$ by using Equation (6.9) in Chapter 6. [Hint: Note that $\\sum_1^n \\sigma_{ik}w_i = \\text{cov}(r_k, r_M)$].  "
   ],
   "metadata": {
    "collapsed": false
   },
   "id": "f7788813e5ca337"
  },
  {
   "cell_type": "markdown",
   "source": [
    "# CAPM as pricing model\n",
    "Suppose that an asset is purchased at price $P$ (which is deterministic) and latter sold at price $Q$ (which is a random variable) in the future. Then, we have $r = \\frac{Q-P}{P}$, and $\\overline{r} - r_f = \\beta(\\overline{r_M}-r_f)$. Hence, we get \n",
    "$$P = \\frac{\\overline{Q}}{1+\\overline{r}} = \\frac{\\overline{Q}}{1+r_f+\\beta(\\overline{r_M}-r_f)}$$\n"
   ],
   "metadata": {
    "collapsed": false
   },
   "id": "50842ae306cfe0cc"
  },
  {
   "cell_type": "markdown",
   "source": [
    "**Exercise 7.10** (Little world CAPM) Suppose there are only two al assets with expected rates of return $\\overline{r_1} = 0.1, \\overline{r_2} = 0.2$ and covariances $\\sigma_1^2 = 0.04, \\sigma_2^2 = 0.09, \\sigma_{1,2} = 0.03$. The current risk-free rate is 0.05. \\\n",
    "(a) Find the one fund for this small market. \\\n",
    "(b) Now suppose that there is a new project with an expected payoff $\\overline{Q} = 10$ and covariances $\\sigma_Q^2 = 25, \\sigma_{Q,1} = 0.8, \\sigma_{Q,2} = 0.15$. Using the one fund as the market portfolio, what is the price of this project according to CAPM?"
   ],
   "metadata": {
    "collapsed": false
   },
   "id": "169f9bc35f7aaf4c"
  },
  {
   "cell_type": "markdown",
   "source": [
    "# Systematic Risk\n",
    "Let $\\varepsilon_i$ be the random variable such that the following equation is true\n",
    "$$r_i = r_f+\\beta_i(r_M-r_f)+\\varepsilon_i$$\n",
    "Assume the CAPM mode. Then taking expected value on both sides implies that $E[\\varepsilon_i] = 0$, and taking the covariance with $r_M$ implies that $Cov(r_M, \\varepsilon_i) = 0$. Thus, we have \n",
    "$$\\sigma_i^2 = \\beta_i^2\\sigma_M^2 + \\text{Var}(\\varepsilon_i)$$\n",
    "\n",
    "We call $\\beta_i^2\\sigma_M^2$ as the **systematic risk**, which is the risk associated to the market, and $\\text{Var}(\\varepsilon_i)$ as **non-systematic risk**, which is uncorrelated to the market and can be reduced by diversification. "
   ],
   "metadata": {
    "collapsed": false
   },
   "id": "938f86ab3fa93a45"
  },
  {
   "cell_type": "markdown",
   "source": [
    "**Example**\n",
    "Show that efficient portfolio has no non-systematic risk."
   ],
   "metadata": {
    "collapsed": false
   },
   "id": "c2f06a642782f1b8"
  },
  {
   "cell_type": "markdown",
   "source": [
    "**Example (Reducing the non-systematic risk by diversification)**\n",
    "Consider $n$ uncorrelated assets with identical non-systematic risk $\\text{Var}(\\epsilon)$, and a portfolio with weights $\\frac{1}{n}$ in each of the assets. Compute the non-systematic risk of this portfolio, and show that the non-systematic risk of this portfolio goes to $0$ as $n\\rightarrow \\infty$. "
   ],
   "metadata": {
    "collapsed": false
   },
   "id": "3d75ccbe12548b2"
  },
  {
   "cell_type": "markdown",
   "source": [
    "**Exercise 7.11**(Risk analysis) Assume the market portfolio has expected rate of return $\\overline{r_M} = 0.12$ and standard deviation $\\sigma_M = 0.3$. The risk-free rate is $r_f = 0.02$. There is another stock, a, in the market with $\\overline{\\sigma_a} = 0.6, \\rho_{am} = 0.1$.\n",
    "(a) Find $\\overline{r_a}$ and $\\beta_a$. \\\n",
    "(b) Anew asset, b, has the same expected return as a, but a standard deviation of $\\sigma_b = 0.8$. What is the non-systematic error of b? \\\n",
    "(c) Another asset, c, enters the market with $\\rho_c = 0.8$. What percentage of the risk of c is non-systematic?"
   ],
   "metadata": {
    "collapsed": false
   },
   "id": "fbe499721e3e7b00"
  },
  {
   "cell_type": "markdown",
   "source": [
    "**Exercise 7.15**(Singular) Suppose there are two stocks that are uncorrelated. Each of these has variance of 1, and there are expected returns are $\\overline{r_1}$ and $\\overline{r_2}$, respectively. The risk-free rate is $r_f$. Find the portfolio of weights $w_1$ and $w_2$ for the Markowitz (market) portfolio. Show that for some value of $r_f$ there is no Markowitz portfolio."
   ],
   "metadata": {
    "collapsed": false
   },
   "id": "d292087e1eebf719"
  }
 ],
 "metadata": {
  "kernelspec": {
   "display_name": "Python 3",
   "language": "python",
   "name": "python3"
  },
  "language_info": {
   "codemirror_mode": {
    "name": "ipython",
    "version": 2
   },
   "file_extension": ".py",
   "mimetype": "text/x-python",
   "name": "python",
   "nbconvert_exporter": "python",
   "pygments_lexer": "ipython2",
   "version": "2.7.6"
  }
 },
 "nbformat": 4,
 "nbformat_minor": 5
}
