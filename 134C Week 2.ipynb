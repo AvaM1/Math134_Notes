{
 "cells": [
  {
   "cell_type": "markdown",
   "source": [
    "# Math 134C Week 2"
   ],
   "metadata": {
    "collapsed": false
   },
   "id": "32f705c3bc74aaa0"
  },
  {
   "cell_type": "code",
   "outputs": [],
   "source": [
    "import math\n",
    "# r is the risk-free rate, F is a cash flow, and dT is the time that we get each cash flow\n",
    "def PV(F, dT, r):\n",
    "    pv = 0\n",
    "    if len(dT) != len(F):\n",
    "        print(\"Input Error\")\n",
    "        return 0\n",
    "    for n in range(0, len(F)):\n",
    "        pv += F[n] * math.exp(-r * dT[n])\n",
    "    return pv\n",
    "        \n",
    "# C_t is the price of call option, S_t is the current stock price, K is the strike, r is the risk-free rate, dt is time to expiration. D is the dividend of the stock, and dT is the time at which we receive the dividend. The delta is for the continuous dividend paying model. The function will return the price of the corresponding put option. \n",
    "def put_given_call(C_t, S_t, K, r, dt, D= None, dT = None, delta = 0):\n",
    "    if D is None: D = []\n",
    "    if dT is None: dT = []\n",
    "    return C_t - (S_t - PV(D, dT, r)) * math.exp(-delta * dt) + K * math.exp(-r * dt)\n",
    "\n",
    "def call_given_put(P_t, S_t, K, r, dt, D = None, dT = None, delta = 0):\n",
    "    if D is None: D = []\n",
    "    if dT is None: dT = []\n",
    "    return P_t + (S_t - PV(D, dT, r)) * math.exp(-delta * dt) - K * math.exp(-r * dt)"
   ],
   "metadata": {
    "collapsed": false,
    "ExecuteTime": {
     "end_time": "2024-04-09T18:31:38.980681Z",
     "start_time": "2024-04-09T18:31:38.963228Z"
    }
   },
   "id": "da2d0cf499ebfca6",
   "execution_count": 2
  },
  {
   "cell_type": "markdown",
   "source": [
    "## How does strike price influence the price of options\n",
    "We consider the option on a non-dividend paying stock for simplicity. \n",
    "For two options with the same expiry date but different strike price $K_1 \\leq K_2$, we have \n",
    "$$C_t(K_1)\\geq C_t(K_2)$$ \n",
    "$$P_t(K_1)\\leq P_t(K_2)$$\n",
    "Moreover, the difference between the price of those two options should be less than or equal to the difference of their strike price. we have \n",
    "$$C_t(K_1) - C_t(K_2)\\leq K_2-K_1$$\n",
    "$$P_t(K_2) - P_t(K_1)\\leq K_2-K_1$$"
   ],
   "metadata": {
    "collapsed": false
   },
   "id": "8b1e6abd76bbcbf4"
  },
  {
   "cell_type": "markdown",
   "source": [
    "## Arbitrage opportunity for mispriced options\n",
    "**Exercise 9.8:** Consider the call and put prices are given by \n",
    "\n",
    "| Strike    | 50        | 55 |\n",
    "|-----------|-----------| --- |\n",
    "| Call premium | 9 | 10 | \n",
    "| Put premium| 7 | 6 |\n",
    "\n",
    "What no-arbitrage property is violated? What spread position would you use to effect arbitrage? Demonstrate that the spread position is an arbitrage."
   ],
   "metadata": {
    "collapsed": false
   },
   "id": "30b824afa913de92"
  },
  {
   "cell_type": "markdown",
   "source": [
    "**Exercise 9.9: Suppose call and put prices are given by**\n",
    "\n",
    "| Strike    | 50 | 55 |\n",
    "|-----------|----|----|\n",
    "| Call premium | 16 | 10 | \n",
    "| Put premium| 7  | 14 |\n",
    "\n",
    "What no-arbitrage property is violated? What spread position would you use to effect arbitrage? Demonstrate that the spread position is an arbitrage."
   ],
   "metadata": {
    "collapsed": false
   },
   "id": "6834ae2cabe89852"
  },
  {
   "cell_type": "markdown",
   "source": [
    "**Quiz 1:**\n",
    "Jafee Corp. common stock is priced at 36.50 per share. The company just paid its 0.50 quarterly dividend. The continuously compounded risk free annual interest rate is 6.0\\%. A 35.00 strike European call, maturing in 6 months, sells for 3.20. What is the price of a 6-month, 35.00 strike put option?"
   ],
   "metadata": {
    "collapsed": false
   },
   "id": "ecb5c6ad7604eab1"
  },
  {
   "cell_type": "markdown",
   "source": [
    "**Quiz 2:**\n",
    "Rankin Corp. common stock is priced at 74.20 per share. The company just paid its 1.10 quarterly dividend. The continuously compounded risk free annual interest rate is 6.0\\%. A European call option on Rankin Corp. with a strike price of 70.00, maturing in 6 months, sells for 6.50. How much arbitrage profit/loss is made by shorting a 70.00 strike price European put option on Rankin Corp., which is priced at 2.50?"
   ],
   "metadata": {
    "collapsed": false
   },
   "id": "2e91f2d62a242297"
  },
  {
   "cell_type": "code",
   "outputs": [],
   "source": [
    "# put_given_call(C_t = 6.5, S_t = 74.2, K = 70, r = 0.06, dt = 0.5, D = [1.1, 1.1], dT = [0.25, 0.5])"
   ],
   "metadata": {
    "collapsed": false,
    "ExecuteTime": {
     "end_time": "2024-04-09T18:46:20.316888Z",
     "start_time": "2024-04-09T18:46:20.303260Z"
    }
   },
   "id": "4bb61ddef56d7a1f",
   "execution_count": 5
  },
  {
   "cell_type": "markdown",
   "source": [
    "**Quiz 3:**\n",
    "The price of a stock is 52.00. What is the price difference between an at-the-money call option and an at-the-money put option on this stock? Assume 38 days to expiration, a 6.0\\% annual continuously compounded risk free interest rate, and use continuous compounding of interest in all your calculations for this problem."
   ],
   "metadata": {
    "collapsed": false
   },
   "id": "c7a274ec0d5f090"
  },
  {
   "cell_type": "code",
   "outputs": [
    {
     "data": {
      "text/plain": "0.3238095146314208"
     },
     "execution_count": 6,
     "metadata": {},
     "output_type": "execute_result"
    }
   ],
   "source": [
    "# call_given_put(P_t = 0, S_t = 52, K = 52, r = 0.06, dt = 38/365)"
   ],
   "metadata": {
    "collapsed": false,
    "ExecuteTime": {
     "end_time": "2024-04-09T18:47:43.537411Z",
     "start_time": "2024-04-09T18:47:43.519593Z"
    }
   },
   "id": "9421fc09c06dc49c",
   "execution_count": 6
  },
  {
   "cell_type": "markdown",
   "source": [
    "**Quiz 4:**\n",
    "You are given the following:\n",
    "\n",
    "• The current price to buy one share of XYZ stock is 500.\n",
    "• The stock does not pay dividends.\n",
    "• The annual continuously compounded risk-free interest rate is 6\\%.\n",
    "• A European call option on one share of XYZ stock with a strike price of K that expires in one year costs 66.59.\n",
    "• A European put option on one share of XYZ stock with a strike price of K that expires in one year costs 18.64.\n",
    "\n",
    "Using put-call parity, calculate the strike price, K."
   ],
   "metadata": {
    "collapsed": false
   },
   "id": "103ec922f8477037"
  },
  {
   "cell_type": "markdown",
   "source": [
    "**Quiz 5:**\n",
    "\n",
    "The PS index has the following characteristics:\n",
    "\n",
    "- One share of the PS index currently sells for 1,000.\n",
    "- The PS index does not pay dividends.\n",
    "- Sam wants to lock in the ability to buy this index in one year for a price of 1,025. He can do this by buying or selling European put and call options with a strike price of 1,025.\n",
    "- The continuously compounded risk free annual interest rate is 5.0\\%.\n",
    "\n",
    "Determine which of the following gives the strategy that will achieve Sam’s objective and also gives the cost today of establishing this position."
   ],
   "metadata": {
    "collapsed": false
   },
   "id": "e69dd8a217cc889d"
  },
  {
   "cell_type": "markdown",
   "source": [
    "**Quiz 6:**\n",
    "Stock XYZ has the following characteristics:\n",
    "- The current price is 40.\n",
    "- The price of a 35-strike 1-year European call option is 9.12\n",
    "- The price of a 40-strike 1-year European call option is 6.22\n",
    "- The price of a 45-strike 1-year European call option is 4.08\n",
    "- The annual risk-free interest rate is 8%.\n",
    "\n",
    "Use simple compounding of interest to compute the future value of option premiums when computing profits in this problem.  \n",
    "\n",
    "Let S be the price of the stock one year from now. All call positions being compared are long.\n",
    "\n",
    "Determine the range for S such that the 45-strike call produces a higher profit than the 40-strike call, but a lower profit than the 35-strike call."
   ],
   "metadata": {
    "collapsed": false
   },
   "id": "94ed9e436f2b9d16"
  },
  {
   "cell_type": "markdown",
   "source": [
    "**Quiz 7:**\n",
    "Consider a European put option on a stock index without dividends, with 6 months to expiration and a strike price of 1,000.\n",
    "\n",
    "Suppose that the six-month risk-free interest rate is 2\\%, and that the put costs 74.20 today.\n",
    "\n",
    "Use simple compounding of interest to compute the future value of option premiums when computing profits in this problem.  \n",
    "\n",
    "Calculate the price that the index must be in 6 months so that being long the put option would produce the same profit as being short the put option."
   ],
   "metadata": {
    "collapsed": false
   },
   "id": "d3fb9eeed43a8452"
  },
  {
   "cell_type": "markdown",
   "source": [
    "**Quiz 8:**\n",
    "A trader shorts one share of a stock index for 50 and buys a 60-strike European call option on that stock index that expires in 2 years for 10.\n",
    "\n",
    "Assume the annual risk-free continuously compounded interest rate is 3% and use continuous compounding of interest in all your calculations for this problem.\n",
    "\n",
    "Assume that the continuously compounded interest rate you earn on the short sale proceeds, the short rebate rate, is equal to the risk-free rate.\n",
    "\n",
    "The stock index increases to 75 after 2 years.\n",
    "\n",
    "Calculate the profit on your combined position."
   ],
   "metadata": {
    "collapsed": false
   },
   "id": "a3854adbddc00167"
  },
  {
   "cell_type": "code",
   "outputs": [],
   "source": [
    "# 40 * math.exp(0.03 * 2) - 60"
   ],
   "metadata": {
    "collapsed": false,
    "ExecuteTime": {
     "end_time": "2024-04-09T19:05:17.558599Z",
     "start_time": "2024-04-09T19:05:17.553423Z"
    }
   },
   "id": "2516fb033afd947b",
   "execution_count": 8
  },
  {
   "cell_type": "markdown",
   "source": [
    "**Quiz 9:**\n",
    "Jillo, Inc. stock is selling for 54.70 per share. Calls and puts with a 55 strike and 40 days until expiration are selling for 1.65 and 1.23, respectively.\n",
    "\n",
    "Assume the annual risk-free continuously compounded interest rate is 10\\% and use continuous compounding of interest in all your calculations for this problem.\n",
    "\n",
    "What potential arbitrage profit exists?"
   ],
   "metadata": {
    "collapsed": false
   },
   "id": "30037d80d93d9e5f"
  },
  {
   "cell_type": "markdown",
   "source": [
    "**Quiz 10:**\n",
    "The price of a non-dividend paying stock is 55 per share. A 6-month, at the money call option is trading for 1.89.\n",
    "\n",
    "Assume the annual risk-free continuously compounded interest rate is 6.5\\% and use continuous compounding of interest in all your calculations for this problem.\n",
    "\n",
    "Assuming there is no arbitrage, what is the price of a European put option with the same strike price and time to expiration?"
   ],
   "metadata": {
    "collapsed": false
   },
   "id": "788af1041594530"
  }
 ],
 "metadata": {
  "kernelspec": {
   "display_name": "Python 3",
   "language": "python",
   "name": "python3"
  },
  "language_info": {
   "codemirror_mode": {
    "name": "ipython",
    "version": 2
   },
   "file_extension": ".py",
   "mimetype": "text/x-python",
   "name": "python",
   "nbconvert_exporter": "python",
   "pygments_lexer": "ipython2",
   "version": "2.7.6"
  }
 },
 "nbformat": 4,
 "nbformat_minor": 5
}
