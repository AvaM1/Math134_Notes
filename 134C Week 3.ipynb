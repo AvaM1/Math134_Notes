{
 "cells": [
  {
   "cell_type": "markdown",
   "source": [
    "# Math 134C Week 3"
   ],
   "metadata": {
    "collapsed": false
   },
   "id": "94044e0fad93cfb2"
  },
  {
   "cell_type": "code",
   "outputs": [],
   "source": [
    "import math\n",
    "# r is the risk-free rate, F is a cash flow, and dT is the time that we get each cash flow\n",
    "def PV(F, dT, r):\n",
    "    pv = 0\n",
    "    if len(dT) != len(F):\n",
    "        print(\"Input Error\")\n",
    "        return 0\n",
    "    for n in range(0, len(F)):\n",
    "        pv += F[n] * math.exp(-r * dT[n])\n",
    "    return pv\n",
    "        \n",
    "# C_t is the price of call option, S_t is the current stock price, K is the strike, r is the risk-free rate, dt is time to expiration. D is the dividend of the stock, and dT is the time at which we receive the dividend. The delta is for the continuous dividend paying model. The function will return the price of the corresponding put option. \n",
    "def put_given_call(C_t, S_t, K, r, dt, D= None, dT = None, delta = 0):\n",
    "    if D is None: D = []\n",
    "    if dT is None: dT = []\n",
    "    return C_t - (S_t - PV(D, dT, r)) * math.exp(-delta * dt) + K * math.exp(-r * dt)\n",
    "\n",
    "def call_given_put(P_t, S_t, K, r, dt, D = None, dT = None, delta = 0):\n",
    "    if D is None: D = []\n",
    "    if dT is None: dT = []\n",
    "    return P_t + (S_t - PV(D, dT, r)) * math.exp(-delta * dt) - K * math.exp(-r * dt)\n",
    "\n",
    "def one_step_binomial(r, dt, u, d, Vu, Vd, delta = 0):\n",
    "    q = (math.exp((r - delta) * dt) - d)/(u-d)\n",
    "    if not (1 > q > 0): \n",
    "        print(\"Arbitrage opportunity exists\")\n",
    "        return -1\n",
    "    return math.exp(-r * dt)*(q*Vu+(1-q)*Vd)    \n",
    "\n",
    "def Delta(r, dt, u, d, Vu, Vd, S, delta = 0):\n",
    "    return math.exp(-delta * dt)*(Vu-Vd)/(S*(u-d))\n",
    "\n",
    "def B(r, dt, u, d, Vu, Vd):\n",
    "    return math.exp(-r * dt)*(u * Vd - d * Vu)/(u-d)"
   ],
   "metadata": {
    "collapsed": false,
    "ExecuteTime": {
     "end_time": "2024-04-16T19:31:29.896703Z",
     "start_time": "2024-04-16T19:31:29.887050Z"
    }
   },
   "id": "696652508b047234",
   "execution_count": 25
  },
  {
   "cell_type": "markdown",
   "source": [
    "# One Step Binomial Model for Option Pricing\n",
    "Let $V_t$ to be the value of an investment instrument at time $t$ whose payoff at time $T$ only depends on the stock price. (For example, V could be a call option, put option, future, or other products). Let $S_t$ be the price of the stock at time $t$, $\\delta$ be the continuous dividend yield, and $u, d$ be the number such that the stock will either go up to $Su$ or go down to $Sd$ at time $T$. Let $V_T^u$ be the value of the investment instrument at time $T$ when the stock goes to $Su$, and $V_T^d$ be the value when the stock goes to $Sd$ (If $V$ is a call option with strike $K$, then $V_T^u = (Su-K)^+, V_T^d = (Sd-K)^+$). Assume that the risk-free rate is $r$, and denote $T-t$ as $\\Delta t$. Then we define the risk-neutral probability measure (also called price measure) \n",
    "$$q = \\frac{e^{(r-\\delta) \\Delta t} - d}{u-d}$$\n",
    "Then the price of $V$ at time $t$ is given by \n",
    "$$V_t = e^{-r\\Delta t}(qV_T^u + (1-q)V_T^d)$$\n",
    "\n",
    "**Self-financing Replicating Portfolio:**\n",
    "We will construct a portfolio \n",
    "$$\\Pi_t = \\Delta S_t + B_t$$\n",
    "consisting of $\\Delta$ share of the stock, and $B_t$ amount of money in the bank. We wish to use this portfolio to replicate the payoff of a financial instrument $V_t$. Then we must have \n",
    "$$\\Pi_T^u = \\Delta S_tue^{\\delta \\Delta t} + B_te^{r \\Delta t} = V_T^u$$\n",
    "$$\\Pi_T^d = \\Delta S_tde^{\\delta \\Delta t} + B_te^{r \\Delta t} = V_T^d$$\n",
    "where $\\delta$ is the continuous dividend. ($\\Delta$ share of the stock grow to $\\Delta e^{\\delta \\Delta t}$ share)\n",
    "By solving the above equations, we get \n",
    "$$\\Delta = e^{-\\delta \\Delta t}\\frac{V_T^u-V_T^d}{S_t(u-d)}$$\n",
    "$$B_t = e^{-r \\Delta t} \\frac{u V_T^d - dV_T^u}{u-d}$$\n",
    "$$V_t = \\Pi_t = e^{-\\delta \\Delta t}\\frac{V_T^u-V_T^d}{u-d} +  e^{-r \\Delta t} \\frac{u V_T^d - dV_T^u}{u-d} = e^{-r\\Delta t}(qV_T^u + (1-q)V_T^d)$$"
   ],
   "metadata": {
    "collapsed": false
   },
   "id": "d34b20df002165a"
  },
  {
   "cell_type": "markdown",
   "source": [
    "**Quiz 2.1**:\n",
    "You have 40 years until retirement and currently have all your wealth invested in the stock market.  \n",
    "\n",
    "Very roughly speaking, an extra 1% return per year in the stock market has what effect on your wealth at retirement?"
   ],
   "metadata": {
    "collapsed": false
   },
   "id": "45136418c9c3110e"
  },
  {
   "cell_type": "markdown",
   "source": [
    "**Quiz 2.2:**\n",
    "Using historical daily closing prices, You determine the daily sample standard deviation for Apple (ticker:  AAPL) is 1.58%.\n",
    "\n",
    "What is the annual sample standard deviation (volatility) for Apple?"
   ],
   "metadata": {
    "collapsed": false
   },
   "id": "3fbabdbc3a257b8c"
  },
  {
   "cell_type": "markdown",
   "source": [
    "**Quiz 2.3:**\n",
    "You are given the following information for a one-period binomial tree\n",
    "\n",
    "Each period is one year\n",
    "The current price of the stock S = 100\n",
    "The stock pays dividends at a rate proportional to its price with the dividend yield d = 2%\n",
    "The continuously compounded risk-free interest rate is r\n",
    "u = 1.3, where Su is the stock price if the stock price goes up\n",
    "d = 0.7, where Sd is is the stock price if the stock price goes down\n",
    "The current premium of a one-year at-the-money put option is 12.82\n",
    "Immediately after purchasing the put option, the stock price drops to 95.\n",
    "\n",
    "Assuming that u, d, r, and the strike price of the put option remain unchanged, recalculate the premium of the put option."
   ],
   "metadata": {
    "collapsed": false
   },
   "id": "8801e41f9bc9d3cb"
  },
  {
   "cell_type": "markdown",
   "source": [
    "**Quiz 2.4:**\n",
    "Recall that a straddle position is a long call option plus a long put option with the same strike price and same expiration date.\n",
    "\n",
    "For a one-year straddle on a nondividend-paying stock, you are given:\n",
    "\n",
    "The straddle can only be exercised at the end of one year.\n",
    "The payoff of the straddle is the absolute value of the difference between the strike price and the stock price at expiration date.\n",
    "The stock currently sells for 60.00.\n",
    "The continuously compounded risk-free interest rate is 8%.\n",
    "In one year, the stock will either sell for 70.00 or 45.00.\n",
    "The options have a strike price of 50.00.\n",
    "Using a one-period binomial options pricing model, calculate the current price of the straddle."
   ],
   "metadata": {
    "collapsed": false
   },
   "id": "d7ce09f7335070"
  },
  {
   "cell_type": "code",
   "outputs": [],
   "source": [
    "# print(f\"The current price of the straddle under the one-step binomial model is {one_step_binomial(r = 0.08, dt = 1, u = 70/60, d = 45/60, Vu = 20, Vd = 5):.2f}\")"
   ],
   "metadata": {
    "collapsed": false,
    "ExecuteTime": {
     "end_time": "2024-04-16T19:31:29.912011Z",
     "start_time": "2024-04-16T19:31:29.897784Z"
    }
   },
   "id": "7738ee9fd8829122",
   "execution_count": 26
  },
  {
   "cell_type": "markdown",
   "source": [
    "**Quiz 2.5:**\n",
    "Let $S_t$ be the time-t price of the stock.\n",
    "\n",
    "For a one-period binomial model, you are given:\n",
    "\n",
    "Each period is 3 years.\n",
    "The current price for a stock $S_0 = 100$\n",
    "The stock pays dividends continuously at a rate proportional to its price. The dividend yield is 3%\n",
    "The stock price at the end of three years is $S_3$ \n",
    "$S_3 = S_0u$ if the stock price goes up, where $u = 1.30$\n",
    "$S_3 = S_0d$ if the stock price goes down, where $d = 0.85$ \n",
    "The continuously compounded risk-free annual interest rate is 6%.\n",
    "Consider a derivative that at the end of three years pays $(S_3-S_0)^4$\n",
    "\n",
    "Calculate the number of shares of stocks an investor must purchase at time 0 in order to replicate the derivative."
   ],
   "metadata": {
    "collapsed": false
   },
   "id": "b91349faa545ec92"
  },
  {
   "cell_type": "code",
   "outputs": [],
   "source": [
    "# Delta(r = 0.06, dt = 3, u = 1.3, d = 0.85, Vu = 30**4, Vd = 15**4, S=100, delta=0.03)"
   ],
   "metadata": {
    "collapsed": false,
    "ExecuteTime": {
     "end_time": "2024-04-16T19:31:29.927225Z",
     "start_time": "2024-04-16T19:31:29.913059Z"
    }
   },
   "id": "ab706174536fc1bc",
   "execution_count": 27
  },
  {
   "cell_type": "markdown",
   "source": [
    "**Quiz 2.6:**\n",
    "For a two-period binomial model for stock prices, you are given:\n",
    "\n",
    "Each period is one year.\n",
    "The current price of the stock is 100.\n",
    "The stock pays dividends continuously at a rate proportional to its price. The dividend yield is 3\\%.\n",
    "The continuously compounded risk-free interest rate is 5\\%.\n",
    "u = 1.1, where S goes from S to Su during each period if the stock price goes up\n",
    "d = 0.9, where S goes from S to Sd during each period if the stock price goes down\n",
    "A two-year European put option on the stock has a strike price K, where K < 120\n",
    "\n",
    "Calculate the value of K such that the current price of the put option is 11.84."
   ],
   "metadata": {
    "collapsed": false
   },
   "id": "69b57db54fcd09e9"
  },
  {
   "cell_type": "markdown",
   "source": [
    "**Quiz 2.7:**\n",
    "A European call option on a stock is priced using a two-period binomial model. The call price tree is as follows:\n",
    "![binomial tree](./img/134C_Week3_image.png \"Title\")\n",
    "Calculate the current price of the call option $C_0$"
   ],
   "metadata": {
    "collapsed": false
   },
   "id": "21cb8467edffc45b"
  },
  {
   "cell_type": "markdown",
   "source": [
    "**Quiz 2.8:**\n",
    "Consider the following one-period binomial model for a stock that pays dividends continuously at a rate proportional to its price:\n",
    "\n",
    "\n",
    "You are given the following information:\n",
    "- The stock price will be either 450 or 325 in the next period\n",
    "- Each period length is 3 months.\n",
    "- The continuously compounded risk-free interest rate is 10%.\n",
    "- The continuous annual dividend yield on the stock is $\\delta$\n",
    "An investor wishes to replicate a 3-month European call option on the stock with a strike price of 350.\n",
    "\n",
    "Determine the amount in dollars the investor must lend at the risk-free rate."
   ],
   "metadata": {
    "collapsed": false
   },
   "id": "c10a856cef044851"
  },
  {
   "cell_type": "markdown",
   "source": [
    "**Quiz 2.9:**\n",
    "For a six-month 40-50 strangle on a stock paying dividends continuously at a annual rate of 2%, you are given:\n",
    "\n",
    "- The strangle can only be exercised at the end of six months.\n",
    "- The payoff of the strangle is given $\\max(0, S-50)+\\max(0, 40-S)$\n",
    "- The stock currently sells for 45.00.\n",
    "- In six months, the stock will either sell for 58.50 or 36.00.\n",
    "- The continuously compounded annual risk-free interest rate is 7\\%.\n",
    "Calculate the current price of the 40-50 strangle."
   ],
   "metadata": {
    "collapsed": false
   },
   "id": "73ee432a1606d560"
  },
  {
   "cell_type": "code",
   "outputs": [],
   "source": [
    "# print(f\"The current price for the strangle is {one_step_binomial(r = 0.07, dt = 0.5, u = 58.5/45, d = 36/45, Vu = 8.5, Vd = 4, delta = 0.02):.2f}\")"
   ],
   "metadata": {
    "collapsed": false,
    "ExecuteTime": {
     "end_time": "2024-04-16T19:31:29.943303Z",
     "start_time": "2024-04-16T19:31:29.928225Z"
    }
   },
   "id": "ee3f63726195e908",
   "execution_count": 28
  },
  {
   "cell_type": "markdown",
   "source": [
    "**Quiz 2.10:**\n",
    "A non-dividend paying stock is modeled by the binomial tree where its price is 10 at $t = 0$, and it can be either 18 or 4 at $t = 1$.\n",
    "\n",
    "A European call option on the stock above expires at t=1 year with strike price K = 12.\n",
    "\n",
    "Calculate the number of shares of stock in the replicating portfolio for this option."
   ],
   "metadata": {
    "collapsed": false
   },
   "id": "97f4c84c19481dcc"
  }
 ],
 "metadata": {
  "kernelspec": {
   "display_name": "Python 3",
   "language": "python",
   "name": "python3"
  },
  "language_info": {
   "codemirror_mode": {
    "name": "ipython",
    "version": 2
   },
   "file_extension": ".py",
   "mimetype": "text/x-python",
   "name": "python",
   "nbconvert_exporter": "python",
   "pygments_lexer": "ipython2",
   "version": "2.7.6"
  }
 },
 "nbformat": 4,
 "nbformat_minor": 5
}
