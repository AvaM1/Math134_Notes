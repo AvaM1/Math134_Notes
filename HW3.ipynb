{
  "nbformat": 4,
  "nbformat_minor": 0,
  "metadata": {
    "colab": {
      "provenance": [],
      "authorship_tag": "ABX9TyO0Gvv8dlpZQATOjT9/tNoJ",
      "include_colab_link": true
    },
    "kernelspec": {
      "name": "python3",
      "display_name": "Python 3"
    },
    "language_info": {
      "name": "python"
    }
  },
  "cells": [
    {
      "cell_type": "markdown",
      "metadata": {
        "id": "view-in-github",
        "colab_type": "text"
      },
      "source": [
        "<a href=\"https://colab.research.google.com/github/AvaM1/Math134_Notes/blob/master/HW3.ipynb\" target=\"_parent\"><img src=\"https://colab.research.google.com/assets/colab-badge.svg\" alt=\"Open In Colab\"/></a>"
      ]
    },
    {
      "cell_type": "code",
      "outputs": [],
      "source": [
        "import math\n",
        "# r is the risk-free rate, F is a cash flow, and dT is the time that we get each cash flow\n",
        "def PV(F, dT, r):\n",
        "    pv = 0\n",
        "    if len(dT) != len(F):\n",
        "        print(\"Input Error\")\n",
        "        return 0\n",
        "    for n in range(0, len(F)):\n",
        "        pv += F[n] * math.exp(-r * dT[n])\n",
        "    return pv\n",
        "\n",
        "# C_t is the price of call option, S_t is the current stock price, K is the strike, r is the risk-free rate, dt is time to expiration. D is the dividend of the stock, and dT is the time at which we receive the dividend. The delta is for the continuous dividend paying model. The function will return the price of the corresponding put option.\n",
        "def put_given_call(C_t, S_t, K, r, dt, D= None, dT = None, delta = 0):\n",
        "    if D is None: D = []\n",
        "    if dT is None: dT = []\n",
        "    return C_t - (S_t - PV(D, dT, r)) * math.exp(-delta * dt) + K * math.exp(-r * dt)\n",
        "\n",
        "def call_given_put(P_t, S_t, K, r, dt, D = None, dT = None, delta = 0):\n",
        "    if D is None: D = []\n",
        "    if dT is None: dT = []\n",
        "    return P_t + (S_t - PV(D, dT, r)) * math.exp(-delta * dt) - K * math.exp(-r * dt)\n",
        "\n",
        "def one_step_binomial(r, dt, u, d, Vu, Vd, delta = 0):\n",
        "    q = (math.exp((r - delta) * dt) - d)/(u-d)\n",
        "    if not (1 > q > 0):\n",
        "        print(\"Arbitrage opportunity exists\")\n",
        "        return -1\n",
        "    return math.exp(-r * dt)*(q*Vu+(1-q)*Vd)\n",
        "\n",
        "def Delta(r, dt, u, d, Vu, Vd, S, delta = 0):\n",
        "    return math.exp(-delta * dt)*(Vu-Vd)/(S*(u-d))\n",
        "\n",
        "def B(r, dt, u, d, Vu, Vd):\n",
        "    return math.exp(-r * dt)*(u * Vd - d * Vu)/(u-d)"
      ],
      "metadata": {
        "ExecuteTime": {
          "end_time": "2024-04-16T20:15:01.459015Z",
          "start_time": "2024-04-16T20:15:01.450230Z"
        },
        "id": "696652508b047234"
      },
      "execution_count": 2
    },
    {
      "cell_type": "markdown",
      "source": [
        "**11.1**: Consider a one-period binomial model with h = 1, where S = 100, r = 0,\n",
        " = 30%, and\n",
        " = 0.08.\n",
        "\n",
        " Compute American call option prices for K = 70, 80, 90, and 100.\n",
        "\n",
        "  a. At which strike(s) does early exercise occur?\n",
        "\n",
        " b. Use put-call parity to explain why early exercise does not occur at the higher strikes.\n",
        "\n",
        " c. Use put-call parity to explain why early exercise is sure to occur for all lower strikes than that in your answer to (a)"
      ],
      "metadata": {
        "id": "2knMkSJD4kDf"
      }
    },
    {
      "cell_type": "code",
      "source": [
        "\n",
        "import math\n",
        "\n",
        "dt = 1  # One-year time step\n",
        "r = 0   # Risk-free rate\n",
        "delta = 0.08  # Dividend rate\n",
        "sigma = 0.3  # Volatility\n",
        "S = 100  # Current stock price\n",
        "K = [70, 80, 90, 100]  # Array of strike prices\n",
        "\n",
        "# Function to calculate up factor\n",
        "def find_u(r, delta, dt, sigma):\n",
        "    return round(math.exp((r - delta) * dt + sigma * math.sqrt(dt)), 2)\n",
        "\n",
        "# Function to calculate down factor\n",
        "def find_d(r, delta, dt, sigma):\n",
        "    return round(math.exp((r - delta) * dt - sigma * math.sqrt(dt)), 2)\n",
        "\n",
        "# Function to calculate option price and determine early exercise\n",
        "def american_one_step(r, dt, u, d, Vu, Vd, K, Option='Call', delta=0):\n",
        "    q = (math.exp((r - delta) * dt) - d) / (u - d)\n",
        "    not_early = math.exp(-r * dt) * (q * Vu + (1 - q) * Vd)\n",
        "    if Option == 'Call':\n",
        "        early = max(S - K, 0)\n",
        "    else:\n",
        "        early = max(K - S, 0)\n",
        "    if not_early > early:\n",
        "        decision = \"Not early (hold)\"\n",
        "    else:\n",
        "        decision = \"Early\"\n",
        "    return f\"K={K}: {max(not_early, early)}, Decision: {decision}\"\n",
        "\n",
        "# Calculate u and d\n",
        "u = find_u(r, delta, dt, sigma)\n",
        "d = find_d(r, delta, dt, sigma)\n",
        "\n",
        "# Calculate and print results for each strike\n",
        "results = [american_one_step(r, dt, u, d, max(S * u - i, 0), max(S * d - i, 0), i, 'Call', delta) for i in K]\n",
        "results,"
      ],
      "metadata": {
        "colab": {
          "base_uri": "https://localhost:8080/",
          "height": 0
        },
        "id": "hPTOWNGYGOR2",
        "outputId": "2e98154f-c29f-4f52-bc7a-38c7f531d262"
      },
      "execution_count": 12,
      "outputs": [
        {
          "output_type": "execute_result",
          "data": {
            "text/plain": [
              "(['K=70: 30, Decision: Early',\n",
              "  'K=80: 20, Decision: Early',\n",
              "  'K=90: 14.928196707951317, Decision: Not early (hold)',\n",
              "  'K=100: 10.662997648536656, Decision: Not early (hold)'],)"
            ]
          },
          "metadata": {},
          "execution_count": 12
        }
      ]
    },
    {
      "cell_type": "markdown",
      "source": [
        "(b)\n",
        " No, never occur. Since call option exercised early, it only gets dividend, not the interest get from strike. No dividend in this case.\n",
        "\n",
        "\n",
        " (c)The value of a put falls when the strike price decreases.Once cross the put lower bound price, all other calls will be exercised."
      ],
      "metadata": {
        "id": "yhWmSSbpHmy2"
      }
    },
    {
      "cell_type": "markdown",
      "source": [
        "**11.2**"
      ],
      "metadata": {
        "id": "gUtZH02p7zOp"
      }
    },
    {
      "cell_type": "code",
      "source": [
        "import math\n",
        "\n",
        "dt = 1  # One-year time step\n",
        "r = 0.08   # Risk-free rate\n",
        "delta = 0.08  # Dividend rate\n",
        "sigma = 0.3  # Volatility\n",
        "S = 100  # Current stock price\n",
        "K = [70, 80, 90, 100]  # Array of strike prices\n",
        "\n",
        "# Function to calculate up factor\n",
        "def find_u(r, delta, dt, sigma):\n",
        "    return round(math.exp((r - delta) * dt + sigma * math.sqrt(dt)), 2)\n",
        "\n",
        "# Function to calculate down factor\n",
        "def find_d(r, delta, dt, sigma):\n",
        "    return round(math.exp((r - delta) * dt - sigma * math.sqrt(dt)), 2)\n",
        "\n",
        "# Function to calculate option price and determine early exercise\n",
        "def american_one_step(r, dt, u, d, Vu, Vd, K, Option='Call', delta=0):\n",
        "    q = (math.exp((r - delta) * dt) - d) / (u - d)\n",
        "    not_early = math.exp(-r * dt) * (q * Vu + (1 - q) * Vd)\n",
        "    if Option == 'Call':\n",
        "        early = max(S - K, 0)\n",
        "    else:\n",
        "        early = max(K - S, 0)\n",
        "    if not_early > early:\n",
        "        decision = \"Not early (hold)\"\n",
        "    else:\n",
        "        decision = \"Early\"\n",
        "    return f\"K={K}: {max(not_early, early)}, Decision: {decision}\"\n",
        "\n",
        "# Calculate u and d\n",
        "u = find_u(r, delta, dt, sigma)\n",
        "d = find_d(r, delta, dt, sigma)\n",
        "\n",
        "# Calculate and print results for each strike\n",
        "results = [american_one_step(r, dt, u, d, max(S * u - i, 0), max(S * d - i, 0), i, 'Call', delta) for i in K]\n",
        "results\n",
        "\n"
      ],
      "metadata": {
        "colab": {
          "base_uri": "https://localhost:8080/",
          "height": 0
        },
        "outputId": "2432bad3-a0f1-4b0c-83e8-af0efcec77f7",
        "id": "kEymX-9K9kI8"
      },
      "execution_count": 13,
      "outputs": [
        {
          "output_type": "execute_result",
          "data": {
            "text/plain": [
              "['K=70: 30, Decision: Early',\n",
              " 'K=80: 21.64026844808015, Decision: Not early (hold)',\n",
              " 'K=90: 17.705674184792848, Decision: Not early (hold)',\n",
              " 'K=100: 13.77107992150555, Decision: Not early (hold)']"
            ]
          },
          "metadata": {},
          "execution_count": 13
        }
      ]
    },
    {
      "cell_type": "code",
      "source": [
        "import numpy as np\n",
        "\n",
        "S = 120  # Current stock price\n",
        "K = 100  # Strike price\n",
        "r = 0.10  # Interest rate\n",
        "delta = 0.08  # Dividend yield\n",
        "T_minus_t = 2 / 365  # Time to expiration in years (2 days)\n",
        "\n",
        "\n",
        "# C >= S * exp(-delta * (T - t)) - K * exp(-r * (T - t))\n",
        "\n",
        "stock_discount_factor = np.exp(-delta * T_minus_t)\n",
        "strike_discount_factor = np.exp(-r * T_minus_t)\n",
        "\n",
        "\n",
        "C_lower_bound = S * stock_discount_factor - K * strike_discount_factor\n",
        "\n",
        "print(f\"The lower bound on the value of the call option is ${C_lower_bound:.2f}\")\n"
      ],
      "metadata": {
        "colab": {
          "base_uri": "https://localhost:8080/",
          "height": 0
        },
        "id": "Q6_Gi2-wDUgK",
        "outputId": "ce357e65-9149-45ba-c273-53139efbf33d"
      },
      "execution_count": 16,
      "outputs": [
        {
          "output_type": "stream",
          "name": "stdout",
          "text": [
            "The lower bound on the value of the call option is $20.00\n"
          ]
        }
      ]
    },
    {
      "cell_type": "markdown",
      "source": [
        "Early exercise may be optimal when the following condition is met:\n",
        "\n",
        "![Screenshot 2024-04-23 at 7.38.48 PM.png](data:image/png;base64,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)\n",
        "\n",
        "![Screenshot 2024-04-23 at 8.43.17 PM.png](data:image/png;base64,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)\n",
        "\n",
        "The inequality above indicates that the immediate exercise value exceeds the current option value.\n",
        "\n",
        "For American options without dividends, early exercise might not be optimal due to the lost time value unless  r=0 and the stock is expected to fall.This could be one interpretation of the put-call parity condition being \"satisfied\" — indicating that the call option is priced appropriately given the factors in play."
      ],
      "metadata": {
        "id": "T0KI4JKRD-Bd"
      }
    },
    {
      "cell_type": "markdown",
      "source": [
        "**Exercise 11.3**: Repeat Problem 11.1, only assume that r = 0.08 and $\\delta$ = 0. Will early exercise ever occur? Why?"
      ],
      "metadata": {
        "collapsed": false,
        "id": "54e3f37a31d93d20"
      }
    },
    {
      "cell_type": "code",
      "source": [
        "import math\n",
        "\n",
        "dt = 1  # One-year time step\n",
        "r = 0.08   # Risk-free rate\n",
        "delta = 0  # Dividend rate\n",
        "sigma = 0.3  # Volatility\n",
        "S = 100  # Current stock price\n",
        "K = [70, 80, 90, 100]  # Array of strike prices\n",
        "\n",
        "# Function to calculate up factor\n",
        "def find_u(r, delta, dt, sigma):\n",
        "    return round(math.exp((r - delta) * dt + sigma * math.sqrt(dt)), 2)\n",
        "\n",
        "# Function to calculate down factor\n",
        "def find_d(r, delta, dt, sigma):\n",
        "    return round(math.exp((r - delta) * dt - sigma * math.sqrt(dt)), 2)\n",
        "\n",
        "# Function to calculate option price and determine early exercise\n",
        "def american_one_step(r, dt, u, d, Vu, Vd, K, Option='Call', delta=0):\n",
        "    q = (math.exp((r - delta) * dt) - d) / (u - d)\n",
        "    not_early = math.exp(-r * dt) * (q * Vu + (1 - q) * Vd)\n",
        "    if Option == 'Call':\n",
        "        early = max(S - K, 0)\n",
        "    else:\n",
        "        early = max(K - S, 0)\n",
        "    if not_early > early:\n",
        "        decision = \"Not early (hold)\"\n",
        "    else:\n",
        "        decision = \"Early\"\n",
        "    return f\"K={K}: {max(not_early, early)}, Decision: {decision}\"\n",
        "\n",
        "# Calculate u and d\n",
        "u = find_u(r, delta, dt, sigma)\n",
        "d = find_d(r, delta, dt, sigma)\n",
        "\n",
        "# Calculate and print results for each strike\n",
        "results = [american_one_step(r, dt, u, d, max(S * u - i, 0), max(S * d - i, 0), i, 'Call', delta) for i in K]\n",
        "results,\n"
      ],
      "metadata": {
        "colab": {
          "base_uri": "https://localhost:8080/",
          "height": 0
        },
        "outputId": "eec251aa-6366-4858-dc15-54b74ec36f6e",
        "id": "1I7mXHejPgTJ"
      },
      "execution_count": 11,
      "outputs": [
        {
          "output_type": "execute_result",
          "data": {
            "text/plain": [
              "(['K=70: 35.3818557529355, Decision: Not early (hold)',\n",
              "  'K=80: 26.150692289069145, Decision: Not early (hold)',\n",
              "  'K=90: 22.18846618466473, Decision: Not early (hold)',\n",
              "  'K=100: 18.22624008026031, Decision: Not early (hold)'],)"
            ]
          },
          "metadata": {},
          "execution_count": 11
        }
      ]
    },
    {
      "cell_type": "markdown",
      "source": [
        "Not gonna occur, If dividend yied equals to zero. No benefit to early exercise call option as the stock price will not decrease on dividend."
      ],
      "metadata": {
        "id": "75Wm4Rgf_eAU"
      }
    },
    {
      "cell_type": "markdown",
      "source": [
        "**11.4**\n",
        "(a)(b)(c)"
      ],
      "metadata": {
        "id": "n_ENZBZhDLMT"
      }
    },
    {
      "cell_type": "code",
      "source": [
        "import math\n",
        "import numpy as np\n",
        "\n",
        "S = 100  # Current stock price\n",
        "r = 0.08  # Annual risk-free rate\n",
        "sigma = 0.3  # Volatility (annual standard deviation)\n",
        "h = 1  # Time period\n",
        "delta = 0  # Dividend yield\n",
        "K_options = [100, 110, 120, 130]  # Strike prices\n",
        "\n",
        "u = math.exp(sigma * math.sqrt(h))\n",
        "d = math.exp(-sigma * math.sqrt(h))\n",
        "\n",
        "q = (math.exp(r * h) - d) / (u - d)\n",
        "\n",
        "early_exercise_strikes = []\n",
        "\n",
        "def american_put_price(S, K, u, d, q, r, h):\n",
        "    P_u = max(K - S * u, 0)\n",
        "    P_d = max(K - S * d, 0)\n",
        "\n",
        "    P_hold = math.exp(-r * h) * (q * P_u + (1 - q) * P_d)\n",
        "\n",
        "\n",
        "    P_exercise = K - S\n",
        "\n",
        "\n",
        "    if P_exercise > P_hold:\n",
        "        early_exercise_strikes.append(K)\n",
        "        return P_exercise, 'Early exercise'\n",
        "    else:\n",
        "        return P_hold, 'Hold'\n",
        "\n",
        "put_prices = {}\n",
        "for K in K_options:\n",
        "    put_price, decision = american_put_price(S, K, u, d, q, r, h)\n",
        "    put_prices[K] = put_price\n",
        "    print(f\"Strike Price {K}: Put Price = {put_price:.2f}, Decision: {decision}\")\n",
        "\n",
        "# Explanation based on put-call parity\n",
        "print(\"\\nExplanation using Put-Call Parity:\")\n",
        "for K in K_options:\n",
        "    if K in early_exercise_strikes:\n",
        "        print(f\"- Early exercise occurs at strike {K} due to the put option's intrinsic value being higher than its time value.\")\n",
        "    else:\n",
        "        print(f\"- Early exercise does not occur at strike {K} because the expected continuation value is higher than the intrinsic value.\")\n",
        "\n",
        "print(\"\\nFor all strikes greater than those for early exercise:\")\n",
        "print(\"Early exercise is sure to occur since the intrinsic value (K - S) will only increase, making it more favorable compared to the continuation value.\")\n"
      ],
      "metadata": {
        "colab": {
          "base_uri": "https://localhost:8080/",
          "height": 0
        },
        "id": "Oz5Id21OEnxD",
        "outputId": "e337e79d-b14a-41a3-9f29-0d415c14bc59"
      },
      "execution_count": 18,
      "outputs": [
        {
          "output_type": "stream",
          "name": "stdout",
          "text": [
            "Strike Price 100: Put Price = 10.47, Decision: Hold\n",
            "Strike Price 110: Put Price = 14.51, Decision: Hold\n",
            "Strike Price 120: Put Price = 20.00, Decision: Early exercise\n",
            "Strike Price 130: Put Price = 30.00, Decision: Early exercise\n",
            "\n",
            "Explanation using Put-Call Parity:\n",
            "- Early exercise does not occur at strike 100 because the expected continuation value is higher than the intrinsic value.\n",
            "- Early exercise does not occur at strike 110 because the expected continuation value is higher than the intrinsic value.\n",
            "- Early exercise occurs at strike 120 due to the put option's intrinsic value being higher than its time value.\n",
            "- Early exercise occurs at strike 130 due to the put option's intrinsic value being higher than its time value.\n",
            "\n",
            "For all strikes greater than those for early exercise:\n",
            "Early exercise is sure to occur since the intrinsic value (K - S) will only increase, making it more favorable compared to the continuation value.\n"
          ]
        }
      ]
    },
    {
      "cell_type": "markdown",
      "source": [
        "(b)\n",
        " No, never occur. Since call option exercised early, it only gets dividend, not the interest get from strike. No dividend in this case.\n",
        "\n",
        "\n",
        " (c)The value of a put falls when the strike price decreases.Once cross the put lower bound price, all other calls will be exercised."
      ],
      "metadata": {
        "id": "oaAM6Tn9LMUN"
      }
    },
    {
      "cell_type": "markdown",
      "source": [
        "**11.5**"
      ],
      "metadata": {
        "id": "ayEZvBPHLS_f"
      }
    },
    {
      "cell_type": "code",
      "source": [
        "import math\n",
        "\n",
        "S = 100  # Current stock price\n",
        "r = 0  # Annual risk-free rate set to 0\n",
        "sigma = 0.3  # Volatility (annual standard deviation)\n",
        "h = 1  # Time period\n",
        "delta = 0.08  # Dividend yield set to 0.08\n",
        "K_options = [100, 110, 120, 130]  # Strike prices\n",
        "\n",
        "# Up and down factors\n",
        "u = math.exp(sigma * math.sqrt(h))\n",
        "d = math.exp(-sigma * math.sqrt(h))\n",
        "\n",
        "# Risk-neutral probability with r set to 0\n",
        "q = (math.exp(-delta * h) - d) / (u - d)\n",
        "\n",
        "# Determine the lowest strike price at which early exercise will occur\n",
        "early_exercise_strike = None\n",
        "\n",
        "# Function to compute put option prices\n",
        "def american_put_price(S, K, u, d, q, r, h, delta):\n",
        "    # Put payoff at up and down states\n",
        "    P_u = max(K - S * u, 0)\n",
        "    P_d = max(K - S * d, 0)\n",
        "\n",
        "    # Value of holding the option (no discounting since r = 0)\n",
        "    P_hold = (q * P_u + (1 - q) * P_d)\n",
        "\n",
        "    # Immediate exercise value (discounted for dividends)\n",
        "    P_exercise = max(K - S * math.exp(-delta * h), 0)\n",
        "\n",
        "    # Early exercise opportunity\n",
        "    return max(P_hold, P_exercise), P_hold < P_exercise\n",
        "\n",
        "# Calculate put option prices for each strike price and determine early exercise\n",
        "put_prices = {}\n",
        "early_exercise = False\n",
        "for K in K_options:\n",
        "    put_price, is_early_exercise = american_put_price(S, K, u, d, q, r, h, delta)\n",
        "    put_prices[K] = put_price\n",
        "    if is_early_exercise and early_exercise_strike is None:\n",
        "        early_exercise_strike = K\n",
        "        early_exercise = True\n",
        "\n",
        "# Output the results\n",
        "print(f\"Put Option Prices: {put_prices}\")\n",
        "if early_exercise:\n",
        "    print(f\"The lowest strike price at which early exercise occurs is: {early_exercise_strike}\")\n",
        "else:\n",
        "    print(\"No early exercise is optimal for any of the given strike prices.\")\n"
      ],
      "metadata": {
        "colab": {
          "base_uri": "https://localhost:8080/",
          "height": 0
        },
        "id": "aAVza-YjLbsF",
        "outputId": "d202769a-d9cf-454a-bc87-cdfb2e8e92ce"
      },
      "execution_count": 23,
      "outputs": [
        {
          "output_type": "stream",
          "name": "stdout",
          "text": [
            "Put Option Prices: {100: 18.160344775334547, 110: 25.167143178795293, 120: 32.17394158225604, 130: 39.180739985716784}\n",
            "No early exercise is optimal for any of the given strike prices.\n"
          ]
        }
      ]
    },
    {
      "cell_type": "markdown",
      "source": [
        "the put option prices for a binomial model with the given parameters and checks if early exercise is optimal. If it is, the code will identify the lowest strike price at which early exercise occurs. If early exercise never occurs, it will output that no early exercise is optimal for any of the given strike prices."
      ],
      "metadata": {
        "id": "UjWhm7EVLvI-"
      }
    },
    {
      "cell_type": "markdown",
      "source": [
        "**11.6**"
      ],
      "metadata": {
        "id": "J2dJySwcGVEH"
      }
    },
    {
      "cell_type": "code",
      "source": [
        "import math\n",
        "\n",
        "# Parameters given\n",
        "S = 100  # Current stock price\n",
        "r = 0  # Annual risk-free rate set to 0\n",
        "sigma = 0.3  # Volatility (annual standard deviation)\n",
        "h = 1  # Time period\n",
        "delta = 0.08  # Dividend yield set to 0.08\n",
        "K_options = [100, 110, 120, 130]  # Strike prices\n",
        "\n",
        "# Up and down factors\n",
        "u = math.exp(sigma * math.sqrt(h))\n",
        "d = math.exp(-sigma * math.sqrt(h))\n",
        "\n",
        "# Risk-neutral probability when r = 0\n",
        "q = (1 - d) / (u - d)\n",
        "\n",
        "# Store early exercise information\n",
        "early_exercise_strikes = []\n",
        "\n",
        "# Function to compute put option prices and early exercise opportunities\n",
        "def american_put_price(S, K, u, d, q, r, h, delta):\n",
        "    # Put payoff at up and down states\n",
        "    P_u = max(K - S * u, 0)\n",
        "    P_d = max(K - S * d, 0)\n",
        "\n",
        "    # Value of holding the option (no discounting since r = 0)\n",
        "    P_hold = q * P_u + (1 - q) * P_d\n",
        "\n",
        "    # Immediate exercise value (discounted for dividends)\n",
        "    P_exercise = max(K - S * math.exp(-delta * h), 0)\n",
        "\n",
        "    # Determine if early exercise occurs\n",
        "    if P_exercise > P_hold:\n",
        "        early_exercise_strikes.append(K)\n",
        "        return P_exercise, 'Early exercise'\n",
        "    else:\n",
        "        return P_hold, 'Hold'\n",
        "\n",
        "# Calculate and display put option prices for each strike price\n",
        "put_prices = {}\n",
        "for K in K_options:\n",
        "    put_price, decision = american_put_price(S, K, u, d, q, r, h, delta)\n",
        "    put_prices[K] = put_price\n",
        "    print(f\"Strike Price {K}: Put Price = {put_price:.2f}, Decision: {decision}\")\n",
        "\n",
        "# Determine the lowest strike price at which early exercise occurs, if any\n",
        "lowest_early_exercise_strike = min(early_exercise_strikes) if early_exercise_strikes else None\n",
        "print(f\"\\nThe lowest strike price at which early exercise occurs is: {lowest_early_exercise_strike}\")\n"
      ],
      "metadata": {
        "colab": {
          "base_uri": "https://localhost:8080/",
          "height": 0
        },
        "id": "xQGpKhxlKUuT",
        "outputId": "9f09225f-a437-4a98-e7d7-561098833ebf"
      },
      "execution_count": 22,
      "outputs": [
        {
          "output_type": "stream",
          "name": "stdout",
          "text": [
            "Strike Price 100: Put Price = 14.89, Decision: Hold\n",
            "Strike Price 110: Put Price = 20.63, Decision: Hold\n",
            "Strike Price 120: Put Price = 27.69, Decision: Early exercise\n",
            "Strike Price 130: Put Price = 37.69, Decision: Early exercise\n",
            "\n",
            "The lowest strike price at which early exercise occurs is: 120\n"
          ]
        }
      ]
    },
    {
      "cell_type": "code",
      "source": [],
      "metadata": {
        "id": "sYHso4e5NhYI"
      },
      "execution_count": null,
      "outputs": []
    },
    {
      "cell_type": "code",
      "source": [],
      "metadata": {
        "id": "AuYi59yINhQ7"
      },
      "execution_count": null,
      "outputs": []
    },
    {
      "cell_type": "code",
      "source": [],
      "metadata": {
        "id": "CZBGvunuNhPb"
      },
      "execution_count": null,
      "outputs": []
    },
    {
      "cell_type": "code",
      "source": [],
      "metadata": {
        "id": "tV4SgBbYNhOZ"
      },
      "execution_count": null,
      "outputs": []
    },
    {
      "cell_type": "code",
      "source": [],
      "metadata": {
        "id": "ONlBpuIpNhJ6"
      },
      "execution_count": null,
      "outputs": []
    },
    {
      "cell_type": "code",
      "source": [],
      "metadata": {
        "id": "SQbHNHtnNhCy"
      },
      "execution_count": null,
      "outputs": []
    },
    {
      "cell_type": "code",
      "source": [],
      "metadata": {
        "id": "cM3XOdQhNg4O"
      },
      "execution_count": null,
      "outputs": []
    }
  ]
}