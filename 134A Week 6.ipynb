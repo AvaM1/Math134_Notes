{
 "cells": [
  {
   "cell_type": "markdown",
   "source": [
    "# Math 134A Week 6"
   ],
   "metadata": {
    "collapsed": false
   },
   "id": "fedfc06490fc5baa"
  },
  {
   "cell_type": "markdown",
   "source": [
    "**Exercise 5.9** (Little Bear Oil) You have purchased a lease for the Little Bear Oil well. This well has initial reserves of 100 thousand barrels of oil. In any year you have three choices of how to operate the well: (a) you can not pump, in which case there is no operating cost and no change in oil reserves; (b) you can pump normally, in which case the operating cost is 50 thousand, and you will pump out 20% of what the reserves were at the beginning of the year; or (c) you can use enhanced pumping using water pressure, in which case the operating cost is 120 thousand, and you will pump out 36% of what the reserves were at the beginning of the year. The price of oil is $10 per barrel and the interest rate is 10%. Assume that both your operating costs and the oil revenues come at the beginning of the year (through advance sales). Your lease is for a period of 3 years."
   ],
   "metadata": {
    "collapsed": false
   },
   "id": "4dea9f9486db4de9"
  },
  {
   "cell_type": "markdown",
   "source": [
    "**Exercise 5.8** Consider the Complexico mine and assume a 10% constant interest rate; also assume the price of gold is constant at 400/oz.\n",
    "(a) Find the value of the mine (nota 10-year lease) if the current deposit is $x_0$. In particular, how much is the mine worth initially when $x0 = 50,000$ ounces? \\[Hint: Consider the recursive equation for $K_k$ as $k\\rightarrow\\infty$.\\]\n",
    "(b) For the 10-year lease considered in the text, how much gold remains in the mine at the end of the lease; and how much is the mine worth at that time?\n",
    "(c) If the mine were not leased, but instead operated optimally by an owner, what would the mine be worth after 10 years?\n",
    "\n",
    "(Complexico mine) The Complexico mine is for lease. This mine has been worked heavily and is approaching depletion. It is becoming increasingly difficult to extract rich ore. In fact, if x is the amount of gold remaining in the mine at the beginning of a year, the cost to extract $z < x$ ounces of gold in that year is $500z^2/x$. (Note that as x decreases, it becomes more difficult to obtain gold.)"
   ],
   "metadata": {
    "collapsed": false
   },
   "id": "3fa4fda2ac26cd2d"
  },
  {
   "cell_type": "markdown",
   "source": [
    "**Solution:**\n",
    "Assume that we extract in total k years of gold, and we will take $k$ goes to $\\infty$. Let $x_k$ be the deposit at year $k$, and we extract $z_k$ amount of gold. Then, our profit at year $k$ is \n",
    "$$V_k(x_k) = \\max_{z_k}(400z_k-500z_k^2/x_k)$$\n",
    "By taking the derivative of the inside function respect to $z_k$, the above quantity is maximized when \n",
    "$$z_k = 0.4 x_k$$\n",
    ", and we have \n",
    "$$V_k(x_k) = 80x_k$$\n",
    "\n",
    "We denote $K_k = 80$, which satisfies $V_k(x_k) = K_kx_k$. \n",
    "\n",
    "Now, we find a recursive relation on $K_i$. The profit at year $k-1$ is \n",
    "$$V_{k-1}(x_{k-1}) = \\max_{z_{k-1}}(400z_{k-1}-500z_{k-1}^2/x_{k-1}) + \\frac{1}{1.1}\\cdot V_k(x_{k-1}-z_{k-1})) = \\max_{z_{k-1}}(400z_{k-1}-500z_{k-1}^2/x_{k-1}) + \\frac{1}{1.1}\\cdot K_k(x_{k-1}-z_{k-1})))$$\n",
    "\n",
    "By computing the derivative respect to $z_{k-1}$, the above is maximaized when \n",
    "$$z_{k-1} = \\frac{400-\\frac{1}{1.1}K_k}{1000}x_{k-1}$$\n",
    "and \n",
    "$$V_{k-1} = \\left(\\frac{(400-\\frac{1}{1.1}K_k)^2}{2000}+\\frac{1}{1.1}K_{k}\\right)x_{k-1}$$\n",
    "\n",
    "In other words, we have \n",
    "$$V_{k-1} = K_{k-1}x_{k-1}$$\n",
    "where $$K_{k-1} = \\frac{(400-\\frac{1}{1.1}K_k)^2}{2000}+\\frac{1}{1.1}K_{k}$$\n",
    "\n",
    "The same formula works recursively, and we have \n",
    "$$K_{j-1} = \\frac{(400-\\frac{1}{1.1}K_j)^2}{2000}+\\frac{1}{1.1}K_{j}$$\n",
    "\n",
    "We are interested in what is $K_0$ when $K_k = 80$ and $k\\rightarrow\\infty$. We may reverse the order of this recursion, and define a new sequence $K_i' = K_{k-i}$. Then, we would have $K_0' = K_k = 80$, and we are interested in $K_k' = K_0$ as $k\\rightarrow\\infty$, and $K_k'$ satisfies \n",
    "$$K_{k+1}' = \\frac{(400-\\frac{1}{1.1}K_k')^2}{2000}+\\frac{1}{1.1}K_{k}'$$\n",
    "Assume that the limit of $K_k'$ is $K$, then by computing the limit on both sides, we have \n",
    "$$K = \\frac{(400-\\frac{1}{1.1}K)^2}{2000}+\\frac{1}{1.1}K$$\n",
    "Solving this equation gives $K = 220$. Hence, we know that $K_0 = K_k' = 220$ as $k$ goes to infinity. \n",
    "\n",
    "The price of this mine is thus $V_0(x_0) = K_0\\cdot x_0 = 11000000$"
   ],
   "metadata": {
    "collapsed": false
   },
   "id": "613994c7445d7112"
  },
  {
   "cell_type": "markdown",
   "source": [],
   "metadata": {
    "collapsed": false
   },
   "id": "933bdb97da6374bc"
  }
 ],
 "metadata": {
  "kernelspec": {
   "display_name": "Python 3",
   "language": "python",
   "name": "python3"
  },
  "language_info": {
   "codemirror_mode": {
    "name": "ipython",
    "version": 2
   },
   "file_extension": ".py",
   "mimetype": "text/x-python",
   "name": "python",
   "nbconvert_exporter": "python",
   "pygments_lexer": "ipython2",
   "version": "2.7.6"
  }
 },
 "nbformat": 4,
 "nbformat_minor": 5
}
