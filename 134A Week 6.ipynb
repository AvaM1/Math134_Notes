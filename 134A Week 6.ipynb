{
 "cells": [
  {
   "cell_type": "markdown",
   "source": [
    "# Math 134A Week 6"
   ],
   "metadata": {
    "collapsed": false
   },
   "id": "fedfc06490fc5baa"
  },
  {
   "cell_type": "markdown",
   "source": [
    "**Exercise 5.9** (Little Bear Oil) You have purchased a lease for the Little Bear Oil well. This well has initial reserves of 100 thousand barrels of oil. In any year you have three choices of how to operate the well: (a) you can not pump, in which case there is no operating cost and no change in oil reserves; (b) you can pump normally, in which case the operating cost is 50 thousand, and you will pump out 20% of what the reserves were at the beginning of the year; or (c) you can use enhanced pumping using water pressure, in which case the operating cost is 120 thousand, and you will pump out 36% of what the reserves were at the beginning of the year. The price of oil is $10 per barrel and the interest rate is 10%. Assume that both your operating costs and the oil revenues come at the beginning of the year (through advance sales). Your lease is for a period of 3 years."
   ],
   "metadata": {
    "collapsed": false
   },
   "id": "4dea9f9486db4de9"
  },
  {
   "cell_type": "markdown",
   "source": [
    "**Exercise 5.8** Consider the Complexico mine and assume a 10% constant interest rate; also assume the price of gold is constant at 400/oz.\n",
    "(a) Find the value of the mine (nota 10-year lease) if the current deposit is $x_0$. In particular, how much is the mine worth initially when $x0 = 50,000$ ounces? \\[Hint: Consider the recursive equation for $K_k$ as $k\\rightarrow\\infty$.\\]\n",
    "(b) For the 10-year lease considered in the text, how much gold remains in the mine at the end of the lease; and how much is the mine worth at that time?\n",
    "(c) If the mine were not leased, but instead operated optimally by an owner, what would the mine be worth after 10 years?\n",
    "\n",
    "(Complexico mine) The Complexico mine is for lease. This mine has been worked heavily and is approaching depletion. It is becoming increasingly difficult to extract rich ore. In fact, if x is the amount of gold remaining in the mine at the beginning of a year, the cost to extract $z < x$ ounces of gold in that year is $500z^2/x$. (Note that as x decreases, it becomes more difficult to obtain gold.)"
   ],
   "metadata": {
    "collapsed": false
   },
   "id": "3fa4fda2ac26cd2d"
  },
  {
   "cell_type": "markdown",
   "source": [
    "**Solution:**\n",
    "Assume that we extract in total k years of gold, and we will take $k$ goes to $\\infty$. Let $x_k$ be the deposit at year $k$, and we extract $z_k$ amount of gold. Then, our profit at year $k$ is \n",
    "$$V_k(x_k) = \\max_{z_k}(400z_k-500z_k^2/x_k)$$\n",
    "By taking the derivative of the inside function respect to $z_k$, the above quantity is maximized when \n",
    "$$z_k = 0.4 x_k$$\n",
    ", and we have \n",
    "$$V_k(x_k) = 80x_k$$\n",
    "\n",
    "We denote $K_k = 80$, which satisfies $V_k(x_k) = K_kx_k$. \n",
    "\n",
    "Now, we find a recursive relation on $K_i$. The profit at year $k-1$ is \n",
    "$$V_{k-1}(x_{k-1}) = \\max_{z_{k-1}}(400z_{k-1}-500z_{k-1}^2/x_{k-1}) + \\frac{1}{1.1}\\cdot V_k(x_{k-1}-z_{k-1})) = \\max_{z_{k-1}}(400z_{k-1}-500z_{k-1}^2/x_{k-1}) + \\frac{1}{1.1}\\cdot K_k(x_{k-1}-z_{k-1})))$$\n",
    "\n",
    "By computing the derivative respect to $z_{k-1}$, the above is maximaized when \n",
    "$$z_{k-1} = \\frac{400-\\frac{1}{1.1}K_k}{1000}x_{k-1}$$\n",
    "and \n",
    "$$V_{k-1} = \\left(\\frac{(400-\\frac{1}{1.1}K_k)^2}{2000}+\\frac{1}{1.1}K_{k}\\right)x_{k-1}$$\n",
    "\n",
    "In other words, we have \n",
    "$$V_{k-1} = K_{k-1}x_{k-1}$$\n",
    "where $$K_{k-1} = \\frac{(400-\\frac{1}{1.1}K_k)^2}{2000}+\\frac{1}{1.1}K_{k}$$\n",
    "\n",
    "The same formula works recursively, and we have \n",
    "$$K_{j-1} = \\frac{(400-\\frac{1}{1.1}K_j)^2}{2000}+\\frac{1}{1.1}K_{j}$$\n",
    "\n",
    "We are interested in what is $K_0$ when $K_k = 80$ and $k\\rightarrow\\infty$. We may reverse the order of this recursion, and define a new sequence $K_i' = K_{k-i}$. Then, we would have $K_0' = K_k = 80$, and we are interested in $K_k' = K_0$ as $k\\rightarrow\\infty$, and $K_k'$ satisfies \n",
    "$$K_{k+1}' = \\frac{(400-\\frac{1}{1.1}K_k')^2}{2000}+\\frac{1}{1.1}K_{k}'$$\n",
    "Assume that the limit of $K_k'$ is $K$, then by computing the limit on both sides, we have \n",
    "$$K = \\frac{(400-\\frac{1}{1.1}K)^2}{2000}+\\frac{1}{1.1}K$$\n",
    "Solving this equation gives $K = 220$. Hence, we know that $K_0 = K_k' = 220$ as $k$ goes to infinity. \n",
    "\n",
    "The price of this mine is thus $V_0(x_0) = K_0\\cdot x_0 = 11000000$"
   ],
   "metadata": {
    "collapsed": false
   },
   "id": "613994c7445d7112"
  },
  {
   "cell_type": "markdown",
   "source": [
    "# Review of Probability\n",
    "Let $X$ be a discrete random variable with possible values $x_1,\\ldots, x_n$. We define its **expected value**\n",
    "$$E[X] = \\sum_1^n x_i P(X = x_i)$$\n",
    "and **variance**\n",
    "$$\\text{Var}(X) = E[(X-E[X])^2] = E[X^2] - E[X]^2$$\n",
    "\n",
    "They have the following properties\n",
    "$$E[aX+bY+c] = aE[X]+bE[Y]+c$$\n",
    "$$\\text{Var}(aX+b) = a^2\\text{Var}(X)$$\n",
    "\n",
    "Let $X, Y$ be two random variables, we define the **covariance of** $X, Y$ to be \n",
    "$$\\text{Cov}(X, Y) = E[(X-E[X])(Y-E[Y])] = E[XY] - E[X]E[Y]$$\n",
    "\n",
    "The covariance is a bilinear positive semi-definite symmetric form (i.e, it is an inner product), satisfying the properties \n",
    "$$\\text{Cov}(X, Y) = \\text{Cov}(Y, X)$$\n",
    "$$\\text{Cov}(\\sum_1^n X_i, \\sum_1^nX_i) = \\sum_{i,j}\\text{Cov}(X_i, X_j)$$\n",
    "\n",
    "By Cauchy-Schwarz inequality, we can show that \n",
    "$$|\\text{Cov}(X,Y)|\\leq \\sqrt{Var(X)}\\sqrt{Var(Y)}$$\n",
    "and the equality holds if $Y$ is a scalar multiple of $X$. "
   ],
   "metadata": {
    "collapsed": false
   },
   "id": "933bdb97da6374bc"
  },
  {
   "cell_type": "markdown",
   "source": [
    "We say two random variables are **uncorrelated** if their covariance is zero. In particular, independent random variables are uncorrelated. However, there are random variables which are dependent, but uncorrelated. \n",
    "\n",
    "We define the **Pearson correlation coefficient** as \n",
    "$$\\rho_{X,Y} = \\frac{Cov(X,Y)}{\\sqrt{Var(X)}\\sqrt{Var(Y)}}.$$\n",
    "Then we have $\\rho_{X,Y}\\in [-1, 1]$, and $\\rho_{X,Y} = \\pm 1$ if and only if $X=\\pm c\\cdot Y$ where $c$ is a positive number.\n",
    "\n",
    "By the bilinearlity of covariance, we can show that \n",
    "$$\\text{Var}(X+Y) = \\text{Cov}(X+Y, X+Y) = \\text{Var}(X)+\\text{Var}(Y) + 2\\text{Cov}(X, Y)$$"
   ],
   "metadata": {
    "collapsed": false
   },
   "id": "20aa63974efa354c"
  },
  {
   "cell_type": "markdown",
   "source": [
    "**Exercise 6.2:** (Dice product) Two dice are rolled and the two resulting values are multiplied together to form the quantity z. What are the expected value and the variance of the random variable z? \\[Hint: Use the independence of the two separate dice. \\]"
   ],
   "metadata": {
    "collapsed": false
   },
   "id": "7607f0ec1533d863"
  },
  {
   "cell_type": "markdown",
   "source": [
    "**Example**\n",
    "Consider uniform distribution on $5$ points with coordinates $(\\pm 1, \\pm 1)$ and $(0, 0)$. Let $X$ be the random variable returning the $x$-coordinate of the randomly selected point, and $Y$ be the $y$-coordinate of the randomly selected point. Compute $\\text{Cov}(X,Y)$, and show that $X, Y$ are uncorrelated, but dependent. "
   ],
   "metadata": {
    "collapsed": false
   },
   "id": "bf360e7e50efbae5"
  },
  {
   "cell_type": "markdown",
   "source": [
    "**Example**\n",
    "Let $X, Y$ be independent normal distribution with mean $0$ and variance $1$. Show that $(X, \\rho X+\\sqrt{1-\\rho^2}Y)$ has correlation coefficient $\\rho$."
   ],
   "metadata": {
    "collapsed": false
   },
   "id": "98cf2a1a16ad70ed"
  },
  {
   "cell_type": "code",
   "outputs": [
    {
     "data": {
      "text/plain": "<Figure size 640x480 with 1 Axes>",
      "image/png": "[encoded data removed]"
     },
     "metadata": {},
     "output_type": "display_data"
    }
   ],
   "source": [
    "import matplotlib.pyplot as plt\n",
    "import numpy as np\n",
    "\n",
    "n = 50\n",
    "rho = 0.9\n",
    "X = np.random.normal(0, 1, n)\n",
    "Y = np.random.normal(0, 1, n)\n",
    "Z = rho * X + np.sqrt(1-rho**2) * Y\n",
    "plt.scatter(X, Z)\n",
    "plt.show()"
   ],
   "metadata": {
    "collapsed": false,
    "ExecuteTime": {
     "end_time": "2024-05-09T08:24:02.145301Z",
     "start_time": "2024-05-09T08:24:02.083408Z"
    }
   },
   "id": "8cc7cc1b77e98745",
   "execution_count": 32
  },
  {
   "cell_type": "markdown",
   "source": [
    "# Total return and return rate\n",
    "We consider a single-period investment, which consists of initial investment $X_0$, and final payment $X_1$. We define the **total return** as \n",
    "$$R = \\frac{X_1}{X_0}$$\n",
    "and the **return rate**\n",
    "$$r = \\frac{X_1-X_0}{X_0} = R-1$$\n",
    "\n",
    "Consider a portfolio consisting of $n$ investments, where the initial investment are $X_{0, i}$ and the final payment is $X_{1, i}$. Let $R_i$ and $r_i$ be the total return and return rate of each investment, and $X_0 = \\sum_1^n X_{0, i}, X_n = \\sum_1^n X_{1, i}$. Let $R, r$ be the total return, and retun rate of this portfolio. Let $w_i = \\frac{X_{0,i}}{X_0}$ be the weight of each investment. Then, we have\n",
    "$$R = \\frac{\\sum_1^n X_{1, i}}{X_0} = \\frac{\\sum_1^n w_iX_0R_i}{X_0} = \\sum_1^n w_i R_i$$\n",
    "$$r = R-1 = \\sum_1^n w_iR_i - \\sum_1^n w_i = \\sum_1^n w_i (R-1) = \\sum_1^n w_i r_i$$\n",
    "\n",
    "In summary, the total return and return rate of a portfolio is a weighted sum of the total return and return rate of each asset in the portfolio, where the weight is the relative cost in the portfolio. "
   ],
   "metadata": {
    "collapsed": false
   },
   "id": "29239f5b660398f7"
  }
 ],
 "metadata": {
  "kernelspec": {
   "display_name": "Python 3",
   "language": "python",
   "name": "python3"
  },
  "language_info": {
   "codemirror_mode": {
    "name": "ipython",
    "version": 2
   },
   "file_extension": ".py",
   "mimetype": "text/x-python",
   "name": "python",
   "nbconvert_exporter": "python",
   "pygments_lexer": "ipython2",
   "version": "2.7.6"
  }
 },
 "nbformat": 4,
 "nbformat_minor": 5
}
