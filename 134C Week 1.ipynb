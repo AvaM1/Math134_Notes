{
 "cells": [
  {
   "cell_type": "markdown",
   "source": [
    "# Math 134C Week 1"
   ],
   "metadata": {
    "collapsed": false
   },
   "id": "62fc2ce705bec6da"
  },
  {
   "cell_type": "markdown",
   "source": [
    "## Review of the options\n",
    "A **call option** is a contract with a expiry date $T>t$ and a **strike price/exercise price** $K>0$ in which\n",
    "1. The holder (who has the long position) has the **right** to buy the underlying asset at the strike price at the expiry date. (This is the European option. For American option, holder can choose to exercise the right anytime before the expiry date)\n",
    "2. The writer (who has the short position) is obliged to deliver the underlying asset at the strike price if the holder choose to exercise the right.\n",
    "\n",
    "The payoff of holding the call option at the expiry date is \n",
    "$$C_T(S_T, K) = (S_T-K)^+ = \\max(S_T-K, 0)$$\n",
    "The holder of the contract needs to pay a positive amount of money to the writer (this is a consequence of no arbitrage). We call that as **premium**. We will learn in this class about what is the right price for a call option.\n",
    "\n",
    "A **put option** is defined similarly. The difference is that the holder has the right to sell the underlying asset at the strike price. The payoff for the holder is \n",
    "$$P_T(S_T, K) = (K-S_T)^+$$\n",
    "\n",
    "Also, note that if a stock pays dividend, then the holder of the call option does not have the right to receive the dividend. Usually the amound of dividend paid will be the amount that the stock price decreases. "
   ],
   "metadata": {
    "collapsed": false
   },
   "id": "109321aad2aa7d03"
  },
  {
   "cell_type": "markdown",
   "source": [
    "## Put-Call Parity\n",
    "Consider a call option and a put option written on the same underlying asset with price $S_t$, with the same strike price and also same expiry date $T$. Suppose the risk-free factor is $r$. Then the price of call option and put option $C_t, P_t$ satisfies\n",
    "$$C_t-P_t = S_t-Ke^{-r(T-t)}$$\n",
    "\n",
    "**Proof:**\n",
    "We consider a portfolio consisting of longing a call option and short a put option. Then its payoff at time $T$ is $$(S_T-K)^+ -(K-S_T)^+ = S_T-K.$$ Consider another portfolio of long a share of stock and short $Ke^{-r(T-t)}$ in the bank, then the payoff at time $T$ is also $S_T-K$. Since those two portfolio have the same payoff at time $T$, their value at time $t$ must also be the same by the no arbitrage principle. Hence, we get $C_t-P_t = S_t-Ke^{-r(T-t)}$"
   ],
   "metadata": {
    "collapsed": false
   },
   "id": "c7627a92d9217abc"
  },
  {
   "cell_type": "code",
   "outputs": [],
   "source": [
    "import math\n",
    "def put_given_call(C_t, S_t, K, r, dt):\n",
    "    return C_t - S_t + K * math.exp(-r * dt)\n",
    "def call_given_put(P_t, S_t, K, r, dt):\n",
    "    return P_t + S_t - K * math.exp(-r * dt)"
   ],
   "metadata": {
    "collapsed": false,
    "ExecuteTime": {
     "end_time": "2024-04-04T08:41:08.924584Z",
     "start_time": "2024-04-04T08:41:08.911837Z"
    }
   },
   "id": "a6cfcb7bcfa92579",
   "execution_count": 1
  },
  {
   "cell_type": "markdown",
   "source": [
    "### Example in the lecture 1 note. \n",
    "\n",
    "Question: There are two days until expiration date. Yuting wants to sell a call option with strike price 100; i.e., she wants to go short on $C_100$. The interest rate is $r = 10\\%$ and the current value of the stock is 120. Use the put-call parity expression to find a lower bound on the value of this Call.\n",
    "\n",
    "Answer: The lower bound of the call option price is reached when the put option price is minimized. The minimal put option price is $0$. So we run the following code to find the lower bound for the call option price. "
   ],
   "metadata": {
    "collapsed": false
   },
   "id": "8bb60625a42954cb"
  },
  {
   "cell_type": "code",
   "outputs": [
    {
     "data": {
      "text/plain": "20.05477951109212"
     },
     "execution_count": 2,
     "metadata": {},
     "output_type": "execute_result"
    }
   ],
   "source": [
    "call_given_put(P_t = 0, S_t = 120, K = 100, r = 0.1, dt = 2/365)"
   ],
   "metadata": {
    "collapsed": false,
    "ExecuteTime": {
     "end_time": "2024-04-04T08:41:08.939577Z",
     "start_time": "2024-04-04T08:41:08.925662Z"
    }
   },
   "id": "2d2bf0f3a6ecd1a6",
   "execution_count": 2
  },
  {
   "cell_type": "markdown",
   "source": [
    "### Put-Call parity for dividend paying stock\n",
    "Suppose the stock will pay a dividend of amount $D$ at a time between $t$ and $T$. Then the value of the stock at $t$ should be adjusted to $S_t - PV(D)$ given that we are not receiving the dividend. So we get the formula \n",
    "$$C_t-P_t = S_t-PV(D) - Ke^{-r(T-t)}$$\n",
    "For continuous dividend paying stock with continuous dividend yield $\\delta$, the future value of the stock with the dividend at the time $T$ is given by $S_Te^{\\delta (T-t)}$. Hence it is enough to hold $e^{-\\delta(T-t)}$ share of stock, and its payoff (future value) at time $T$ is $S_T$. Then we get the formula\n",
    "\n",
    "$$C_t - P_t = S_te^{-\\delta(T-t)} - Ke^{-r(T-t)}$$ "
   ],
   "metadata": {
    "collapsed": false
   },
   "id": "aec9de46b8348a0d"
  },
  {
   "cell_type": "code",
   "outputs": [],
   "source": [
    "import math\n",
    "# r is the risk-free rate, F is a cash flow, and dT is the time that we get each cash flow\n",
    "def PV(F, dT, r):\n",
    "    pv = 0\n",
    "    if len(dT) != len(F):\n",
    "        print(\"Input Error\")\n",
    "        return 0\n",
    "    for n in range(0, len(F)):\n",
    "        pv += F[n] * math.exp(-r * dT[n])\n",
    "    return pv\n",
    "        \n",
    "\n",
    "def put_given_call(C_t, S_t, K, r, dt, D= None, dT = None, delta = 0):\n",
    "    if D is None: D = []\n",
    "    if dT is None: dT = []\n",
    "    return C_t - (S_t - PV(D, dT, r)) * math.exp(-delta * dt) + K * math.exp(-r * dt)\n",
    "\n",
    "def call_given_put(P_t, S_t, K, r, dt, D = None, dT = None, delta = 0):\n",
    "    if D is None: D = []\n",
    "    if dT is None: dT = []\n",
    "    return P_t + (S_t - PV(D, dT, r)) * math.exp(-delta * dt) - K * math.exp(-r * dt)"
   ],
   "metadata": {
    "collapsed": false,
    "ExecuteTime": {
     "end_time": "2024-04-04T08:41:08.954714Z",
     "start_time": "2024-04-04T08:41:08.939577Z"
    }
   },
   "id": "58fe8b2be874d96b",
   "execution_count": 3
  },
  {
   "cell_type": "markdown",
   "source": [
    "### Example\n",
    "Problem 9.1 In textbook\n",
    "\n",
    "A stock currently sells for 32.00. A 6-month call option with a strike of 35.00 has a premium of 2.27. Assuming a 0.04 continuously compounded risk-free rate and a 0.06 continuous dividend yield, what is the price of the associated put option?"
   ],
   "metadata": {
    "collapsed": false
   },
   "id": "411a8764cfaf128a"
  },
  {
   "cell_type": "code",
   "outputs": [
    {
     "data": {
      "text/plain": "5.522696492184174"
     },
     "execution_count": 4,
     "metadata": {},
     "output_type": "execute_result"
    }
   ],
   "source": [
    "put_given_call(C_t = 2.27, S_t = 32, K = 35, r = 0.04, dt = 0.5, delta = 0.06)"
   ],
   "metadata": {
    "collapsed": false,
    "ExecuteTime": {
     "end_time": "2024-04-04T08:41:08.969600Z",
     "start_time": "2024-04-04T08:41:08.955869Z"
    }
   },
   "id": "67dd1778e2058ed9",
   "execution_count": 4
  },
  {
   "cell_type": "markdown",
   "source": [
    "### Example\n",
    "Jafee Corp. common stock is priced at 36.50 per share. The company just paid its 0.50 quarterly dividend. The continuously compounded risk-free annual interest rate is 0.06. A 35.00 strike European call, maturing in 6 months, sells for 3.20. What is the price of a 6-month, 35.00 strike put option?"
   ],
   "metadata": {
    "collapsed": false
   },
   "id": "682c135c2ad02387"
  },
  {
   "cell_type": "code",
   "outputs": [
    {
     "data": {
      "text/plain": "1.6433724107735728"
     },
     "execution_count": 5,
     "metadata": {},
     "output_type": "execute_result"
    }
   ],
   "source": [
    "put_given_call(C_t = 3.2, S_t = 36.5, K = 35, r = 0.06, D=[0.5, 0.5], dT = [0.25, 0.5], dt = 0.5)"
   ],
   "metadata": {
    "collapsed": false,
    "ExecuteTime": {
     "end_time": "2024-04-04T08:41:08.985034Z",
     "start_time": "2024-04-04T08:41:08.969600Z"
    }
   },
   "id": "cafa77d604287604",
   "execution_count": 5
  },
  {
   "cell_type": "markdown",
   "source": [
    "### Arbitrage opportunity for mispriced options \n",
    "Consider the option on a non-dividend paying stock for simplicity. If the put-call parity equation does not hold, then we will have arbitrage opportunities. \n"
   ],
   "metadata": {
    "collapsed": false
   },
   "id": "ae474f9762984b1d"
  },
  {
   "cell_type": "code",
   "outputs": [],
   "source": [],
   "metadata": {
    "collapsed": false
   },
   "id": "8b22cbaa2662cc0c"
  }
 ],
 "metadata": {
  "kernelspec": {
   "display_name": "Python 3",
   "language": "python",
   "name": "python3"
  },
  "language_info": {
   "codemirror_mode": {
    "name": "ipython",
    "version": 2
   },
   "file_extension": ".py",
   "mimetype": "text/x-python",
   "name": "python",
   "nbconvert_exporter": "python",
   "pygments_lexer": "ipython2",
   "version": "2.7.6"
  }
 },
 "nbformat": 4,
 "nbformat_minor": 5
}
