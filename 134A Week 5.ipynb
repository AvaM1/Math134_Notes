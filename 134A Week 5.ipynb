{
 "cells": [
  {
   "cell_type": "markdown",
   "source": [
    "# Math 134A Week 5"
   ],
   "metadata": {
    "collapsed": false
   },
   "id": "3ff85c29935cf6a6"
  },
  {
   "cell_type": "markdown",
   "source": [
    "# Short Rates\n",
    "Given the spot rates $(s_1, s_2,\\ldots)$. We define the **short rates** at time $k$ as $r_k = f_{k, k+1}$, and $r_0 = s_1$. The short rates $r_k$ is the interest rate for the 1-year term loan at time $k$.\n",
    "\n",
    "Then we have the equation \n",
    "$$(1+s_k)^k = (1+r_0)\\cdots(1+r_k)$$\n",
    "\n",
    "$$(1+f_{i,j})^{j-1} = (1+r_i)\\cdots(1+r_j)$$\n",
    "\n",
    "Given the short rates, we can also determine the spot rates uniquely.\n"
   ],
   "metadata": {
    "collapsed": false
   },
   "id": "1fcbe02e0ecffd0d"
  },
  {
   "cell_type": "markdown",
   "source": [
    "# Invariance Theorem\n",
    "**Theorem** \\\n",
    "We suppose that the interest rate evolve under the **expectation dynamics** (i.e. the spot rates of next year are given by the forward rates $s_1' = f_{1, 2},\\;s_2' = f_{1,3},\\ldots$), and the interest compounds annually. Then, a sum of money invested in the interest rate market for n years will grow by a factor of $(1+s_n)^n$, independent of the investment and reinvestment strategy as long as all funds are fully invested. \n",
    "\n",
    "**Example** \\\n",
    "Suppose that the spot rates are $(0.1, 0.2)$. We consider an investment of 100 dollars in 2 years. One option is that we may purchase the 1-year certificate of deposit, and we will have 110 at year 1. By the expectation dynamic, the new spot rate for 1 year investment is $f_{1,2} = 1.2^2/1.1 - 1$. If we reinvest the 110 at this interest rate, we get $110 \\cdot (1.2^2/1.1) = 144$ at year 2. The other option is that we can purchase the 2-year certificate of deposit, and we will get $100 \\cdot 1.2^2 = 144$ at year 2. Those two investments provide the same return at the end of year 2. \n",
    "\n",
    "\n"
   ],
   "metadata": {
    "collapsed": false
   },
   "id": "94efe6bb8b81413b"
  },
  {
   "cell_type": "markdown",
   "source": [
    "# Running Present Value\n",
    "We consider a cashflow $(x_0, x_1,\\ldots, x_n)$, where $x_i$ is received in year $i$. Suppose that the spot rates are $(s_1,s_2,\\ldots, s_n)$, and we define the discount factor $d_k = d_{0, k} = \\frac{1}{(1+s_k)^k}$, which is the discount factor from time k to time 0. We may also define the discount factor $d_{j,k} = \\frac{1}{(1+f_{j, k})^{k-j}}$, which is the discount factor from time $k$ to time $j$. Let $PV(0)$ be the present value of this cashflow at time $0$, then we have \n",
    "$$PV(0) = x_0+x_1d_1+\\cdots+x_kd_k$$\n",
    "\n",
    "Let $PV(k)$ to be the present value of the remaining cashflow at time k. In other words, $PV(k)$ is the present value of the cashflow $(x_k, x_{k+1},\\ldots, x_n)$ under the spot rates at time $k$, which is $(f_{k, k+1}, f_{k, k+2},\\ldots, f_{k, k+n})$. Then we have \n",
    "$$PV(k) = x_k+x_{k+1}d_{k, k+1}+\\cdots+x_{n}d_{k, n}$$\n",
    "\n",
    "Then, we have the following formula for computing $PV(0)$ recursively\n",
    "$$\\begin{cases}\n",
    "PV(n) = x_n \\\\\n",
    "PV(k) = x_k+d_{k, k+1}P(k+1)\n",
    "\\end{cases}$$\n",
    "\n",
    "\n",
    "\n",
    "\n",
    "\n"
   ],
   "metadata": {
    "collapsed": false
   },
   "id": "48896fb8b44fd5d2"
  },
  {
   "cell_type": "markdown",
   "source": [
    "**Exercise 4.11** (Running PV example) \\\n",
    "A (yearly) cash flow stream is $x = (—40, 10,10, 10, 10, 10, 10)$. The spot rates are (5.0, 5.3, 5.6, 5.8, 6.0, 6.1) \\\n",
    "(a) Find the current discount factors $d_{0, k}$, and use them to determine the (net) present value of the stream. \\\n",
    "(b) Find the series of expectations dynamics short-rate discount factors, and use the running present value method to evaluate the stream."
   ],
   "metadata": {
    "collapsed": false
   },
   "id": "8fa50d50a8028119"
  },
  {
   "cell_type": "code",
   "outputs": [
    {
     "name": "stdout",
     "output_type": "stream",
     "text": [
      "a) The current discount rates d_{0,k} are  ['0.952', '0.902', '0.849', '0.798', '0.747', '0.701']\n",
      "   We use the following table to compute the present value of this cashflow\n"
     ]
    },
    {
     "data": {
      "text/plain": "    Year Cashflow Spot Discount Factor  Present Value\n       0      -40                  1.0     -40.000000\n       1       10    5        0.952381       9.523810\n       2       10  5.3        0.901869       9.018686\n       3       10  5.6        0.849197       8.491966\n       4       10  5.8          0.7981       7.981000\n       5       10    6        0.747258       7.472582\n       6       10  6.1        0.700983       7.009833\nSum                                          9.497877",
      "text/html": "<div>\n<style scoped>\n    .dataframe tbody tr th:only-of-type {\n        vertical-align: middle;\n    }\n\n    .dataframe tbody tr th {\n        vertical-align: top;\n    }\n\n    .dataframe thead th {\n        text-align: right;\n    }\n</style>\n<table border=\"1\" class=\"dataframe\">\n  <thead>\n    <tr style=\"text-align: right;\">\n      <th></th>\n      <th>Year</th>\n      <th>Cashflow</th>\n      <th>Spot</th>\n      <th>Discount Factor</th>\n      <th>Present Value</th>\n    </tr>\n  </thead>\n  <tbody>\n    <tr>\n      <th></th>\n      <td>0</td>\n      <td>-40</td>\n      <td></td>\n      <td>1.0</td>\n      <td>-40.000000</td>\n    </tr>\n    <tr>\n      <th></th>\n      <td>1</td>\n      <td>10</td>\n      <td>5</td>\n      <td>0.952381</td>\n      <td>9.523810</td>\n    </tr>\n    <tr>\n      <th></th>\n      <td>2</td>\n      <td>10</td>\n      <td>5.3</td>\n      <td>0.901869</td>\n      <td>9.018686</td>\n    </tr>\n    <tr>\n      <th></th>\n      <td>3</td>\n      <td>10</td>\n      <td>5.6</td>\n      <td>0.849197</td>\n      <td>8.491966</td>\n    </tr>\n    <tr>\n      <th></th>\n      <td>4</td>\n      <td>10</td>\n      <td>5.8</td>\n      <td>0.7981</td>\n      <td>7.981000</td>\n    </tr>\n    <tr>\n      <th></th>\n      <td>5</td>\n      <td>10</td>\n      <td>6</td>\n      <td>0.747258</td>\n      <td>7.472582</td>\n    </tr>\n    <tr>\n      <th></th>\n      <td>6</td>\n      <td>10</td>\n      <td>6.1</td>\n      <td>0.700983</td>\n      <td>7.009833</td>\n    </tr>\n    <tr>\n      <th>Sum</th>\n      <td></td>\n      <td></td>\n      <td></td>\n      <td></td>\n      <td>9.497877</td>\n    </tr>\n  </tbody>\n</table>\n</div>"
     },
     "metadata": {},
     "output_type": "display_data"
    },
    {
     "name": "stdout",
     "output_type": "stream",
     "text": [
      "The net present value of this cashflow is 9.498\n",
      "\n",
      "b) If we compute the present value by the running PV methods, then we have the following\n",
      "PV(6) = 10.00\n",
      "PV(5) = 10.00 + 10.000 * 0.9381 = 19.381\n",
      "PV(4) = 10.00 + 19.381 * 0.9363 = 28.146\n",
      "PV(3) = 10.00 + 28.146 * 0.9398 = 36.453\n",
      "PV(2) = 10.00 + 36.453 * 0.9416 = 44.324\n",
      "PV(1) = 10.00 + 44.324 * 0.9470 = 51.973\n",
      "PV(0) = -40.00 + 51.973 * 0.9524 = 9.498\n"
     ]
    }
   ],
   "source": [
    "import pandas as pd\n",
    "\n",
    "cashflow = [-40, 10, 10, 10, 10, 10, 10]\n",
    "spot_rates = [5, 5.3, 5.6, 5.8, 6, 6.1]\n",
    "discount_factors_0 = []\n",
    "for k in range(len(spot_rates)):\n",
    "    discount_factors_0.append(1/ (1 + spot_rates[k]/100)**(k+1))\n",
    "discount_factors_0_formated = [ '%.3f' % elem for elem in discount_factors_0]\n",
    "print(\"a) The current discount rates d_{0,k} are \", discount_factors_0_formated)\n",
    "print(\"   We use the following table to compute the present value of this cashflow\")\n",
    "\n",
    "table_npv_methods = pd.DataFrame(index=['', '', '', ' ', ' ', ' ', ' '])\n",
    "\n",
    "table_npv_methods['Year'] = [0, 1, 2, 3, 4, 5, 6]\n",
    "table_npv_methods['Cashflow'] = cashflow \n",
    "table_npv_methods['Spot'] = [''] + spot_rates\n",
    "table_npv_methods['Discount Factor'] = [1] + discount_factors_0\n",
    "table_npv_methods['Present Value'] = table_npv_methods['Cashflow'] * table_npv_methods['Discount Factor']\n",
    "npv = sum(table_npv_methods['Present Value'])\n",
    "table_npv_methods.loc['Sum'] = ['', ' ',  ' ', ' ', npv] \n",
    "\n",
    "display(table_npv_methods)\n",
    "print(f\"The net present value of this cashflow is {npv:.3f}\\n\")\n",
    "\n",
    "print(\"b) If we compute the present value by the running PV methods, then we have the following\")\n",
    "\n",
    "print(f\"PV({6}) = {cashflow[-1]:.2f}\")\n",
    "pv_last_step = cashflow[-1]\n",
    "for k in reversed(range(0, len(cashflow) - 1)):\n",
    "    discount_factor = (1 + spot_rates[k-1]/100)**k / (1 + spot_rates[k]/100) ** (k+1)\n",
    "    new_pv = cashflow[k] + pv_last_step * discount_factor\n",
    "    print(f\"PV({k}) = {cashflow[k]:.2f} + {pv_last_step:.3f} * {discount_factor:.4f} = {new_pv:.3f}\")\n",
    "    pv_last_step = new_pv"
   ],
   "metadata": {
    "collapsed": false,
    "ExecuteTime": {
     "end_time": "2024-04-29T03:39:32.897606Z",
     "start_time": "2024-04-29T03:39:32.885392Z"
    }
   },
   "id": "e62694256de60b7d",
   "execution_count": 83
  },
  {
   "cell_type": "markdown",
   "source": [
    "# Duration and Sensitivity to Parallel Shift of the Spot Curve\n",
    "\n",
    "# Immunization"
   ],
   "metadata": {
    "collapsed": false
   },
   "id": "2eb8fec0be23a3cd"
  }
 ],
 "metadata": {
  "kernelspec": {
   "display_name": "Python 3",
   "language": "python",
   "name": "python3"
  },
  "language_info": {
   "codemirror_mode": {
    "name": "ipython",
    "version": 2
   },
   "file_extension": ".py",
   "mimetype": "text/x-python",
   "name": "python",
   "nbconvert_exporter": "python",
   "pygments_lexer": "ipython2",
   "version": "2.7.6"
  }
 },
 "nbformat": 4,
 "nbformat_minor": 5
}
