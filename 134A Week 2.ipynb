{
 "cells": [
  {
   "cell_type": "markdown",
   "source": [
    "# Math 134A Week 2"
   ],
   "metadata": {
    "collapsed": false
   },
   "id": "15236c0d02b512d0"
  },
  {
   "cell_type": "code",
   "outputs": [],
   "source": [
    "import math\n",
    "from scipy.optimize import fsolve\n",
    "import numpy_financial as npf\n",
    "import pandas as pd\n",
    "\n",
    "# Computing the present value of a cash flow with interest rate r. \n",
    "def PV(r, cf, continuous_compounding = False, dt = None): \n",
    "    if dt is None: dt = range(len(cf))\n",
    "    pv = 0\n",
    "    if not continuous_compounding:\n",
    "        for k in range(0, len(cf)):\n",
    "            pv += cf[k] / (1+r)**dt[k]\n",
    "    else:\n",
    "        for k in range(0, len(cf)):\n",
    "            pv += cf[k] * math.exp(-r * dt[k])\n",
    "    return pv\n",
    "\n",
    "# This will return the future value of a cash flow at time T. If T is not specified, then we take T as the time that we receive the last cash flow\n",
    "def FV(r, cf, continuous_compounding = False, dt = None, T = None):\n",
    "    if dt is None: dt = range(len(cf))\n",
    "    if T is None: T = dt[-1]\n",
    "    fv = 0\n",
    "    if not continuous_compounding:\n",
    "        for k in range(0, len(cf)):\n",
    "            fv += cf[k] * (1+r)**(T - dt[k])\n",
    "    else:\n",
    "        for k in range(0, len(cf)):\n",
    "            fv += cf[k] * math.exp(r * (T - dt[k]))\n",
    "    return fv   \n",
    "\n",
    "# Computing the internal rate of return by using the fsolve function to find roots to a polynomial\n",
    "def irr(cf):\n",
    "    def simple_npv(r, cf):\n",
    "        return sum(cf[k]/(1+r)**k for k in range(len(cf)))\n",
    "    \n",
    "    result = fsolve(simple_npv, x0 = 0.1, args = cf)\n",
    "    return result[0]\n",
    "\n",
    "# Computing the internal rate of return by using the irr function in numpy financial library\n",
    "def irr2(cf):\n",
    "    return npf.irr(cf)\n"
   ],
   "metadata": {
    "collapsed": false,
    "ExecuteTime": {
     "end_time": "2024-04-09T05:39:53.858895Z",
     "start_time": "2024-04-09T05:39:53.848206Z"
    }
   },
   "id": "2ed72e20b5b00b35",
   "execution_count": 66
  },
  {
   "cell_type": "markdown",
   "source": [
    "**Problem 5**: (Tree cut) Suppose that you have the opportunity to plant trees that later can be sold for lumber. This project requires an initial outlay of money in order to purchase and plant the seedlings. No other cash flow occurs until the trees are harvested. However, you have a choice as to when to harvest. If you harvest after 1 year, you get your return quickly; but if you wait, the trees will have additional growth and the revenue generated from the sale of the trees will be greater. Assume that the cash flow streams associated with these alternatives are:\n",
    "  - Wait 1 year: $(-1, 2)$\n",
    "  - Wait 2 year: $(-1, 0, 3)$\n",
    "  - Wait 3 year: $(-1, 0, 0, 4)$\n",
    "  - $\\vdots$\n",
    "  - Wait n year $(-1, 0, 0,\\ldots, n+1)$\n",
    "\n",
    "The prevailing interest rate is 10%. When is the best time to cut the trees?"
   ],
   "metadata": {
    "collapsed": false
   },
   "id": "385fe1b8ba146072"
  },
  {
   "cell_type": "markdown",
   "source": [
    "**Solution:**"
   ],
   "metadata": {
    "collapsed": false
   },
   "id": "ff1a17290702079"
  },
  {
   "cell_type": "markdown",
   "source": [
    "**Problem 6:** - (Equivalent rates) What rate of interest (to five digits) is equivalent to 10\\% yearly under\n",
    "(a) monthly compounding?\n",
    "(b) continuous compounding?"
   ],
   "metadata": {
    "collapsed": false
   },
   "id": "7defb5897b5052fa"
  },
  {
   "cell_type": "markdown",
   "source": [
    "**Solution:**"
   ],
   "metadata": {
    "collapsed": false
   },
   "id": "222f09e1b94c473c"
  },
  {
   "cell_type": "markdown",
   "source": [
    "**Problem 7:**(A prize) A major lottery advertises that it pays the winner 10 million. However, this prize money is paid at the rate of 500,000 each year (with the first payment being immediate) for a total of 20 payments. What is the present value of this prize at 10\\% interest?"
   ],
   "metadata": {
    "collapsed": false
   },
   "id": "f4df91766ae0b9de"
  },
  {
   "cell_type": "markdown",
   "source": [
    "**Solution:**"
   ],
   "metadata": {
    "collapsed": false
   },
   "id": "839cc6a1468663b9"
  },
  {
   "cell_type": "markdown",
   "source": [
    "**Problem 11:** (An appraisal) You are considering the purchase of a nice home. It is in every way perfect for you and in excellent condition, except for the roof. The roof has only 5 years of life remaining. A new roof would last 20 years, but would cost 20,000. The house is expected to last forever. Assuming that costs will remain constant and that the interest rate is 5\\%, what value would you assign to the existing roof?\n",
    "\n",
    "Hint: Consider the present value of change the roof now, and then every 20 years, and change the root in 5 year, and then every 20 years. The difference between their present value is the value of existing roof."
   ],
   "metadata": {
    "collapsed": false
   },
   "id": "c441c672e72f8e9"
  },
  {
   "cell_type": "markdown",
   "source": [
    "**Solution:**"
   ],
   "metadata": {
    "collapsed": false
   },
   "id": "69a8048b462b5d7b"
  },
  {
   "cell_type": "markdown",
   "source": [
    "**Problem 12:**(Oil depletion allowance) A wealthy investor spends 1 million to drill and develop an oil well that has estimated reserves of 200,000 barrels. The well is to be operated over 5 years, producing the estimated quantities shown in the following table. It is estimated that the oil will be sold for 20 per barrel. The net income is also shown. \n",
    "\n",
    "A depletion allowance, for tax purposes, can be computed in either of two ways each year: 22\\% of gross revenue up to 50\\% of net income before such deduction (option 1), or the investment cost of the product, equal in this case to the unit cost of the reserves, 5 per barrel (option 2). The allowance is deducted from the net income to determine the taxable income. The investor is in the 45\\% tax bracket.\n",
    "\n",
    "-  Complete Table 2.6 and show that the total depletion allowance exceeds the original investment.\n",
    "-  Calculate the PV and the IRR for this investment. Assume an interest rate of 20\\%."
   ],
   "metadata": {
    "collapsed": false
   },
   "id": "8f2fd7cf98be89d9"
  },
  {
   "cell_type": "code",
   "outputs": [
    {
     "data": {
      "text/plain": "   Year  Barrel Produced  Gross Revenue  Net Income  Option 1  Option 2  \\\n0     1            80000        1600000     1200000  352000.0  400000.0   \n1     2            70000        1400000     1000000       NaN       NaN   \n2     3            50000        1000000      500000       NaN       NaN   \n3     4            30000         600000      200000       NaN       NaN   \n4     5            10000         200000       50000       NaN       NaN   \n\n   Depletion Allowance  Taxable Income       Tax  After Tax Income  \n0             400000.0        800000.0  360000.0          440000.0  \n1                  NaN             NaN       NaN               NaN  \n2                  NaN             NaN       NaN               NaN  \n3                  NaN             NaN       NaN               NaN  \n4                  NaN             NaN       NaN               NaN  ",
      "text/html": "<div>\n<style scoped>\n    .dataframe tbody tr th:only-of-type {\n        vertical-align: middle;\n    }\n\n    .dataframe tbody tr th {\n        vertical-align: top;\n    }\n\n    .dataframe thead th {\n        text-align: right;\n    }\n</style>\n<table border=\"1\" class=\"dataframe\">\n  <thead>\n    <tr style=\"text-align: right;\">\n      <th></th>\n      <th>Year</th>\n      <th>Barrel Produced</th>\n      <th>Gross Revenue</th>\n      <th>Net Income</th>\n      <th>Option 1</th>\n      <th>Option 2</th>\n      <th>Depletion Allowance</th>\n      <th>Taxable Income</th>\n      <th>Tax</th>\n      <th>After Tax Income</th>\n    </tr>\n  </thead>\n  <tbody>\n    <tr>\n      <th>0</th>\n      <td>1</td>\n      <td>80000</td>\n      <td>1600000</td>\n      <td>1200000</td>\n      <td>352000.0</td>\n      <td>400000.0</td>\n      <td>400000.0</td>\n      <td>800000.0</td>\n      <td>360000.0</td>\n      <td>440000.0</td>\n    </tr>\n    <tr>\n      <th>1</th>\n      <td>2</td>\n      <td>70000</td>\n      <td>1400000</td>\n      <td>1000000</td>\n      <td>NaN</td>\n      <td>NaN</td>\n      <td>NaN</td>\n      <td>NaN</td>\n      <td>NaN</td>\n      <td>NaN</td>\n    </tr>\n    <tr>\n      <th>2</th>\n      <td>3</td>\n      <td>50000</td>\n      <td>1000000</td>\n      <td>500000</td>\n      <td>NaN</td>\n      <td>NaN</td>\n      <td>NaN</td>\n      <td>NaN</td>\n      <td>NaN</td>\n      <td>NaN</td>\n    </tr>\n    <tr>\n      <th>3</th>\n      <td>4</td>\n      <td>30000</td>\n      <td>600000</td>\n      <td>200000</td>\n      <td>NaN</td>\n      <td>NaN</td>\n      <td>NaN</td>\n      <td>NaN</td>\n      <td>NaN</td>\n      <td>NaN</td>\n    </tr>\n    <tr>\n      <th>4</th>\n      <td>5</td>\n      <td>10000</td>\n      <td>200000</td>\n      <td>50000</td>\n      <td>NaN</td>\n      <td>NaN</td>\n      <td>NaN</td>\n      <td>NaN</td>\n      <td>NaN</td>\n      <td>NaN</td>\n    </tr>\n  </tbody>\n</table>\n</div>"
     },
     "metadata": {},
     "output_type": "display_data"
    }
   ],
   "source": [
    "raw_data = pd.read_csv(\"./Week_2_Problem_12.csv\")\n",
    "display(raw_data)"
   ],
   "metadata": {
    "collapsed": false,
    "ExecuteTime": {
     "end_time": "2024-04-09T05:39:56.801430Z",
     "start_time": "2024-04-09T05:39:56.783928Z"
    }
   },
   "id": "1a545fec8d5c4d0",
   "execution_count": 67
  },
  {
   "cell_type": "code",
   "outputs": [
    {
     "data": {
      "text/plain": "   Year  Barrel Produced  Gross Revenue  Net Income  Option 1  Option 2  \\\n0     1            80000        1600000     1200000  320000.0    400000   \n1     2            70000        1400000     1000000  280000.0    350000   \n2     3            50000        1000000      500000  200000.0    250000   \n3     4            30000         600000      200000  100000.0    150000   \n4     5            10000         200000       50000   25000.0     50000   \n\n   Depletion Allowance  Taxable Income       Tax  After Tax Income  \n0             400000.0        800000.0  360000.0          840000.0  \n1             350000.0        650000.0  292500.0          707500.0  \n2             250000.0        250000.0  112500.0          387500.0  \n3             150000.0         50000.0   22500.0          177500.0  \n4              50000.0             0.0       0.0           50000.0  ",
      "text/html": "<div>\n<style scoped>\n    .dataframe tbody tr th:only-of-type {\n        vertical-align: middle;\n    }\n\n    .dataframe tbody tr th {\n        vertical-align: top;\n    }\n\n    .dataframe thead th {\n        text-align: right;\n    }\n</style>\n<table border=\"1\" class=\"dataframe\">\n  <thead>\n    <tr style=\"text-align: right;\">\n      <th></th>\n      <th>Year</th>\n      <th>Barrel Produced</th>\n      <th>Gross Revenue</th>\n      <th>Net Income</th>\n      <th>Option 1</th>\n      <th>Option 2</th>\n      <th>Depletion Allowance</th>\n      <th>Taxable Income</th>\n      <th>Tax</th>\n      <th>After Tax Income</th>\n    </tr>\n  </thead>\n  <tbody>\n    <tr>\n      <th>0</th>\n      <td>1</td>\n      <td>80000</td>\n      <td>1600000</td>\n      <td>1200000</td>\n      <td>320000.0</td>\n      <td>400000</td>\n      <td>400000.0</td>\n      <td>800000.0</td>\n      <td>360000.0</td>\n      <td>840000.0</td>\n    </tr>\n    <tr>\n      <th>1</th>\n      <td>2</td>\n      <td>70000</td>\n      <td>1400000</td>\n      <td>1000000</td>\n      <td>280000.0</td>\n      <td>350000</td>\n      <td>350000.0</td>\n      <td>650000.0</td>\n      <td>292500.0</td>\n      <td>707500.0</td>\n    </tr>\n    <tr>\n      <th>2</th>\n      <td>3</td>\n      <td>50000</td>\n      <td>1000000</td>\n      <td>500000</td>\n      <td>200000.0</td>\n      <td>250000</td>\n      <td>250000.0</td>\n      <td>250000.0</td>\n      <td>112500.0</td>\n      <td>387500.0</td>\n    </tr>\n    <tr>\n      <th>3</th>\n      <td>4</td>\n      <td>30000</td>\n      <td>600000</td>\n      <td>200000</td>\n      <td>100000.0</td>\n      <td>150000</td>\n      <td>150000.0</td>\n      <td>50000.0</td>\n      <td>22500.0</td>\n      <td>177500.0</td>\n    </tr>\n    <tr>\n      <th>4</th>\n      <td>5</td>\n      <td>10000</td>\n      <td>200000</td>\n      <td>50000</td>\n      <td>25000.0</td>\n      <td>50000</td>\n      <td>50000.0</td>\n      <td>0.0</td>\n      <td>0.0</td>\n      <td>50000.0</td>\n    </tr>\n  </tbody>\n</table>\n</div>"
     },
     "metadata": {},
     "output_type": "display_data"
    }
   ],
   "source": [
    "raw_data['Option 1'] = pd.DataFrame([raw_data['Gross Revenue'] * 0.2, raw_data['Net Income'] * 0.5]).min()\n",
    "raw_data['Option 2'] = raw_data['Barrel Produced'] * 5\n",
    "raw_data['Depletion Allowance'] = pd.DataFrame([raw_data['Option 1'], raw_data['Option 2']]).max()\n",
    "raw_data['Taxable Income'] = raw_data['Net Income'] - raw_data['Depletion Allowance']\n",
    "raw_data['Tax'] = raw_data['Taxable Income'] * 0.45\n",
    "raw_data['After Tax Income'] = raw_data['Net Income'] - raw_data['Tax']\n",
    "display(raw_data)"
   ],
   "metadata": {
    "collapsed": false,
    "ExecuteTime": {
     "end_time": "2024-04-09T05:39:57.198162Z",
     "start_time": "2024-04-09T05:39:57.174068Z"
    }
   },
   "id": "1bdec61be8d3ff87",
   "execution_count": 68
  }
 ],
 "metadata": {
  "kernelspec": {
   "display_name": "Python 3",
   "language": "python",
   "name": "python3"
  },
  "language_info": {
   "codemirror_mode": {
    "name": "ipython",
    "version": 2
   },
   "file_extension": ".py",
   "mimetype": "text/x-python",
   "name": "python",
   "nbconvert_exporter": "python",
   "pygments_lexer": "ipython2",
   "version": "2.7.6"
  }
 },
 "nbformat": 4,
 "nbformat_minor": 5
}
