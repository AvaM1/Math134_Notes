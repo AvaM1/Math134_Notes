{
 "cells": [
  {
   "cell_type": "markdown",
   "source": [
    "# Math 134A Week 2"
   ],
   "metadata": {
    "collapsed": false
   },
   "id": "15236c0d02b512d0"
  },
  {
   "cell_type": "code",
   "outputs": [],
   "source": [
    "import math\n",
    "from scipy.optimize import fsolve\n",
    "import numpy_financial as npf\n",
    "import pandas as pd\n",
    "\n",
    "# Computing the present value of a cash flow with interest rate r. \n",
    "def PV(r, cf, continuous_compounding = False, dt = None): \n",
    "    if dt is None: dt = range(len(cf))\n",
    "    pv = 0\n",
    "    if not continuous_compounding:\n",
    "        for k in range(0, len(cf)):\n",
    "            pv += cf[k] / (1+r)**dt[k]\n",
    "    else:\n",
    "        for k in range(0, len(cf)):\n",
    "            pv += cf[k] * math.exp(-r * dt[k])\n",
    "    return pv\n",
    "\n",
    "# This will return the future value of a cash flow at time T. If T is not specified, then we take T as the time that we receive the last cash flow\n",
    "def FV(r, cf, continuous_compounding = False, dt = None, T = None):\n",
    "    if dt is None: dt = range(len(cf))\n",
    "    if T is None: T = dt[-1]\n",
    "    fv = 0\n",
    "    if not continuous_compounding:\n",
    "        for k in range(0, len(cf)):\n",
    "            fv += cf[k] * (1+r)**(T - dt[k])\n",
    "    else:\n",
    "        for k in range(0, len(cf)):\n",
    "            fv += cf[k] * math.exp(r * (T - dt[k]))\n",
    "    return fv   \n",
    "\n",
    "# Computing the internal rate of return by using the fsolve function to find roots to a polynomial\n",
    "def irr(cf):\n",
    "    def simple_npv(r, cf):\n",
    "        return sum(cf[k]/(1+r)**k for k in range(len(cf)))\n",
    "    \n",
    "    result = fsolve(simple_npv, x0 = 0.1, args = cf)\n",
    "    return result[0]\n",
    "\n",
    "# Computing the internal rate of return by using the irr function in numpy financial library\n",
    "def irr2(cf):\n",
    "    return npf.irr(cf)\n"
   ],
   "metadata": {
    "collapsed": false,
    "ExecuteTime": {
     "end_time": "2024-04-09T18:20:12.400641Z",
     "start_time": "2024-04-09T18:20:11.684767Z"
    }
   },
   "id": "2ed72e20b5b00b35",
   "execution_count": 5
  },
  {
   "cell_type": "markdown",
   "source": [
    "**Problem 5**: (Tree cut) Suppose that you have the opportunity to plant trees that later can be sold for lumber. This project requires an initial outlay of money in order to purchase and plant the seedlings. No other cash flow occurs until the trees are harvested. However, you have a choice as to when to harvest. If you harvest after 1 year, you get your return quickly; but if you wait, the trees will have additional growth and the revenue generated from the sale of the trees will be greater. Assume that the cash flow streams associated with these alternatives are:\n",
    "  - Wait 1 year: $(-1, 2)$\n",
    "  - Wait 2 year: $(-1, 0, 3)$\n",
    "  - Wait 3 year: $(-1, 0, 0, 4)$\n",
    "  - $\\vdots$\n",
    "  - Wait n year $(-1, 0, 0,\\ldots, n+1)$\n",
    "\n",
    "The prevailing interest rate is 10%. When is the best time to cut the trees?"
   ],
   "metadata": {
    "collapsed": false
   },
   "id": "385fe1b8ba146072"
  },
  {
   "cell_type": "markdown",
   "source": [
    "**Solution:**\n",
    "The present value of cutting a tree in year n is \n",
    "$$pv(n) = -1 + (n+1)/1.1^n$$\n",
    "Its derivative respect to $n$ is \n",
    "$$\\frac{1.1^n - \\ln 1.1\\cdot 1.1^n\\cdot (n+1)}{1.1^{2n}} = \\frac{1.1^n(1-\\ln 1.1\\cdot (n+1))}{1.1^{2n}}$$\n",
    "It has a critical point (which is also the global maximum) when \n",
    "$$1-\\ln 1.1\\cdot (n+1) = 0$$\n",
    "which implies that $pv(n)$ is maximized when \n",
    "$$n = \\frac{1}{\\ln 1.1} - 1 = 9.49$$\n",
    "We conclude that it is most optimal to cut the tree at year 9 or year 10. \n",
    "\n",
    "The other method is to compute the present value of cutting the tree at year $n$ for a list of $n$, and find the maximum among them."
   ],
   "metadata": {
    "collapsed": false
   },
   "id": "ff1a17290702079"
  },
  {
   "cell_type": "code",
   "outputs": [
    {
     "name": "stdout",
     "output_type": "stream",
     "text": [
      "The present value of cutting the tree at year 1 is given by 0.8181818181818181\n",
      "The present value of cutting the tree at year 2 is given by 1.4793388429752063\n",
      "The present value of cutting the tree at year 3 is given by 2.00525920360631\n",
      "The present value of cutting the tree at year 4 is given by 2.4150672768253525\n",
      "The present value of cutting the tree at year 5 is given by 2.72552793835493\n",
      "The present value of cutting the tree at year 6 is given by 2.95131751037644\n",
      "The present value of cutting the tree at year 7 is given by 3.1052649458456516\n",
      "The present value of cutting the tree at year 8 is given by 3.1985664218875973\n",
      "The present value of cutting the tree at year 9 is given by 3.240976183724846\n",
      "The present value of cutting the tree at year 10 is given by 3.240976183724846\n",
      "The present value of cutting the tree at year 11 is given by 3.2059267937767064\n",
      "The present value of cutting the tree at year 12 is given by 3.142200630234634\n",
      "The present value of cutting the tree at year 13 is given by 3.055301316313628\n",
      "The present value of cutting the tree at year 14 is given by 2.9499688145911955\n",
      "The present value of cutting the tree at year 15 is given by 2.8302727899066134\n",
      "The present value of cutting the tree at year 16 is given by 2.6996953084325246\n",
      "The present value of cutting the tree at year 17 is given by 2.5612040402024294\n",
      "The present value of cutting the tree at year 18 is given by 2.417317008275058\n",
      "The present value of cutting the tree at year 19 is given by 2.270159816531156\n",
      "The present value of cutting the tree at year 20 is given by 2.1215161885070124\n",
      "The present value of cutting the tree at year 21 is given by 1.9728725604828687\n",
      "The present value of cutting the tree at year 22 is given by 1.8254573921944615\n",
      "The present value of cutting the tree at year 23 is given by 1.6802757870619396\n",
      "The present value of cutting the tree at year 24 is given by 1.5381399498692612\n",
      "The present value of cutting the tree at year 25 is given by 1.3996959526036648\n",
      "The present value of cutting the tree at year 26 is given by 1.2654472279824804\n",
      "The present value of cutting the tree at year 27 is given by 1.1357751644279275\n",
      "The present value of cutting the tree at year 28 is given by 1.0109571353379834\n",
      "The present value of cutting the tree at year 29 is given by 0.8911822589385425\n",
      "The present value of cutting the tree at year 30 is given by 0.7765651523362065\n",
      "The present value of cutting the tree at year 31 is given by 0.6671579142157946\n",
      "The present value of cutting the tree at year 32 is given by 0.5629605445773076\n",
      "The present value of cutting the tree at year 33 is given by 0.46392998665643126\n",
      "The present value of cutting the tree at year 34 is given by 0.36998795542714125\n",
      "The present value of cutting the tree at year 35 is given by 0.2810276985812228\n",
      "The present value of cutting the tree at year 36 is given by 0.19691981938144543\n",
      "The present value of cutting the tree at year 37 is given by 0.11751727608095641\n",
      "The present value of cutting the tree at year 38 is given by 0.04265965950137063\n",
      "The present value of cutting the tree at year 39 is given by -0.027823161304083355\n",
      "The present value of cutting the tree at year 40 is given by -0.0941079457606232\n",
      "The present value of cutting the tree at year 41 is given by -0.15637547055313028\n",
      "The present value of cutting the tree at year 42 is given by -0.21480833839360614\n",
      "The present value of cutting the tree at year 43 is given by -0.2695891519940523\n",
      "The present value of cutting the tree at year 44 is given by -0.32089900495314794\n",
      "The present value of cutting the tree at year 45 is given by -0.36891624702716774\n",
      "The present value of cutting the tree at year 46 is given by -0.4138154863691085\n",
      "The present value of cutting the tree at year 47 is given by -0.45576679585526514\n",
      "The present value of cutting the tree at year 48 is given by -0.494935094638409\n",
      "The present value of cutting the tree at year 49 is given by -0.5314796796274666\n",
      "The present value of cutting the tree at year 50 is given by -0.5655538847454691\n",
      "The present value of cutting the tree at year 51 is given by -0.597304848605426\n",
      "The present value of cutting the tree at year 52 is given by -0.6268733737078247\n",
      "The present value of cutting the tree at year 53 is given by -0.6543938624394947\n",
      "The present value of cutting the tree at year 54 is given by -0.6799943170736062\n",
      "The present value of cutting the tree at year 55 is given by -0.7037963926631727\n",
      "The present value of cutting the tree at year 56 is given by -0.7259154932110528\n",
      "The present value of cutting the tree at year 57 is given by -0.7464609028108622\n",
      "The present value of cutting the tree at year 58 is given by -0.7655359446056562\n",
      "The present value of cutting the tree at year 59 is given by -0.7832381614227947\n",
      "The present value of cutting the tree at year 60 is given by -0.7996595128301587\n",
      "The present value of cutting the tree at year 61 is given by -0.814886584135169\n",
      "The present value of cutting the tree at year 62 is given by -0.8290008035266224\n",
      "The present value of cutting the tree at year 63 is given by -0.8420786641515705\n",
      "The present value of cutting the tree at year 64 is given by -0.8541919484353989\n",
      "The present value of cutting the tree at year 65 is given by -0.8654079524019067\n",
      "The present value of cutting the tree at year 66 is given by -0.8757897081395007\n",
      "The present value of cutting the tree at year 67 is given by -0.88539620289669\n",
      "The present value of cutting the tree at year 68 is given by -0.8942825935811712\n",
      "The present value of cutting the tree at year 69 is given by -0.9025004156875097\n",
      "The present value of cutting the tree at year 70 is given by -0.9100977858936777\n",
      "The present value of cutting the tree at year 71 is given by -0.9171195977508937\n",
      "The present value of cutting the tree at year 72 is given by -0.9236077100481722\n",
      "The present value of cutting the tree at year 73 is given by -0.9296011275661862\n",
      "The present value of cutting the tree at year 74 is given by -0.9351361740474688\n",
      "The present value of cutting the tree at year 75 is given by -0.9402466573043349\n",
      "The present value of cutting the tree at year 76 is given by -0.944964026464519\n",
      "The present value of cutting the tree at year 77 is given by -0.9493175214195099\n",
      "The present value of cutting the tree at year 78 is given by -0.9533343145937212\n",
      "The present value of cutting the tree at year 79 is given by -0.9570396451956006\n",
      "The present value of cutting the tree at year 80 is given by -0.9604569461459506\n",
      "The present value of cutting the tree at year 81 is given by -0.9636079639053642\n",
      "The present value of cutting the tree at year 82 is given by -0.9665128714428517\n",
      "The present value of cutting the tree at year 83 is given by -0.9691903746024046\n",
      "The present value of cutting the tree at year 84 is given by -0.9716578121342467\n",
      "The present value of cutting the tree at year 85 is given by -0.9739312496635852\n",
      "The present value of cutting the tree at year 86 is given by -0.9760255678724303\n",
      "The present value of cutting the tree at year 87 is given by -0.9779545451700509\n",
      "The present value of cutting the tree at year 88 is given by -0.9797309351253567\n",
      "The present value of cutting the tree at year 89 is given by -0.9813665389303586\n",
      "The present value of cutting the tree at year 90 is given by -0.9828722731582085\n",
      "The present value of cutting the tree at year 91 is given by -0.9842582330724793\n",
      "The present value of cutting the tree at year 92 is given by -0.9855337517365669\n",
      "The present value of cutting the tree at year 93 is given by -0.9867074551636099\n",
      "The present value of cutting the tree at year 94 is given by -0.9877873137383263\n",
      "The present value of cutting the tree at year 95 is given by -0.9887806901328164\n",
      "The present value of cutting the tree at year 96 is given by -0.9896943839288181\n",
      "The present value of cutting the tree at year 97 is given by -0.9905346731492426\n",
      "The present value of cutting the tree at year 98 is given by -0.9913073528921615\n",
      "The present value of cutting the tree at year 99 is given by -0.992017771250837\n"
     ]
    }
   ],
   "source": [
    "for n in range(1, 100):\n",
    "    print(\"The present value of cutting the tree at year\", n, \"is given by\", -1+(n+1)/1.1**n)"
   ],
   "metadata": {
    "collapsed": false,
    "ExecuteTime": {
     "end_time": "2024-04-09T18:20:12.889009Z",
     "start_time": "2024-04-09T18:20:12.885215Z"
    }
   },
   "id": "773f1d06423ee9db",
   "execution_count": 6
  },
  {
   "cell_type": "markdown",
   "source": [
    "**Problem 6:** - (Equivalent rates) What rate of interest (to five digits) is equivalent to 10\\% yearly under\n",
    "(a) monthly compounding?\n",
    "(b) continuous compounding?"
   ],
   "metadata": {
    "collapsed": false
   },
   "id": "7defb5897b5052fa"
  },
  {
   "cell_type": "markdown",
   "source": [
    "**Solution:**"
   ],
   "metadata": {
    "collapsed": false
   },
   "id": "222f09e1b94c473c"
  },
  {
   "cell_type": "markdown",
   "source": [
    "**Problem 7:**(A prize) A major lottery advertises that it pays the winner 10 million. However, this prize money is paid at the rate of 500,000 each year (with the first payment being immediate) for a total of 20 payments. What is the present value of this prize at 10\\% interest?"
   ],
   "metadata": {
    "collapsed": false
   },
   "id": "f4df91766ae0b9de"
  },
  {
   "cell_type": "code",
   "outputs": [
    {
     "name": "stdout",
     "output_type": "stream",
     "text": [
      "The corresponding cash flow is [500000, 500000, 500000, 500000, 500000, 500000, 500000, 500000, 500000, 500000, 500000, 500000, 500000, 500000, 500000, 500000, 500000, 500000, 500000, 500000]\n",
      "The present value of this cash flow is given by 4682460.05\n"
     ]
    }
   ],
   "source": [
    "cashflow = [500000] * 20\n",
    "print(\"The corresponding cash flow is\", cashflow)\n",
    "print(f\"The present value of this cash flow is given by {PV(0.1, cashflow):.2f}\")"
   ],
   "metadata": {
    "collapsed": false,
    "ExecuteTime": {
     "end_time": "2024-04-09T18:20:26.566849Z",
     "start_time": "2024-04-09T18:20:26.562962Z"
    }
   },
   "id": "79d7381544ff06e7",
   "execution_count": 8
  },
  {
   "cell_type": "markdown",
   "source": [
    "**Problem 11:** (An appraisal) You are considering the purchase of a nice home. It is in every way perfect for you and in excellent condition, except for the roof. The roof has only 5 years of life remaining. A new roof would last 20 years, but would cost 20,000. The house is expected to last forever. Assuming that costs will remain constant and that the interest rate is 5\\%, what value would you assign to the existing roof?\n",
    "\n",
    "Hint: Consider the present value of change the roof now, and then every 20 years, and change the root in 5 year, and then every 20 years. The difference between their present value is the value of existing roof."
   ],
   "metadata": {
    "collapsed": false
   },
   "id": "c441c672e72f8e9"
  },
  {
   "cell_type": "code",
   "outputs": [
    {
     "name": "stdout",
     "output_type": "stream",
     "text": [
      "The present value of the option 1 is given by 32097.034876276513\n",
      "The present value of the option 2 is given by 25148.86669161336\n",
      "The value of the existing roof is given by 6948.1681846631545\n"
     ]
    }
   ],
   "source": [
    "print(\"The present value of the option 1 is given by\", 20000*(1/(1-1/1.05**20)))\n",
    "print(\"The present value of the option 2 is given by\", 20000/(1.05)**5*(1/(1-1/1.05**20)))\n",
    "print(\"The value of the existing roof is given by\", 20000*(1/(1-1/1.05**20))-20000/(1.05)**5*(1/(1-1/1.05**20)))"
   ],
   "metadata": {
    "collapsed": false,
    "ExecuteTime": {
     "end_time": "2024-04-09T17:53:03.682021Z",
     "start_time": "2024-04-09T17:53:03.677603Z"
    }
   },
   "id": "3703392d46517f30",
   "execution_count": 16
  },
  {
   "cell_type": "markdown",
   "source": [
    "**Solution:**"
   ],
   "metadata": {
    "collapsed": false
   },
   "id": "69a8048b462b5d7b"
  },
  {
   "cell_type": "markdown",
   "source": [
    "**Problem 12:**(Oil depletion allowance) A wealthy investor spends 1 million to drill and develop an oil well that has estimated reserves of 200,000 barrels. The well is to be operated over 5 years, producing the estimated quantities shown in the following table. It is estimated that the oil will be sold for 20 per barrel. The net income is also shown. \n",
    "\n",
    "A depletion allowance, for tax purposes, can be computed in either of two ways each year: 22\\% of gross revenue up to 50\\% of net income before such deduction (option 1), or the investment cost of the product, equal in this case to the unit cost of the reserves, 5 per barrel (option 2). The allowance is deducted from the net income to determine the taxable income. The investor is in the 45\\% tax bracket.\n",
    "\n",
    "-  Complete Table 2.6 and show that the total depletion allowance exceeds the original investment.\n",
    "-  Calculate the PV and the IRR for this investment. Assume an interest rate of 20\\%."
   ],
   "metadata": {
    "collapsed": false
   },
   "id": "8f2fd7cf98be89d9"
  },
  {
   "cell_type": "code",
   "outputs": [
    {
     "data": {
      "text/plain": "   Year  Barrel Produced  Gross Revenue  Net Income  Option 1  Option 2  \\\n0     1            80000        1600000     1200000  352000.0  400000.0   \n1     2            70000        1400000     1000000       NaN       NaN   \n2     3            50000        1000000      500000       NaN       NaN   \n3     4            30000         600000      200000       NaN       NaN   \n4     5            10000         200000       50000       NaN       NaN   \n\n   Depletion Allowance  Taxable Income       Tax  After Tax Income  \n0             400000.0        800000.0  360000.0          840000.0  \n1                  NaN             NaN       NaN               NaN  \n2                  NaN             NaN       NaN               NaN  \n3                  NaN             NaN       NaN               NaN  \n4                  NaN             NaN       NaN               NaN  ",
      "text/html": "<div>\n<style scoped>\n    .dataframe tbody tr th:only-of-type {\n        vertical-align: middle;\n    }\n\n    .dataframe tbody tr th {\n        vertical-align: top;\n    }\n\n    .dataframe thead th {\n        text-align: right;\n    }\n</style>\n<table border=\"1\" class=\"dataframe\">\n  <thead>\n    <tr style=\"text-align: right;\">\n      <th></th>\n      <th>Year</th>\n      <th>Barrel Produced</th>\n      <th>Gross Revenue</th>\n      <th>Net Income</th>\n      <th>Option 1</th>\n      <th>Option 2</th>\n      <th>Depletion Allowance</th>\n      <th>Taxable Income</th>\n      <th>Tax</th>\n      <th>After Tax Income</th>\n    </tr>\n  </thead>\n  <tbody>\n    <tr>\n      <th>0</th>\n      <td>1</td>\n      <td>80000</td>\n      <td>1600000</td>\n      <td>1200000</td>\n      <td>352000.0</td>\n      <td>400000.0</td>\n      <td>400000.0</td>\n      <td>800000.0</td>\n      <td>360000.0</td>\n      <td>840000.0</td>\n    </tr>\n    <tr>\n      <th>1</th>\n      <td>2</td>\n      <td>70000</td>\n      <td>1400000</td>\n      <td>1000000</td>\n      <td>NaN</td>\n      <td>NaN</td>\n      <td>NaN</td>\n      <td>NaN</td>\n      <td>NaN</td>\n      <td>NaN</td>\n    </tr>\n    <tr>\n      <th>2</th>\n      <td>3</td>\n      <td>50000</td>\n      <td>1000000</td>\n      <td>500000</td>\n      <td>NaN</td>\n      <td>NaN</td>\n      <td>NaN</td>\n      <td>NaN</td>\n      <td>NaN</td>\n      <td>NaN</td>\n    </tr>\n    <tr>\n      <th>3</th>\n      <td>4</td>\n      <td>30000</td>\n      <td>600000</td>\n      <td>200000</td>\n      <td>NaN</td>\n      <td>NaN</td>\n      <td>NaN</td>\n      <td>NaN</td>\n      <td>NaN</td>\n      <td>NaN</td>\n    </tr>\n    <tr>\n      <th>4</th>\n      <td>5</td>\n      <td>10000</td>\n      <td>200000</td>\n      <td>50000</td>\n      <td>NaN</td>\n      <td>NaN</td>\n      <td>NaN</td>\n      <td>NaN</td>\n      <td>NaN</td>\n      <td>NaN</td>\n    </tr>\n  </tbody>\n</table>\n</div>"
     },
     "metadata": {},
     "output_type": "display_data"
    }
   ],
   "source": [
    "raw_data = pd.read_csv(\"./Week_2_Problem_12.csv\")\n",
    "display(raw_data)"
   ],
   "metadata": {
    "collapsed": false,
    "ExecuteTime": {
     "end_time": "2024-04-09T17:53:04.871962Z",
     "start_time": "2024-04-09T17:53:04.819559Z"
    }
   },
   "id": "1a545fec8d5c4d0",
   "execution_count": 17
  },
  {
   "cell_type": "code",
   "outputs": [
    {
     "data": {
      "text/plain": "   Year  Barrel Produced  Gross Revenue  Net Income  Option 1  Option 2  \\\n0     1            80000        1600000     1200000  320000.0    400000   \n1     2            70000        1400000     1000000  280000.0    350000   \n2     3            50000        1000000      500000  200000.0    250000   \n3     4            30000         600000      200000  100000.0    150000   \n4     5            10000         200000       50000   25000.0     50000   \n\n   Depletion Allowance  Taxable Income       Tax  After Tax Income  \n0             400000.0        800000.0  360000.0          840000.0  \n1             350000.0        650000.0  292500.0          707500.0  \n2             250000.0        250000.0  112500.0          387500.0  \n3             150000.0         50000.0   22500.0          177500.0  \n4              50000.0             0.0       0.0           50000.0  ",
      "text/html": "<div>\n<style scoped>\n    .dataframe tbody tr th:only-of-type {\n        vertical-align: middle;\n    }\n\n    .dataframe tbody tr th {\n        vertical-align: top;\n    }\n\n    .dataframe thead th {\n        text-align: right;\n    }\n</style>\n<table border=\"1\" class=\"dataframe\">\n  <thead>\n    <tr style=\"text-align: right;\">\n      <th></th>\n      <th>Year</th>\n      <th>Barrel Produced</th>\n      <th>Gross Revenue</th>\n      <th>Net Income</th>\n      <th>Option 1</th>\n      <th>Option 2</th>\n      <th>Depletion Allowance</th>\n      <th>Taxable Income</th>\n      <th>Tax</th>\n      <th>After Tax Income</th>\n    </tr>\n  </thead>\n  <tbody>\n    <tr>\n      <th>0</th>\n      <td>1</td>\n      <td>80000</td>\n      <td>1600000</td>\n      <td>1200000</td>\n      <td>320000.0</td>\n      <td>400000</td>\n      <td>400000.0</td>\n      <td>800000.0</td>\n      <td>360000.0</td>\n      <td>840000.0</td>\n    </tr>\n    <tr>\n      <th>1</th>\n      <td>2</td>\n      <td>70000</td>\n      <td>1400000</td>\n      <td>1000000</td>\n      <td>280000.0</td>\n      <td>350000</td>\n      <td>350000.0</td>\n      <td>650000.0</td>\n      <td>292500.0</td>\n      <td>707500.0</td>\n    </tr>\n    <tr>\n      <th>2</th>\n      <td>3</td>\n      <td>50000</td>\n      <td>1000000</td>\n      <td>500000</td>\n      <td>200000.0</td>\n      <td>250000</td>\n      <td>250000.0</td>\n      <td>250000.0</td>\n      <td>112500.0</td>\n      <td>387500.0</td>\n    </tr>\n    <tr>\n      <th>3</th>\n      <td>4</td>\n      <td>30000</td>\n      <td>600000</td>\n      <td>200000</td>\n      <td>100000.0</td>\n      <td>150000</td>\n      <td>150000.0</td>\n      <td>50000.0</td>\n      <td>22500.0</td>\n      <td>177500.0</td>\n    </tr>\n    <tr>\n      <th>4</th>\n      <td>5</td>\n      <td>10000</td>\n      <td>200000</td>\n      <td>50000</td>\n      <td>25000.0</td>\n      <td>50000</td>\n      <td>50000.0</td>\n      <td>0.0</td>\n      <td>0.0</td>\n      <td>50000.0</td>\n    </tr>\n  </tbody>\n</table>\n</div>"
     },
     "metadata": {},
     "output_type": "display_data"
    }
   ],
   "source": [
    "raw_data['Option 1'] = pd.DataFrame([raw_data['Gross Revenue'] * 0.2, raw_data['Net Income'] * 0.5]).min()\n",
    "raw_data['Option 2'] = raw_data['Barrel Produced'] * 5\n",
    "raw_data['Depletion Allowance'] = pd.DataFrame([raw_data['Option 1'], raw_data['Option 2']]).max()\n",
    "raw_data['Taxable Income'] = raw_data['Net Income'] - raw_data['Depletion Allowance']\n",
    "raw_data['Tax'] = raw_data['Taxable Income'] * 0.45\n",
    "raw_data['After Tax Income'] = raw_data['Net Income'] - raw_data['Tax']\n",
    "display(raw_data)"
   ],
   "metadata": {
    "collapsed": false,
    "ExecuteTime": {
     "end_time": "2024-04-09T17:53:05.639394Z",
     "start_time": "2024-04-09T17:53:05.622407Z"
    }
   },
   "id": "1bdec61be8d3ff87",
   "execution_count": 18
  },
  {
   "cell_type": "code",
   "outputs": [
    {
     "name": "stdout",
     "output_type": "stream",
     "text": [
      "The cash flow of this investment is [-1000000, 840000.0, 707500.0, 387500.0, 177500.0, 50000.0]\n",
      "The present value of this investment is 521260.9310699589\n",
      "The internal rate of return is 0.5279501228346596\n"
     ]
    }
   ],
   "source": [
    "cash_flow = raw_data['After Tax Income'].tolist()\n",
    "cash_flow = [-1000000] + cash_flow\n",
    "print(\"The cash flow of this investment is\", cash_flow)\n",
    "print(\"The present value of this investment is\", PV(0.2, cash_flow))\n",
    "print(\"The internal rate of return is\", irr(cash_flow))"
   ],
   "metadata": {
    "collapsed": false,
    "ExecuteTime": {
     "end_time": "2024-04-09T17:53:06.421352Z",
     "start_time": "2024-04-09T17:53:06.414382Z"
    }
   },
   "id": "c43e23d2390b611b",
   "execution_count": 19
  }
 ],
 "metadata": {
  "kernelspec": {
   "display_name": "Python 3",
   "language": "python",
   "name": "python3"
  },
  "language_info": {
   "codemirror_mode": {
    "name": "ipython",
    "version": 2
   },
   "file_extension": ".py",
   "mimetype": "text/x-python",
   "name": "python",
   "nbconvert_exporter": "python",
   "pygments_lexer": "ipython2",
   "version": "2.7.6"
  }
 },
 "nbformat": 4,
 "nbformat_minor": 5
}
