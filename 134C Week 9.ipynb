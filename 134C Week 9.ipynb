{
 "cells": [
  {
   "cell_type": "markdown",
   "id": "e4cfd1cf54eab66",
   "metadata": {
    "collapsed": false,
    "jupyter": {
     "outputs_hidden": false
    }
   },
   "source": [
    "# Math 134C Week 9"
   ]
  },
  {
   "cell_type": "code",
   "execution_count": 2,
   "id": "5a6e83afd6bede5e",
   "metadata": {
    "ExecuteTime": {
     "end_time": "2024-05-28T20:00:00.548835Z",
     "start_time": "2024-05-28T20:00:00.059861Z"
    },
    "collapsed": false,
    "jupyter": {
     "outputs_hidden": false
    }
   },
   "outputs": [],
   "source": [
    "import math\n",
    "import numpy as np\n",
    "from scipy.stats import norm\n",
    "from scipy.stats.mstats import gmean\n",
    "\n",
    "def black_scholes_call(S_t, K, dt, r, sigma, delta):\n",
    "    d1 = (np.log(S_t / K) + (r -delta + 0.5 * sigma ** 2) * dt) / (sigma * np.sqrt(dt))\n",
    "    d2 = d1 - sigma * np.sqrt(dt)\n",
    "    call_price = S_t * np.exp(-delta * dt) * norm.cdf(d1) - K * np.exp(-r * dt) * norm.cdf(d2)\n",
    "    return call_price\n",
    "\n",
    "def black_scholes_put(S_t, K, dt, r, sigma, delta):\n",
    "    d1 = (np.log(S_t / K) + (r -delta + 0.5 * sigma ** 2) * dt) / (sigma * np.sqrt(dt))\n",
    "    d2 = d1 - sigma * np.sqrt(dt)\n",
    "    call_price = - S_t * np.exp(-delta * dt) * norm.cdf(-d1) + K * np.exp(-r * dt) * norm.cdf(-d2)\n",
    "    return call_price\n",
    "\n",
    "def call_Delta(S_t, K, dt, r, sigma, delta):\n",
    "    d1 = (np.log(S_t / K) + (r -delta + 0.5 * sigma ** 2) * dt) / (sigma * np.sqrt(dt))  \n",
    "    return np.exp(-delta * dt) * norm.cdf(d1)\n",
    "\n",
    "def put_Delta(S_t, K, dt, r, sigma, delta):\n",
    "    d1 = (np.log(S_t / K) + (r -delta + 0.5 * sigma ** 2) * dt) / (sigma * np.sqrt(dt))  \n",
    "    return -np.exp(-delta * dt) * norm.cdf(-d1)\n",
    "\n",
    "def Gamma(S_t, K, dt, r, sigma, delta):\n",
    "    d1 = (np.log(S_t / K) + (r -delta + 0.5 * sigma ** 2) * dt) / (sigma * np.sqrt(dt))\n",
    "    return np.exp(-delta * dt) * norm.pdf(d1)/(S_t * sigma * np.sqrt(dt)) \n",
    "\n",
    "def call_Theta(S_t, K, dt, r, sigma, delta):\n",
    "    d1 = (np.log(S_t / K) + (r -delta + 0.5 * sigma ** 2) * dt) / (sigma * np.sqrt(dt))\n",
    "    d2 = d1 - sigma * np.sqrt(dt)\n",
    "    return delta * S_t * np.exp(-delta * dt)*norm.cdf(d1) - r * K * np.exp(-r*dt)*norm.cdf(d2)-(K * np.exp(-r*dt) * sigma * norm.pdf(d2))/ (2 * np.sqrt(dt)) \n",
    "\n",
    "def put_Theta(S_t, K, dt, r, sigma, delta):\n",
    "    d1 = (np.log(S_t / K) + (r -delta + 0.5 * sigma ** 2) * dt) / (sigma * np.sqrt(dt))\n",
    "    d2 = d1 - sigma * np.sqrt(dt)\n",
    "    return call_Theta(S_t, K, dt, r, sigma, delta) + r * K * np.exp(-r*dt) - delta * S_t * np.exp(-delta * dt)\n",
    "\n",
    "def put_given_call(C_t, S_t, K, r, dt):\n",
    "    return C_t - S_t + K * math.exp(-r * dt)\n",
    "def call_given_put(P_t, S_t, K, r, dt):\n",
    "    return P_t + S_t - K * math.exp(-r * dt)\n",
    "\n",
    "def one_step_binomial(r, dt, u, d, Vu, Vd, delta = 0):\n",
    "    q = (math.exp((r - delta) * dt) - d)/(u-d)\n",
    "    if not (1 > q > 0): \n",
    "        print(\"Arbitrage opportunity exists\")\n",
    "        return -1\n",
    "    return math.exp(-r * dt)*(q*Vu+(1-q)*Vd)    "
   ]
  },
  {
   "cell_type": "markdown",
   "id": "e2d8166c311bc1d7",
   "metadata": {
    "collapsed": false,
    "jupyter": {
     "outputs_hidden": false
    }
   },
   "source": [
    "**Quiz 8.1**\n",
    "![](img/week9_1.png)"
   ]
  },
  {
   "cell_type": "code",
   "execution_count": 4,
   "id": "a86068f880ef84f2",
   "metadata": {
    "ExecuteTime": {
     "end_time": "2024-05-28T18:31:49.428693Z",
     "start_time": "2024-05-28T18:31:49.414691Z"
    },
    "collapsed": false,
    "jupyter": {
     "outputs_hidden": false
    }
   },
   "outputs": [
    {
     "name": "stdout",
     "output_type": "stream",
     "text": [
      "The arithematic mean of the price is 36.50\n",
      "The geometric mean of the price is 36.37\n",
      "87.25\n"
     ]
    }
   ],
   "source": [
    "price = [31, 35, 40, 38, 39, 36]\n",
    "amean_price = np.mean(price)\n",
    "gmean_price = gmean(price)\n",
    "print(f\"The arithematic mean of the price is {amean_price:.2f}\")\n",
    "print(f\"The geometric mean of the price is {gmean_price:.2f}\")\n",
    "payoff_A = max(0, amean_price - 36)\n",
    "payoff_B = max(0, gmean_price - 35)\n",
    "print(f\"{100*(payoff_B-payoff_A):.2f}\")"
   ]
  },
  {
   "cell_type": "markdown",
   "id": "2d196da2e2f088a3",
   "metadata": {
    "collapsed": false,
    "jupyter": {
     "outputs_hidden": false
    }
   },
   "source": [
    "**Quiz 8.2**\n",
    "![](img/week9_2.png)"
   ]
  },
  {
   "cell_type": "code",
   "execution_count": 12,
   "id": "398174cdb82f3c98",
   "metadata": {
    "collapsed": false,
    "jupyter": {
     "outputs_hidden": false
    }
   },
   "outputs": [
    {
     "name": "stdout",
     "output_type": "stream",
     "text": [
      "u = 1.25\n",
      "d = 0.82\n",
      "49.94944972262924 32.67948201846351 62.373688189836656 40.808053601070235 26.698713624876994\n",
      "55.81694547584274 45.1479769383415 36.51829752144356 29.53811320684302\n",
      "The payoff at the four nodes are 0.00, 4.34, 0.00, 2.84\n",
      "The price measure q is 0.45\n",
      "2.3635412775691407 1.5463494614881461\n",
      "The price of this option is 1.9\n"
     ]
    }
   ],
   "source": [
    "u = np.exp((0.03-0.01)*0.5 + 0.3 * np.sqrt(0.5))\n",
    "d = np.exp((0.03-0.01)*0.5 - 0.3 * np.sqrt(0.5))\n",
    "print(f\"u = {u:.2f}\")\n",
    "print(f\"d = {d:.2f}\")\n",
    "S = 40\n",
    "Su = S * u\n",
    "Sd = S * d\n",
    "Suu = Su * u\n",
    "Sud = Su * d\n",
    "Sdd = Sd * d\n",
    "print(Su, Sd, Suu, Sud, Sdd)\n",
    "Average_uu = gmean([Su, Suu])\n",
    "Average_ud = gmean([Su, Sud])\n",
    "Average_du = gmean([Sd, Sud])\n",
    "Average_dd = gmean([Sd, Sdd])\n",
    "print(Average_uu, Average_ud, Average_du, Average_dd)\n",
    "P_uu = max(0, Average_uu - Suu)\n",
    "P_ud = max(0, Average_ud - Sud)\n",
    "P_du = max(0, Average_du - Sud)\n",
    "P_dd = max(0, Average_dd - Sdd)\n",
    "print(f\"The payoff at the four nodes are {P_uu:.2f}, {P_ud:.2f}, {P_du:.2f}, {P_dd:.2f}\")\n",
    "q = (np.exp(0.02 * 0.5) - d)/(u-d)\n",
    "print(f\"The price measure q is {q:.2f}\")\n",
    "P_u = np.exp(-0.03 * 0.5) * (q * P_uu + (1-q) * P_ud)\n",
    "P_d = np.exp(-0.03 * 0.5) * (q * P_du + (1-q) * P_dd)\n",
    "print(P_u, P_d)\n",
    "P = np.exp(-0.03 * 0.5) * (q * P_u + (1-q) * P_d)\n",
    "print(f\"The price of this option is {P:.1f}\")"
   ]
  },
  {
   "cell_type": "markdown",
   "id": "910652dc1645672d",
   "metadata": {
    "collapsed": false,
    "jupyter": {
     "outputs_hidden": false
    }
   },
   "source": [
    "**Quiz 8.3**\n",
    "![](img/week9_3.png)"
   ]
  },
  {
   "cell_type": "markdown",
   "id": "a8c8b2d1c2c36bc1",
   "metadata": {
    "collapsed": false,
    "jupyter": {
     "outputs_hidden": false
    }
   },
   "source": [
    "**Quiz 8.4**\n",
    "For this problem, please construct a two-period binomial model\n",
    "![](img/week9_4.png)"
   ]
  },
  {
   "cell_type": "code",
   "execution_count": 17,
   "id": "1ab924b2-2c59-4de6-ba0a-9ddee53257c7",
   "metadata": {},
   "outputs": [
    {
     "name": "stdout",
     "output_type": "stream",
     "text": [
      "u = 1.36\n",
      "d = 0.75\n",
      "136.34251141321778 74.82635675785653 185.8928041846342 102.02013400267559 55.98983665654021\n",
      "41.83471175384888\n",
      "The price of this option is 22.63\n"
     ]
    }
   ],
   "source": [
    "u = np.exp((0.06-0.05) + 0.3)\n",
    "d = np.exp((0.06-0.05) - 0.3)\n",
    "print(f\"u = {u:.2f}\")\n",
    "print(f\"d = {d:.2f}\")\n",
    "S = 100\n",
    "Su = S * u\n",
    "Sd = S * d\n",
    "Suu = S * u * u\n",
    "Sud = S * u * d\n",
    "Sdd = S * d * d\n",
    "print(Su, Sd, Suu, Sud, Sdd)\n",
    "Puu = 0\n",
    "Pud = 0\n",
    "Pdu = 120 - Sud\n",
    "Pdd = 120 - Sdd\n",
    "q = (np.exp(0.01) - d)/(u-d)\n",
    "Pu = 0\n",
    "Pd = np.exp(-0.06) * (q * Pdu + (1-q) * Pdd)\n",
    "print(Pd)\n",
    "P = np.exp(-0.06) * (q * Pu + (1-q) * Pd)\n",
    "print(f\"The price of this option is {P:.2f}\")"
   ]
  },
  {
   "cell_type": "markdown",
   "id": "af29d3dac61c6a6b",
   "metadata": {
    "collapsed": false,
    "jupyter": {
     "outputs_hidden": false
    }
   },
   "source": [
    "**Quiz 8.5**\n",
    "![](./img/week9_5.png)"
   ]
  },
  {
   "cell_type": "markdown",
   "id": "e07e885c630dc9ef",
   "metadata": {
    "collapsed": false,
    "jupyter": {
     "outputs_hidden": false
    }
   },
   "source": [
    "**Quiz 8.6**\n",
    "![](img/week9_6.png)\n",
    "You are also given that the volatility of the stock is less than 100%."
   ]
  },
  {
   "cell_type": "code",
   "execution_count": 31,
   "id": "494ed35a-9179-40a0-9181-dc78aff22f3b",
   "metadata": {},
   "outputs": [
    {
     "name": "stdout",
     "output_type": "stream",
     "text": [
      "0.015418803201008094 -20.947454312486165\n",
      "0.13494062389871095\n"
     ]
    }
   ],
   "source": [
    "sigma = 0.99\n",
    "call_Delta(50, 50, 0.25, 0.1, sigma, 0)\n",
    "C = black_scholes_call(50, 50, 0.25, 0.1, sigma, 0)\n",
    "delta = 0.61791\n",
    "gamma = Gamma(50, 50, 0.25, 0.1, sigma, 0)\n",
    "theta = call_Theta(50, 50, 0.25, 0.1, sigma, 0)\n",
    "print(gamma, theta)\n",
    "\n",
    "deltaS = 1.11\n",
    "profit = delta * deltaS - (delta * deltaS + 0.5 * gamma * deltaS ** 2 + theta/365)-(-C * delta * 50) * (np.exp(0.1/365) - 1)\n",
    "print(profit)"
   ]
  },
  {
   "cell_type": "markdown",
   "id": "53bb5c857dd26cc9",
   "metadata": {
    "collapsed": false,
    "jupyter": {
     "outputs_hidden": false
    }
   },
   "source": [
    "**Quiz 8.7**\n",
    "![](img/week9_7.png)"
   ]
  },
  {
   "cell_type": "markdown",
   "id": "ffb830222cd8e020",
   "metadata": {
    "collapsed": false,
    "jupyter": {
     "outputs_hidden": false
    }
   },
   "source": [
    "**Quiz 8.8**\n",
    "![](img/week9_8.png)"
   ]
  },
  {
   "cell_type": "markdown",
   "id": "f70e2e35480b5306",
   "metadata": {
    "collapsed": false,
    "jupyter": {
     "outputs_hidden": false
    }
   },
   "source": [
    "**Quiz 8.9**\n",
    "![](img/week9_9.png)"
   ]
  },
  {
   "cell_type": "markdown",
   "id": "d44ecdf666c10b84",
   "metadata": {
    "collapsed": false,
    "jupyter": {
     "outputs_hidden": false
    }
   },
   "source": [
    "**Quiz 8.10**\n",
    "![](img/week9_10.png)"
   ]
  }
 ],
 "metadata": {
  "kernelspec": {
   "display_name": "Python 3 (ipykernel)",
   "language": "python",
   "name": "python3"
  },
  "language_info": {
   "codemirror_mode": {
    "name": "ipython",
    "version": 3
   },
   "file_extension": ".py",
   "mimetype": "text/x-python",
   "name": "python",
   "nbconvert_exporter": "python",
   "pygments_lexer": "ipython3",
   "version": "3.11.5"
  }
 },
 "nbformat": 4,
 "nbformat_minor": 5
}
