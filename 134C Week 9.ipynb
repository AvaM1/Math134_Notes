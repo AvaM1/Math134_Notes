{
 "cells": [
  {
   "cell_type": "markdown",
   "id": "e4cfd1cf54eab66",
   "metadata": {
    "collapsed": false
   },
   "source": [
    "# Math 134C Week 9"
   ]
  },
  {
   "cell_type": "code",
   "execution_count": 1,
   "id": "5a6e83afd6bede5e",
   "metadata": {
    "collapsed": false,
    "ExecuteTime": {
     "end_time": "2024-06-05T21:36:50.382602Z",
     "start_time": "2024-06-05T21:36:49.916670Z"
    }
   },
   "outputs": [],
   "source": [
    "import math\n",
    "import numpy as np\n",
    "from scipy.stats import norm\n",
    "from scipy.stats.mstats import gmean\n",
    "\n",
    "def black_scholes_call(S_t, K, dt, r, sigma, delta):\n",
    "    d1 = (np.log(S_t / K) + (r -delta + 0.5 * sigma ** 2) * dt) / (sigma * np.sqrt(dt))\n",
    "    d2 = d1 - sigma * np.sqrt(dt)\n",
    "    call_price = S_t * np.exp(-delta * dt) * norm.cdf(d1) - K * np.exp(-r * dt) * norm.cdf(d2)\n",
    "    return call_price\n",
    "\n",
    "def black_scholes_put(S_t, K, dt, r, sigma, delta):\n",
    "    d1 = (np.log(S_t / K) + (r -delta + 0.5 * sigma ** 2) * dt) / (sigma * np.sqrt(dt))\n",
    "    d2 = d1 - sigma * np.sqrt(dt)\n",
    "    call_price = - S_t * np.exp(-delta * dt) * norm.cdf(-d1) + K * np.exp(-r * dt) * norm.cdf(-d2)\n",
    "    return call_price\n",
    "\n",
    "def call_Delta(S_t, K, dt, r, sigma, delta):\n",
    "    d1 = (np.log(S_t / K) + (r -delta + 0.5 * sigma ** 2) * dt) / (sigma * np.sqrt(dt))  \n",
    "    return np.exp(-delta * dt) * norm.cdf(d1)\n",
    "\n",
    "def put_Delta(S_t, K, dt, r, sigma, delta):\n",
    "    d1 = (np.log(S_t / K) + (r -delta + 0.5 * sigma ** 2) * dt) / (sigma * np.sqrt(dt))  \n",
    "    return -np.exp(-delta * dt) * norm.cdf(-d1)\n",
    "\n",
    "def Gamma(S_t, K, dt, r, sigma, delta):\n",
    "    d1 = (np.log(S_t / K) + (r -delta + 0.5 * sigma ** 2) * dt) / (sigma * np.sqrt(dt))\n",
    "    return np.exp(-delta * dt) * norm.pdf(d1)/(S_t * sigma * np.sqrt(dt)) \n",
    "\n",
    "def call_Theta(S_t, K, dt, r, sigma, delta):\n",
    "    d1 = (np.log(S_t / K) + (r -delta + 0.5 * sigma ** 2) * dt) / (sigma * np.sqrt(dt))\n",
    "    d2 = d1 - sigma * np.sqrt(dt)\n",
    "    return delta * S_t * np.exp(-delta * dt)*norm.cdf(d1) - r * K * np.exp(-r*dt)*norm.cdf(d2)-(K * np.exp(-r*dt) * sigma * norm.pdf(d2))/ (2 * np.sqrt(dt)) \n",
    "\n",
    "def put_Theta(S_t, K, dt, r, sigma, delta):\n",
    "    d1 = (np.log(S_t / K) + (r -delta + 0.5 * sigma ** 2) * dt) / (sigma * np.sqrt(dt))\n",
    "    d2 = d1 - sigma * np.sqrt(dt)\n",
    "    return call_Theta(S_t, K, dt, r, sigma, delta) + r * K * np.exp(-r*dt) - delta * S_t * np.exp(-delta * dt)\n",
    "\n",
    "def put_given_call(C_t, S_t, K, r, dt):\n",
    "    return C_t - S_t + K * math.exp(-r * dt)\n",
    "def call_given_put(P_t, S_t, K, r, dt):\n",
    "    return P_t + S_t - K * math.exp(-r * dt)\n",
    "\n",
    "def one_step_binomial(r, dt, u, d, Vu, Vd, delta = 0):\n",
    "    q = (math.exp((r - delta) * dt) - d)/(u-d)\n",
    "    if not (1 > q > 0): \n",
    "        print(\"Arbitrage opportunity exists\")\n",
    "        return -1\n",
    "    return math.exp(-r * dt)*(q*Vu+(1-q)*Vd)    "
   ]
  },
  {
   "cell_type": "markdown",
   "id": "e2d8166c311bc1d7",
   "metadata": {
    "collapsed": false
   },
   "source": [
    "**Quiz 8.1**\n",
    "![](img/week9_1.png)"
   ]
  },
  {
   "cell_type": "code",
   "outputs": [
    {
     "name": "stdout",
     "output_type": "stream",
     "text": [
      "The arithmetic mean of the price is 36.50\n",
      "The geometric mean of the price is 36.37\n",
      "The value of 100(B-A) is 87.25\n"
     ]
    }
   ],
   "source": [
    "price = [31, 35, 40, 38, 39, 36]\n",
    "amean_price = np.mean(price)\n",
    "gmean_price = gmean(price)\n",
    "print(f\"The arithmetic mean of the price is {amean_price:.2f}\")\n",
    "print(f\"The geometric mean of the price is {gmean_price:.2f}\")\n",
    "payoff_A = max(0, amean_price - 36)\n",
    "payoff_B = max(0, gmean_price - 35)\n",
    "print(f\"The value of 100(B-A) is {100*(payoff_B-payoff_A):.2f}\")"
   ],
   "metadata": {
    "collapsed": false,
    "ExecuteTime": {
     "end_time": "2024-05-30T18:10:45.220096Z",
     "start_time": "2024-05-30T18:10:45.209883Z"
    }
   },
   "id": "28c8d3071d807779",
   "execution_count": 3
  },
  {
   "cell_type": "markdown",
   "source": [
    "**Quiz 8.2**\n",
    "![](img/week9_2.png)"
   ],
   "metadata": {
    "collapsed": false
   },
   "id": "1a9a48a51442220c"
  },
  {
   "cell_type": "code",
   "outputs": [
    {
     "name": "stdout",
     "output_type": "stream",
     "text": [
      "The price of this option is 1.9\n"
     ]
    }
   ],
   "source": [
    "u = np.exp((0.03-0.01)*0.5 + 0.3 * np.sqrt(0.5))\n",
    "d = np.exp((0.03-0.01)*0.5 - 0.3 * np.sqrt(0.5))\n",
    "\n",
    "S = 40\n",
    "Su = S * u\n",
    "Sd = S * d\n",
    "Suu = Su * u\n",
    "Sud = Su * d\n",
    "Sdd = Sd * d\n",
    "\n",
    "Average_uu = gmean([Su, Suu])\n",
    "Average_ud = gmean([Su, Sud])\n",
    "Average_du = gmean([Sd, Sud])\n",
    "Average_dd = gmean([Sd, Sdd])\n",
    "\n",
    "P_uu = max(0, Average_uu - Suu)\n",
    "P_ud = max(0, Average_ud - Sud)\n",
    "P_du = max(0, Average_du - Sud)\n",
    "P_dd = max(0, Average_dd - Sdd)\n",
    "\n",
    "q = (np.exp(0.02 * 0.5) - d)/(u-d)\n",
    "\n",
    "# One method to compute the price at each node\n",
    "P_u = np.exp(-0.03 * 0.5) * (q * P_uu + (1-q) * P_ud)\n",
    "P_d = np.exp(-0.03 * 0.5) * (q * P_du + (1-q) * P_dd)\n",
    "P = np.exp(-0.03 * 0.5) * (q * P_u + (1-q) * P_d)\n",
    "\n",
    "# Another method to compute the price directly\n",
    "# P = np.exp(-0.03) * (q**2 * P_uu + q*(1-q) * P_ud + q*(1-q)*P_du + (1-q)**2*P_dd)\n",
    "print(f\"The price of this option is {P:.1f}\")"
   ],
   "metadata": {
    "collapsed": false,
    "ExecuteTime": {
     "end_time": "2024-05-30T07:00:20.194281Z",
     "start_time": "2024-05-30T07:00:20.180514Z"
    }
   },
   "id": "6be662c0da88cfe0",
   "execution_count": 91
  },
  {
   "cell_type": "markdown",
   "source": [
    "**Quiz 8.3**\n",
    "![](img/week9_3.png)"
   ],
   "metadata": {
    "collapsed": false
   },
   "id": "9e637d50beafd548"
  },
  {
   "cell_type": "markdown",
   "source": [
    "**Quiz 8.4**\n",
    "For this problem, please construct a two-period binomial model\n",
    "![](img/week9_4.png)"
   ],
   "metadata": {
    "collapsed": false
   },
   "id": "8ff8ecb550d996c5"
  },
  {
   "cell_type": "code",
   "outputs": [
    {
     "name": "stdout",
     "output_type": "stream",
     "text": [
      "The price of this option is 22.63\n"
     ]
    }
   ],
   "source": [
    "u = np.exp((0.06-0.05) + 0.3)\n",
    "d = np.exp((0.06-0.05) - 0.3)\n",
    "S = 100\n",
    "Su = S * u\n",
    "Sd = S * d\n",
    "Suu = S * u * u\n",
    "Sud = S * u * d\n",
    "Sdd = S * d * d\n",
    "\n",
    "Puu = 0\n",
    "Pud = 0\n",
    "Pdu = 120 - Sud\n",
    "Pdd = 120 - Sdd\n",
    "q = (np.exp(0.01) - d)/(u-d)\n",
    "Pu = 0\n",
    "Pd = np.exp(-0.06) * (q * Pdu + (1-q) * Pdd)\n",
    "\n",
    "P = np.exp(-0.06) * (q * Pu + (1-q) * Pd)\n",
    "print(f\"The price of this option is {P:.2f}\")"
   ],
   "metadata": {
    "collapsed": false,
    "ExecuteTime": {
     "end_time": "2024-05-30T07:05:03.391154Z",
     "start_time": "2024-05-30T07:05:03.380688Z"
    }
   },
   "id": "b93336a90a0eecbf",
   "execution_count": 93
  },
  {
   "cell_type": "markdown",
   "source": [
    "**Quiz 8.5**\n",
    "![](./img/week9_5.png)"
   ],
   "metadata": {
    "collapsed": false
   },
   "id": "ff208dcfee404a62"
  },
  {
   "cell_type": "markdown",
   "source": [
    "**Quiz 8.6**\n",
    "![](img/week9_6.png)\n",
    "You are also given that the volatility of the stock is less than 100%."
   ],
   "metadata": {
    "collapsed": false
   },
   "id": "d47c7b5744b1ce9a"
  },
  {
   "cell_type": "code",
   "outputs": [
    {
     "name": "stdout",
     "output_type": "stream",
     "text": [
      "The one day profit is 0.0005801055773632961 if the stock price changes by 0.52\n"
     ]
    }
   ],
   "source": [
    "delta = 0.61791\n",
    "r = 0.1\n",
    "S = 50\n",
    "T = 0.25\n",
    "\n",
    "sigma = 0.2\n",
    "\n",
    "# delta_guessed = call_Delta(S, S, T, r, sigma, 0)\n",
    "# print(delta_guessed)\n",
    "\n",
    "dS = 0.52\n",
    "C_old = black_scholes_call(S, S, T, r, sigma, 0)\n",
    "C_new = black_scholes_call(S+dS, S, T-1/365, r, sigma, 0)\n",
    "\n",
    "profit = -(C_new - C_old) + dS * delta - (-C_old + delta * S) * (np.exp(r/365) - 1)\n",
    "print(\"The one day profit is\", profit, \"if the stock price changes by\", dS)"
   ],
   "metadata": {
    "collapsed": false,
    "ExecuteTime": {
     "end_time": "2024-05-30T20:07:34.496601Z",
     "start_time": "2024-05-30T20:07:34.491632Z"
    }
   },
   "id": "29bd9645ca8d269",
   "execution_count": 11
  },
  {
   "cell_type": "markdown",
   "id": "53bb5c857dd26cc9",
   "metadata": {
    "collapsed": false
   },
   "source": [
    "**Quiz 8.7**\n",
    "![](img/week9_7.png)"
   ]
  },
  {
   "cell_type": "markdown",
   "id": "ffb830222cd8e020",
   "metadata": {
    "collapsed": false
   },
   "source": [
    "**Quiz 8.8**\n",
    "![](img/week9_8.png)"
   ]
  },
  {
   "cell_type": "markdown",
   "id": "f70e2e35480b5306",
   "metadata": {
    "collapsed": false
   },
   "source": [
    "**Quiz 8.9**\n",
    "![](img/week9_9.png)"
   ]
  },
  {
   "cell_type": "markdown",
   "id": "d44ecdf666c10b84",
   "metadata": {
    "collapsed": false
   },
   "source": [
    "**Quiz 8.10**\n",
    "![](img/week9_10.png)"
   ]
  },
  {
   "cell_type": "markdown",
   "source": [
    "# Delta-Gamma Hedge\n",
    "The delta-hedged portfolio is still under the exposure of risk especially when the option is at the money (This is called the **pin risk** of delta-hedged portfolio). This is where $\\Gamma$ of the option is maximized. To eliminate this risk, we also hedge our portfolio so that it is Gamma-neutral. However, this cannot be done by adding shares of stock, as the stock has zero gamma. Thus, we use the underlying stock, and another option to delta-gamma hedge our portfolio. "
   ],
   "metadata": {
    "collapsed": false
   },
   "id": "5a809ebbb365f1a9"
  },
  {
   "cell_type": "markdown",
   "source": [
    "**Example**\n",
    "Suppose that $S = 40, \\sigma = 0.3, r = 0.08, \\delta = 0$. Compute the delta and gamma of $40$ and $45$ strike call options. Suppose that we just sell 1000 units of the $40$-strike call option. How would we delta-gamma hedge our position? "
   ],
   "metadata": {
    "collapsed": false
   },
   "id": "be4e6aed75a20b8f"
  },
  {
   "cell_type": "code",
   "outputs": [
    {
     "name": "stdout",
     "output_type": "stream",
     "text": [
      "0.509596248447661 0.6615388804893103 0.03323557163859403 0.0304810305345002\n",
      "We should buy 917.121 units of the 45-strike call, and buy 194.178 shares of the stock\n"
     ]
    }
   ],
   "source": [
    "S = 40\n",
    "sigma = 0.3\n",
    "r = 0.08\n",
    "delta = 0\n",
    "T = 1\n",
    "\n",
    "delta_45 = call_Delta(S, 45, T, r, sigma, delta)\n",
    "delta_40 = call_Delta(S, 40, T, r, sigma, delta)\n",
    "gamma_45 = Gamma(S, 45, T, r, sigma, delta)\n",
    "gamma_40 = Gamma(S, 40, T, r, sigma, delta)\n",
    "\n",
    "print(delta_45, delta_40, gamma_45, gamma_40)\n",
    "\n",
    "c1 = 1000*gamma_40/gamma_45\n",
    "c2 = 1000*delta_40-c1 * delta_45\n",
    "print(f\"We should buy {c1:.3f} units of the 45-strike call, and buy {c2:.3f} shares of the stock\")"
   ],
   "metadata": {
    "collapsed": false,
    "ExecuteTime": {
     "end_time": "2024-05-30T20:17:25.754028Z",
     "start_time": "2024-05-30T20:17:25.744491Z"
    }
   },
   "id": "fcbcf837f23d6ff5",
   "execution_count": 14
  },
  {
   "cell_type": "markdown",
   "source": [
    "# Compound Options\n",
    "A **compound option** is an option on an option. We denote $x, t_1$ to denote the strike and expiry date of the compound option, and $K, T$ to denote the strike and expiry date of the underlying option. For example, a **call-on-call** compound option gives you right to purchase a call option at the price $x$ at the expiry date $t_1$, and the underlying call options has strike $K$ and expiry date $T>t_1$.\n",
    "\n",
    "For a call-on-call option to have non-zero value, we need that at time $t_1$, the price of the call option $C(S_{t_1}, K, T-t_1)$ should be higher than the strike $x$, and at the expiry date, the stock price should be higher than the strike $K$.\n",
    "\n",
    "We can use binomial tree method, or monte carlo method to compute the price of a compound option."
   ],
   "metadata": {
    "collapsed": false
   },
   "id": "902d56b2e89ce535"
  },
  {
   "cell_type": "markdown",
   "source": [
    "**Example**\n",
    "Use the binomial model of two period for the following computation, where each period is one year.\n",
    "\n",
    "Consider a call on call option, which gives you right to purchase a call option at price $5$ in 1 year, and the call option has expiry date in 1 year after, with a strike 110. \n",
    "\n",
    "Suppose that the underlying stock has current price 100, and $u=1.2, d = 0.8$ and has $\\delta = 0.01$. Suppose that the risk-free rate is $0.05$. Compute the price of this compound option."
   ],
   "metadata": {
    "collapsed": false
   },
   "id": "75775c2aa86e2501"
  },
  {
   "cell_type": "code",
   "outputs": [
    {
     "name": "stdout",
     "output_type": "stream",
     "text": [
      "0.6020269354809705\n",
      "19.470635002630733\n",
      "8.286836835073982\n"
     ]
    }
   ],
   "source": [
    "q = (np.exp(0.05-0.01)-0.8)/(1.2-0.8)\n",
    "print(q)\n",
    "Cu = np.exp(-0.05) * (q * 34)\n",
    "print(Cu)\n",
    "P = np.exp(-0.05) * (q * (Cu-5))\n",
    "print(P)"
   ],
   "metadata": {
    "collapsed": false,
    "ExecuteTime": {
     "end_time": "2024-05-30T20:28:32.140092Z",
     "start_time": "2024-05-30T20:28:32.134613Z"
    }
   },
   "id": "60ac2c0a6a9ba6c6",
   "execution_count": 17
  },
  {
   "cell_type": "markdown",
   "source": [
    "**Example**\n",
    "Suppose $u = 1.2, d = 0.8, r = 0.05, \\delta = 0, S_0 = 100$. Consider a call-on-call option with strike 5, and expiry date in 1 year, and the underlying call option has strike 110 and expires 2 year after. \n",
    "\n",
    "Use 3 period binomial tree to compute the price of this call-on-call option."
   ],
   "metadata": {
    "collapsed": false
   },
   "id": "42eef13032797a17"
  },
  {
   "cell_type": "code",
   "outputs": [
    {
     "name": "stdout",
     "output_type": "stream",
     "text": [
      "115.2\n",
      "172.79999999999998\n",
      "24.6210511238336 1.8566882211108318\n",
      "11.724385472337357\n"
     ]
    }
   ],
   "source": [
    "Cuud = 100 * 1.2 * 1.2 * 0.8\n",
    "Cuuu = 100 * 1.2 * 1.2 * 1.2\n",
    "print(Cuud)\n",
    "print(Cuuu)\n",
    "\n",
    "q = (np.exp(0.05)-0.8)/(1.2-0.8)\n",
    "\n",
    "Cu = np.exp(-0.05 * 2) * (q**2 * 62.8 + 2 * q * (1-q) * 5.2 + (1-q)**2 * 0)\n",
    "Cd = np.exp(-0.05 * 2) * (q**2 * 5.2)\n",
    "print(Cu, Cd)\n",
    "P = np.exp(-0.05) * q * (Cu-5)\n",
    "print(P)"
   ],
   "metadata": {
    "collapsed": false,
    "ExecuteTime": {
     "end_time": "2024-05-30T20:39:28.527960Z",
     "start_time": "2024-05-30T20:39:28.518807Z"
    }
   },
   "id": "4b94282b6257fc18",
   "execution_count": 23
  },
  {
   "cell_type": "markdown",
   "source": [
    "# Monte Carlo Methods"
   ],
   "metadata": {
    "collapsed": false
   },
   "id": "c3dc5ae66e293670"
  },
  {
   "cell_type": "markdown",
   "source": [
    "**Example**\n",
    "In the first 4 problems please assume the risk-free annual interest rate is 5.35% and the underlying stock has a current price of 41.75 and volatility of 0.34. Also assume there are 61 days until expiration. For each option you must compute its value using the Monte Carlo simulation method presented in Lecture 16 and plot a histogram of all the option prices obtained in the simulation\n",
    "\n",
    "1. Using the Monte Carlo methodology, compute the value of a European put option with a strike price of 45 using 10,000 trials.\n",
    "2. Using the Monte Carlo methodology, compute the value of an exotic Asian-style arithmetic average strike European put option using 10,000 trials."
   ],
   "metadata": {
    "collapsed": false
   },
   "id": "bacf4f61e3d206ac"
  },
  {
   "cell_type": "code",
   "outputs": [
    {
     "name": "stdout",
     "output_type": "stream",
     "text": [
      "12.786326403886477\n"
     ]
    },
    {
     "data": {
      "text/plain": "<Axes: >"
     },
     "execution_count": 24,
     "metadata": {},
     "output_type": "execute_result"
    },
    {
     "data": {
      "text/plain": "<Figure size 640x480 with 1 Axes>",
      "image/png": "[encoded data removed]"
     },
     "metadata": {},
     "output_type": "display_data"
    }
   ],
   "source": [
    "import matplotlib.pyplot as plt\n",
    "import pandas as pd\n",
    "\n",
    "def stock_price_simulation(T, N, r, delta, sigma, S0):\n",
    "    dt = float(T) / N\n",
    "    t = np.linspace(0, T, N+1)\n",
    "    S = np.zeros(N+1)\n",
    "    S[0] = S0\n",
    "    for i in range(1, N+1):\n",
    "        Z = np.random.normal(0, 1)\n",
    "        S[i] = S[i-1] * np.exp((r - delta - 0.5 * sigma**2) * dt + sigma * np.sqrt(dt) * Z)\n",
    "    return t, S\n",
    "\n",
    "T = 61/365\n",
    "N = 1000\n",
    "r = 0.0535\n",
    "delta = 0\n",
    "sigma = 0.34\n",
    "S0 = 41.75\n",
    "\n",
    "number_of_trials = 10000\n",
    "\n",
    "price = []\n",
    "for i in range(number_of_trials):\n",
    "    t, S = stock_price_simulation(T, N, r, delta, sigma, S0)    \n",
    "    price.append(max(0, 55-S[-1]) * np.exp(-r * T))\n",
    "    \n",
    "price_data = pd.Series(price)\n",
    "\n",
    "print(price_data.mean())\n",
    "price_data.hist()\n"
   ],
   "metadata": {
    "collapsed": false,
    "ExecuteTime": {
     "end_time": "2024-05-30T20:45:49.627623Z",
     "start_time": "2024-05-30T20:45:33.302336Z"
    }
   },
   "id": "158f0bfb96c94786",
   "execution_count": 24
  },
  {
   "cell_type": "code",
   "outputs": [
    {
     "data": {
      "text/plain": "12.830108980595448"
     },
     "execution_count": 25,
     "metadata": {},
     "output_type": "execute_result"
    }
   ],
   "source": [
    "black_scholes_put(41.75, 55, 61/365, 0.0535, 0.34, 0)"
   ],
   "metadata": {
    "collapsed": false,
    "ExecuteTime": {
     "end_time": "2024-05-30T20:46:59.809546Z",
     "start_time": "2024-05-30T20:46:59.796995Z"
    }
   },
   "id": "756b7ea867a71825",
   "execution_count": 25
  },
  {
   "cell_type": "code",
   "outputs": [
    {
     "name": "stdout",
     "output_type": "stream",
     "text": [
      "2.6496035853739364\n"
     ]
    },
    {
     "data": {
      "text/plain": "<AxesSubplot:>"
     },
     "execution_count": 16,
     "metadata": {},
     "output_type": "execute_result"
    },
    {
     "data": {
      "text/plain": "<Figure size 640x480 with 1 Axes>",
      "image/png": "[encoded data removed]"
     },
     "metadata": {},
     "output_type": "display_data"
    }
   ],
   "source": [
    "import matplotlib.pyplot as plt\n",
    "import pandas as pd\n",
    "\n",
    "def stock_price_simulation(T, N, r, delta, sigma, S0):\n",
    "    dt = float(T) / N\n",
    "    t = np.linspace(0, T, N+1)\n",
    "    S = np.zeros(N+1)\n",
    "    S[0] = S0\n",
    "    for i in range(1, N+1):\n",
    "        Z = np.random.normal(0, 1)\n",
    "        S[i] = S[i-1] * np.exp((r - delta - 0.5 * sigma**2) * dt + sigma * np.sqrt(dt) * Z)\n",
    "    return t, S\n",
    "\n",
    "T = 1\n",
    "N = 365\n",
    "r = 0.0535\n",
    "delta = 0\n",
    "sigma = 0.34\n",
    "S0 = 41.75\n",
    "\n",
    "number_of_trials = 10000\n",
    "\n",
    "price = []\n",
    "for i in range(number_of_trials):\n",
    "    t, S = stock_price_simulation(T, N, r, delta, sigma, S0)    \n",
    "    price.append(max(0, np.mean(S) - S[-1]) * np.exp(-0.0535))\n",
    "    \n",
    "price_data = pd.Series(price)\n",
    "\n",
    "print(price_data.mean())\n",
    "price_data.hist()\n"
   ],
   "metadata": {
    "collapsed": false,
    "ExecuteTime": {
     "end_time": "2024-05-30T18:46:08.993822Z",
     "start_time": "2024-05-30T18:45:54.564007Z"
    }
   },
   "id": "371b96579ed94f6d",
   "execution_count": 16
  },
  {
   "cell_type": "markdown",
   "source": [
    "**Diagram shows that the one day profit depends only on the magnitude of the change in stock price, not on its direction**"
   ],
   "metadata": {
    "collapsed": false
   },
   "id": "fe4ee82aa076d674"
  },
  {
   "cell_type": "code",
   "outputs": [
    {
     "data": {
      "text/plain": "<Figure size 640x480 with 1 Axes>",
      "image/png": "[encoded data removed]"
     },
     "metadata": {},
     "output_type": "display_data"
    }
   ],
   "source": [
    "import matplotlib.pyplot as plt\n",
    "\n",
    "S = 40\n",
    "K = 45\n",
    "r = 0.05\n",
    "delta = 0\n",
    "sigma = 0.3\n",
    "T = 1\n",
    "\n",
    "\n",
    "dS_list = np.linspace(-2,2, 101)\n",
    "call_delta = call_Delta(S, K, T, r, sigma, delta)\n",
    "price_old = black_scholes_call(S, K, T, r, sigma, delta)\n",
    "\n",
    "one_day_profit = []\n",
    "S_list = []\n",
    "for dS in dS_list:\n",
    "    S_list.append(S+dS)\n",
    "    profit = call_delta * (dS) - (black_scholes_call(S+dS, K, T-1/365, r, sigma,delta) - price_old) + (call_delta * S - price_old) * (np.exp(r/365) - 1)\n",
    "    one_day_profit.append(profit)\n",
    "plt.plot(S_list, one_day_profit)\n",
    "plt.show()"
   ],
   "metadata": {
    "collapsed": false,
    "ExecuteTime": {
     "end_time": "2024-06-05T22:11:26.431363Z",
     "start_time": "2024-06-05T22:11:26.344247Z"
    }
   },
   "id": "d276bd940096b44c",
   "execution_count": 55
  },
  {
   "cell_type": "markdown",
   "source": [
    "# Homework Solution"
   ],
   "metadata": {
    "collapsed": false
   },
   "id": "a912779619460fcf"
  },
  {
   "cell_type": "markdown",
   "source": [
    "**Exercise 13.14**\n",
    "Consider a put for which T = 0.5 and K = 45. Compute the Greeks and verify that equation (13.9) is zero."
   ],
   "metadata": {
    "collapsed": false
   },
   "id": "c06f0fd041a6f3d4"
  },
  {
   "cell_type": "code",
   "outputs": [
    {
     "name": "stdout",
     "output_type": "stream",
     "text": [
      "The delta, gamma, theta of this put option is -0.6028, 0.0454, -0.9139\n",
      "The price of this put option is 5.37\n"
     ]
    }
   ],
   "source": [
    "S = 40\n",
    "sigma = 0.3\n",
    "r = 0.08\n",
    "delta = 0\n",
    "T = 0.5\n",
    "K = 45\n",
    "put_delta = put_Delta(S, K, T, r, sigma, delta)\n",
    "gamma = Gamma(S, K, T, r, sigma, delta)\n",
    "theta = put_Theta(S, K, T, r, sigma, delta)\n",
    "print(f\"The delta, gamma, theta of this put option is {put_delta:.4f}, {gamma:.4f}, {theta:.4f}\")\n",
    "P = black_scholes_put(S, K, T, r, sigma, delta)\n",
    "print(f\"The price of this put option is {P:.2f}\")"
   ],
   "metadata": {
    "collapsed": false,
    "ExecuteTime": {
     "end_time": "2024-06-05T22:09:01.402260Z",
     "start_time": "2024-06-05T22:09:01.396234Z"
    }
   },
   "id": "73e9dcd2e5a5c767",
   "execution_count": 51
  },
  {
   "cell_type": "markdown",
   "source": [
    "We verify that \n",
    "$$0.5 \\cdot \\sigma^2S^2\\Gamma+\\theta+r(\\Delta S - P(S_t)) = 0.5\\cdot 0.3^2\\cdot 40^2\\cdot 0.05 -0.91 + 0.08\\cdot(-0.6\\cdot 40 - 5.37) = 3.2688-0.9139-2.35856 \\approx 0$$"
   ],
   "metadata": {
    "collapsed": false
   },
   "id": "46778ccfcbf7201d"
  },
  {
   "cell_type": "markdown",
   "source": [
    "**Exercise 13.15**\n",
    "You own one 45-strike call with 180 days to expiration. Compute and graph the 1-day holding period profit if you delta- and gamma-hedge this position using a 40-strike call with 180 days to expiration.\n"
   ],
   "metadata": {
    "collapsed": false
   },
   "id": "b98ea22f0adbc024"
  },
  {
   "cell_type": "code",
   "outputs": [
    {
     "data": {
      "text/plain": "<Figure size 640x480 with 1 Axes>",
      "image/png": "[encoded data removed]"
     },
     "metadata": {},
     "output_type": "display_data"
    }
   ],
   "source": [
    "S = 40\n",
    "sigma = 0.3\n",
    "r = 0.08\n",
    "delta = 0\n",
    "T = 0.5\n",
    "K = 45\n",
    "\n",
    "dS_list = np.linspace(-10,10, 101)\n",
    "call_delta = call_Delta(S, K, T, r, sigma, delta)\n",
    "price_old = black_scholes_call(S, K, T, r, sigma, delta)\n",
    "gamma_1 = Gamma(S, K, T, r, sigma, delta)\n",
    "\n",
    "# Compute the number of shares in the stock and in the second call option\n",
    "call_delta_2 = call_Delta(S, 40, T, r, sigma, delta)\n",
    "gamma_2 = Gamma(S, 40, T, r, sigma, delta)\n",
    "price_old_2 = black_scholes_call(S, 40, T, r, sigma, delta)\n",
    "shares_2 = -gamma_1/gamma_2\n",
    "shares_stock = -(call_delta + shares_2 * call_delta_2)\n",
    "\n",
    "delta_gamma_hedged_one_day_profit = []\n",
    "delta_hedged_one_day_profit = []\n",
    "S_list = []\n",
    "for dS in dS_list:\n",
    "    S_list.append(S+dS)\n",
    "    profit = -call_delta * (dS) + (black_scholes_call(S+dS, K, T-1/365, r, sigma,delta) - price_old) + (price_old-call_delta * S) * (np.exp(r/365) - 1)\n",
    "    delta_hedged_one_day_profit.append(profit)\n",
    "    \n",
    "    profit_2 = shares_stock * dS + (black_scholes_call(S+dS, K, T-1/365, r, sigma,delta) - price_old) + shares_2 * (black_scholes_call(S+dS, 40, T-1/365, r, sigma,delta) - price_old_2) + (price_old + shares_stock * S + shares_2 * price_old_2) * (np.exp(r/365) - 1)\n",
    "    delta_gamma_hedged_one_day_profit.append(profit_2)\n",
    "    \n",
    "plt.plot(S_list, delta_hedged_one_day_profit, color = \"red\", label = \"delta-hedged\")\n",
    "plt.plot(S_list, delta_gamma_hedged_one_day_profit, color = \"blue\", label = \"delta-gamma_hedged\")\n",
    "plt.legend()\n",
    "plt.xlabel(\"Stock price\")\n",
    "plt.ylabel(\"One day profit\")\n",
    "plt.show()"
   ],
   "metadata": {
    "collapsed": false,
    "ExecuteTime": {
     "end_time": "2024-06-05T23:56:24.866613Z",
     "start_time": "2024-06-05T23:56:24.724798Z"
    }
   },
   "id": "33080f9094f5fc5b",
   "execution_count": 87
  },
  {
   "cell_type": "markdown",
   "source": [
    "**Exercise 13.17**\n",
    "You have written a 35–40–45 butterfly spread with 91 days to expiration. Compute and graph the 1-day holding period profit if you delta- and gamma-hedge this position using the stock and a 40-strike call with 180 days to expiration."
   ],
   "metadata": {
    "collapsed": false
   },
   "id": "4449d5222aac2cb2"
  },
  {
   "cell_type": "code",
   "outputs": [
    {
     "data": {
      "text/plain": "<Figure size 640x480 with 1 Axes>",
      "image/png": "[encoded data removed]"
     },
     "metadata": {},
     "output_type": "display_data"
    }
   ],
   "source": [
    "S = 40\n",
    "sigma = 0.3\n",
    "r = 0.08\n",
    "delta = 0\n",
    "T = 91/365\n",
    "\n",
    "def price_spread(S, T, r, sigma, delta):\n",
    "    return -2 * black_scholes_call(S, 40, T, r, sigma, delta) + black_scholes_call(S, 35, T, r, sigma, delta) + black_scholes_call(S, 45, T, r, sigma, delta)\n",
    "\n",
    "dS_list = np.linspace(-10,10, 101)\n",
    "\n",
    "delta_spread = -2 * call_Delta(S, 40, T, r, sigma, delta) + call_Delta(S, 35, T, r, sigma, delta) + call_Delta(S, 45, T, r, sigma, delta)\n",
    "gamma_spread = -2 * Gamma(S, 40, T, r, sigma, delta) + Gamma(S, 35, T, r, sigma, delta) + Gamma(S, 45, T, r, sigma, delta)\n",
    "price_old = price_spread(S, T, r, sigma, delta)\n",
    "\n",
    "gamma_2 = Gamma(S, 40, 0.5, r, sigma, delta)\n",
    "delta_2 = call_Delta(S, 40, 0.5, r, sigma, delta)\n",
    "shares_2 = -(-gamma_spread/gamma_2)\n",
    "shares_stock = -(-delta_spread + shares_2 * delta_2)\n",
    "price_old_2 = black_scholes_call(S, 40, 0.5, r, sigma, delta)\n",
    "\n",
    "delta_hedged_one_day_profit = []\n",
    "delta_gamma_hedged_one_day_profit = []\n",
    "\n",
    "for dS in dS_list:\n",
    "    price_new = price_spread(S+dS, T-1/365, r, sigma, delta)\n",
    "    price_new_2 = black_scholes_call(S+dS, 40, 0.5-1/365, r, sigma, delta)\n",
    "    profit_1 = delta_spread * dS - (price_new - price_old) + (delta_spread * S - price_old) * (np.exp(r/365) - 1)\n",
    "    delta_hedged_one_day_profit.append(profit_1)\n",
    "    \n",
    "    profit_2 = shares_stock * dS - (price_new-price_old) + shares_2 * (price_new_2-price_old_2) + (shares_stock * S + shares_2 * price_old_2 - price_old) * (np.exp(r/365)-1)\n",
    "    delta_gamma_hedged_one_day_profit.append(profit_2)\n",
    "\n",
    "plt.plot(S_list, delta_hedged_one_day_profit, color = \"red\", label = \"delta-hedged\")\n",
    "plt.plot(S_list, delta_gamma_hedged_one_day_profit, color = \"blue\", label = \"delta-gamma_hedged\")\n",
    "plt.xlabel(\"Stock price\")\n",
    "plt.ylabel(\"One day profit\")\n",
    "plt.legend()\n",
    "plt.show()"
   ],
   "metadata": {
    "collapsed": false,
    "ExecuteTime": {
     "end_time": "2024-06-06T00:15:51.953393Z",
     "start_time": "2024-06-06T00:15:51.847892Z"
    }
   },
   "id": "b0fec48768129b1b",
   "execution_count": 89
  },
  {
   "cell_type": "markdown",
   "source": [],
   "metadata": {
    "collapsed": false
   },
   "id": "c24172999db4c29c"
  }
 ],
 "metadata": {
  "kernelspec": {
   "display_name": "Python 3 (ipykernel)",
   "language": "python",
   "name": "python3"
  },
  "language_info": {
   "codemirror_mode": {
    "name": "ipython",
    "version": 3
   },
   "file_extension": ".py",
   "mimetype": "text/x-python",
   "name": "python",
   "nbconvert_exporter": "python",
   "pygments_lexer": "ipython3",
   "version": "3.11.5"
  }
 },
 "nbformat": 4,
 "nbformat_minor": 5
}
