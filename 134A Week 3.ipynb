{
 "cells": [
  {
   "cell_type": "markdown",
   "source": [
    "# Math 134A Week 3"
   ],
   "metadata": {
    "collapsed": false
   },
   "id": "2e2df11734bbb692"
  },
  {
   "cell_type": "code",
   "outputs": [],
   "source": [
    "import math\n",
    "from scipy.optimize import fsolve\n",
    "import numpy_financial as npf\n",
    "import pandas as pd\n",
    "\n",
    "# Computing the present value of a cash flow with interest rate r. \n",
    "def PV(r, cf, continuous_compounding = False, dt = None): \n",
    "    if dt is None: dt = range(len(cf))\n",
    "    pv = 0\n",
    "    if not continuous_compounding:\n",
    "        for k in range(0, len(cf)):\n",
    "            pv += cf[k] / (1+r)**dt[k]\n",
    "    else:\n",
    "        for k in range(0, len(cf)):\n",
    "            pv += cf[k] * math.exp(-r * dt[k])\n",
    "    return pv\n",
    "\n",
    "# This will return the future value of a cash flow at time T. If T is not specified, then we take T as the time that we receive the last cash flow\n",
    "def FV(r, cf, continuous_compounding = False, dt = None, T = None):\n",
    "    if dt is None: dt = range(len(cf))\n",
    "    if T is None: T = dt[-1]\n",
    "    fv = 0\n",
    "    if not continuous_compounding:\n",
    "        for k in range(0, len(cf)):\n",
    "            fv += cf[k] * (1+r)**(T - dt[k])\n",
    "    else:\n",
    "        for k in range(0, len(cf)):\n",
    "            fv += cf[k] * math.exp(r * (T - dt[k]))\n",
    "    return fv   \n",
    "\n",
    "# Computing the internal rate of return by using the fsolve function to find roots to a polynomial\n",
    "def irr(cf):\n",
    "    def simple_npv(r, cf):\n",
    "        return sum(cf[k]/(1+r)**k for k in range(len(cf)))\n",
    "    \n",
    "    result = fsolve(simple_npv, x0 = 0.1, args = cf)\n",
    "    return result[0]\n",
    "\n",
    "# Computing the internal rate of return by using the irr function in numpy financial library\n",
    "def irr2(cf):\n",
    "    return npf.irr(cf)"
   ],
   "metadata": {
    "collapsed": false,
    "ExecuteTime": {
     "end_time": "2024-04-16T08:19:28.266946Z",
     "start_time": "2024-04-16T08:19:27.816782Z"
    }
   },
   "id": "73d49797df847f91",
   "execution_count": 19
  },
  {
   "cell_type": "markdown",
   "source": [
    "## Example of fixed income securities\n",
    "- **Certificate of Deposit (CD)**\n",
    "- Government securities: \n",
    "  - **U.S. Treasury bills**\n",
    "  - **U.S. Treasury notes** \n",
    "  - **U.S. Treasure bonds**\n",
    "- **Municipal bonds**\n",
    "- **Corporate bonds**\n",
    "\n",
    "## Example of other fixed income investment\n",
    "- **Annuity**\n",
    "- **Mortgages**\n",
    "\n",
    "The above two fixed income investments are usually not considered as a security since they are usually not traded on markets. "
   ],
   "metadata": {
    "collapsed": false
   },
   "id": "5fc1f33d33c5f9ce"
  },
  {
   "cell_type": "markdown",
   "source": [
    "## Annuity\n",
    "A **perpetual annuity** pays a fixed amount A at the end of every period forever. Its corresponding cash flow is $(0, A, A, A,\\ldots)$. Suppose that the prevailing interest per period is $r$. The present value of this annuity is \n",
    "$$P = \\sum_{k=1}^\\infty \\frac{A}{(1+r)^k} = A/r$$\n",
    "\n",
    "In practice, the payment stream for an annuity has a finite lifetime. Suppose that an annuity pays a fixed amount A at the end of every period, and stops after n periodical payments. Let $r$ be the prevailling interest per period. Then the present value of this annuity is \n",
    "$$P = \\sum_{k=1}^n \\frac{A}{(1+r)^k} = \\frac{A}{r}\\left(1-\\frac{1}{(1+r)^n}\\right)$$\n",
    "\n",
    "We also note that the annuity formula can be used in a reverse way to compute the monthly payment to a loan (which is usually called **amortization**). In this case, $P$ and $r$ are given, which are the amount of money we borrowed, and $r$ is the loan rate per period. Then $A$ is the monthly payment to the loan. We can solve that \n",
    "$$A = \\frac{r(1+r)^nP}{(1+r)^n - 1}$$"
   ],
   "metadata": {
    "collapsed": false
   },
   "id": "7e220cbc589a09a8"
  },
  {
   "cell_type": "code",
   "outputs": [],
   "source": [
    "def loan_payment(loan_amount, r, n):\n",
    "    return (loan_amount * r)/(1 - 1/(1+r)**n)"
   ],
   "metadata": {
    "collapsed": false,
    "ExecuteTime": {
     "end_time": "2024-04-16T07:27:12.180329Z",
     "start_time": "2024-04-16T07:27:12.174901Z"
    }
   },
   "id": "119962ac0c2777e4",
   "execution_count": 2
  },
  {
   "cell_type": "markdown",
   "source": [
    "## Example\n",
    "Suppose you have borrowed 1000 from a credit union. The loan has a yearly interest 12\\% compounded monthly. You are to make equal monthly payments to repay the loan over 6 months. How much is the monthly payment?"
   ],
   "metadata": {
    "collapsed": false
   },
   "id": "9774d661362a9e3e"
  },
  {
   "cell_type": "code",
   "outputs": [
    {
     "name": "stdout",
     "output_type": "stream",
     "text": [
      "The monthly payment for the loan is 172.55\n"
     ]
    }
   ],
   "source": [
    "monthly_payment = loan_payment(1000, 0.01, 6)\n",
    "print(f\"The monthly payment for the loan is {monthly_payment:.2f}\")"
   ],
   "metadata": {
    "collapsed": false,
    "ExecuteTime": {
     "end_time": "2024-04-16T07:36:00.214462Z",
     "start_time": "2024-04-16T07:36:00.208378Z"
    }
   },
   "id": "a6a6a5649446b551",
   "execution_count": 9
  },
  {
   "cell_type": "code",
   "outputs": [
    {
     "data": {
      "text/plain": "   Month  previous_balance  current_interest  payment  net_balance\n0      1           1000.00             10.00   172.55       837.45\n1      2            837.45              8.37   172.55       673.28\n2      3            673.28              6.73   172.55       507.46\n3      4            507.46              5.07   172.55       339.99\n4      5            339.99              3.40   172.55       170.84\n5      6            170.84              1.71   172.55         0.00",
      "text/html": "<div>\n<style scoped>\n    .dataframe tbody tr th:only-of-type {\n        vertical-align: middle;\n    }\n\n    .dataframe tbody tr th {\n        vertical-align: top;\n    }\n\n    .dataframe thead th {\n        text-align: right;\n    }\n</style>\n<table border=\"1\" class=\"dataframe\">\n  <thead>\n    <tr style=\"text-align: right;\">\n      <th></th>\n      <th>Month</th>\n      <th>previous_balance</th>\n      <th>current_interest</th>\n      <th>payment</th>\n      <th>net_balance</th>\n    </tr>\n  </thead>\n  <tbody>\n    <tr>\n      <th>0</th>\n      <td>1</td>\n      <td>1000.00</td>\n      <td>10.00</td>\n      <td>172.55</td>\n      <td>837.45</td>\n    </tr>\n    <tr>\n      <th>1</th>\n      <td>2</td>\n      <td>837.45</td>\n      <td>8.37</td>\n      <td>172.55</td>\n      <td>673.28</td>\n    </tr>\n    <tr>\n      <th>2</th>\n      <td>3</td>\n      <td>673.28</td>\n      <td>6.73</td>\n      <td>172.55</td>\n      <td>507.46</td>\n    </tr>\n    <tr>\n      <th>3</th>\n      <td>4</td>\n      <td>507.46</td>\n      <td>5.07</td>\n      <td>172.55</td>\n      <td>339.99</td>\n    </tr>\n    <tr>\n      <th>4</th>\n      <td>5</td>\n      <td>339.99</td>\n      <td>3.40</td>\n      <td>172.55</td>\n      <td>170.84</td>\n    </tr>\n    <tr>\n      <th>5</th>\n      <td>6</td>\n      <td>170.84</td>\n      <td>1.71</td>\n      <td>172.55</td>\n      <td>0.00</td>\n    </tr>\n  </tbody>\n</table>\n</div>"
     },
     "metadata": {},
     "output_type": "display_data"
    }
   ],
   "source": [
    "import pandas as pd\n",
    "\n",
    "pd.set_option('float_format', '{:.2f}'.format)\n",
    "data = pd.DataFrame()\n",
    "data['Month'] = [1, 2, 3, 4, 5, 6]\n",
    "previous_balance = [1000]\n",
    "current_interest = [1000 * 0.01]\n",
    "payment = [monthly_payment] * 6\n",
    "net_balance = [1000 * 1.01 - monthly_payment]\n",
    "for i in range(1, 6):\n",
    "    previous_balance.append(net_balance[-1])\n",
    "    current_interest.append(previous_balance[-1] * 0.01)\n",
    "    net_balance.append(previous_balance[-1] + current_interest[-1] - monthly_payment)\n",
    "data['previous_balance'] = previous_balance\n",
    "data['current_interest'] = current_interest\n",
    "data['payment'] = payment\n",
    "data['net_balance'] = net_balance\n",
    "display(data)\n"
   ],
   "metadata": {
    "collapsed": false,
    "ExecuteTime": {
     "end_time": "2024-04-16T07:45:39.276080Z",
     "start_time": "2024-04-16T07:45:39.255935Z"
    }
   },
   "id": "94019ab873522392",
   "execution_count": 16
  },
  {
   "cell_type": "markdown",
   "source": [
    "## Example\n",
    "Suppose we borrowed 30000 from a bank with fixed annual interest rate 2\\%, compounded monthly, for 30 years, with monthly payment. Compute the monthly payment, and draw a graph showing the ratio of interest and principal paid over each year."
   ],
   "metadata": {
    "collapsed": false
   },
   "id": "8599cb50557905f1"
  },
  {
   "cell_type": "code",
   "outputs": [
    {
     "name": "stdout",
     "output_type": "stream",
     "text": [
      "The monthly payment is 110.89\n"
     ]
    },
    {
     "data": {
      "text/plain": "<Figure size 640x480 with 1 Axes>",
      "image/png": "[encoded data removed]"
     },
     "metadata": {},
     "output_type": "display_data"
    }
   ],
   "source": [
    "# Plotting percent of interest paid vs principle paid on a loan throughout the loans lifetime\n",
    "import matplotlib.pyplot as plt\n",
    "# Loan parameters\n",
    "loan_amount = 30000\n",
    "interest_rate = 0.02\n",
    "loan_term_years = 30\n",
    "num_payments = loan_term_years * 12\n",
    "monthly_rate = interest_rate / 12\n",
    "# Calculate the monthly payment\n",
    "monthly_payment = loan_payment(loan_amount, monthly_rate, num_payments)\n",
    "print(f\"The monthly payment is {monthly_payment:.2f}\")\n",
    "# Initialize lists for interest, principal, and month number\n",
    "interest_paid = []\n",
    "principal_paid = []\n",
    "year_numbers = [year + 1 for year in range(loan_term_years)]\n",
    "# Calculate interest and principal payments for each year\n",
    "remaining_balance = loan_amount\n",
    "for year in range(loan_term_years):\n",
    "    annual_interest = 0\n",
    "    annual_principal = 0\n",
    "    for month in range(12):\n",
    "        interest = remaining_balance * monthly_rate\n",
    "        principal = monthly_payment - interest\n",
    "        remaining_balance -= principal\n",
    "        annual_interest += interest\n",
    "        annual_principal += principal\n",
    "    interest_paid.append(annual_interest / (12*monthly_payment) * 100)\n",
    "    principal_paid.append(annual_principal / (12*monthly_payment) * 100)\n",
    "# Plot the interest and principal paid over time\n",
    "plt.plot(year_numbers, interest_paid, label='Interest Paid (%)')\n",
    "plt.plot(year_numbers, principal_paid, label='Principal Paid (%)')\n",
    "plt.xlabel('Year')\n",
    "plt.ylabel('Amount (% of Total Monthly Payment)')\n",
    "plt.title('Interest and Principal Paid Over Time')\n",
    "plt.legend()\n",
    "plt.grid()\n",
    "plt.show()"
   ],
   "metadata": {
    "collapsed": false,
    "ExecuteTime": {
     "end_time": "2024-04-16T09:12:48.649072Z",
     "start_time": "2024-04-16T09:12:48.566393Z"
    }
   },
   "id": "3fadc72ecd340bfb",
   "execution_count": 45
  },
  {
   "cell_type": "markdown",
   "source": [
    "**Exercise 3.1**: (Amortization) A debt of 25,000 is to be amortized over 7 years at 7\\% interest. What value of monthly payments will achieve this? Suppose that the interest is compounded monthly for calculation. "
   ],
   "metadata": {
    "collapsed": false
   },
   "id": "147be474a10eaabe"
  },
  {
   "cell_type": "markdown",
   "source": [
    "**Solution**: "
   ],
   "metadata": {
    "collapsed": false
   },
   "id": "20117da25180cf22"
  },
  {
   "cell_type": "markdown",
   "source": [
    "**Exercise 3.2**: (Cycles and annual worth) Given a cash flow stream $X = (x_0,x_1,x_2,...,x_n)$, a new stream $X_\\infty$ of infinite length is made by successively repeating the corresponding finite stream. The interest rate is r. Let P and A be the present value and the annual worth, respectively, of stream X. Finally, let $P_\\infty$ be the present value of stream $X_\\infty$. Find A in terms of $P_\\infty$ and conclude that A can be used as well as $P_\\infty$ for evaluation purposes.\n",
    "\n",
    "The **annual worth** of a cash flow $(x_0,\\ldots, x_n)$ is the number $A$ such that the cash flow $(0, A,A,\\ldots)$ with in total $n$ payments is equivalent to the original cash flow $(x_0,\\ldots, x_n)$. "
   ],
   "metadata": {
    "collapsed": false
   },
   "id": "f69e290dd4226677"
  },
  {
   "cell_type": "markdown",
   "source": [
    "**Solution**:"
   ],
   "metadata": {
    "collapsed": false
   },
   "id": "c281eeef325a233e"
  },
  {
   "cell_type": "markdown",
   "source": [
    "**Exercise 3.3**: (Uncertain annuity ) Gavin’s grandfather, Mr. Jones, has just turned 90 years old and is applying for a lifetime annuity that will pay 10,000 per year, starting 1 year from now, until he dies. He asks Gavin to analyze it for him. Gavin finds that according to statistical summaries, the chance (probability) that Mr. Jones will die at any particular age is as follows:\n",
    "\n",
    "| age | 90 | 91 | 92 | 93 | 94 | 95 | 96 | 97 | 98 | 99 | 100 | 101 | \n",
    "| --- | --- | --- | --- | --- | --- | --- | --- | --- | --- | --- | --- |\n",
    "| probability | .07 | .08 | .09 | .10 | .10 | .10 | .10 | .10 | .10 | .07 | .05 | .04 |\n",
    "\n",
    "Then Gavin (and you) answer the following questions:\n",
    "(a) What is the life expectancy of Mr. Jones?\n",
    "(b) What is the present value of an annuity at 8\\% interest that has a lifetime equal to Mr. Jones’s life expectancy? (For an annuity of a non-integral number of years, use an averaging method.)\n",
    "(c) What is the expected present value of the annuity?"
   ],
   "metadata": {
    "collapsed": false
   },
   "id": "80b22c63fbc87148"
  },
  {
   "cell_type": "markdown",
   "source": [
    "**Solution:**"
   ],
   "metadata": {
    "collapsed": false
   },
   "id": "15a99cee3f4d0301"
  },
  {
   "cell_type": "markdown",
   "source": [
    "**Exercise 3.5**: (Mortgage restructuring) An investor purchased a small apartment building for 250,000. She made a down payment of 50,000 and financed the balance with a 30-year, fixed-rate mortgage at 12% annual interest, compounded monthly. For exactly 20 years she has made equal-sized monthly payments as required by the terms of the loan. Now she has the opportunity to restructure the mortgage by refinancing the balance. She could borrow the current balance, pay off the original loan, and assume a new loan for the balance. (No points or any other charges are involved in the transaction.) The new loan is a 20-year, fixed-rate loan at 9%, compounded monthly, to be paid in equal monthly installments. Suppose she has a risk-free savings account that pays 5%, compounded monthly. Should she restructure the mortgage?"
   ],
   "metadata": {
    "collapsed": false
   },
   "id": "aaa5e99408df0b77"
  },
  {
   "cell_type": "markdown",
   "source": [
    "**Solution**: "
   ],
   "metadata": {
    "collapsed": false
   },
   "id": "f1abbc6d31e3d887"
  },
  {
   "cell_type": "code",
   "outputs": [
    {
     "name": "stdout",
     "output_type": "stream",
     "text": [
      "The monthly payment of the first loan is 2057.23\n",
      "The remaining amount to the first loan at the end of year 20 is 143389.67\n",
      "143389.66994755768\n",
      "The new monthly payment if restruct the loan is 1290.11\n",
      "The present value of the first option at the end of year 20 is 193957.97\n",
      "The present value of the second option at the end of year 20 is 195484.939650\n",
      "Hence, we choose not to restructure the mortgage\n"
     ]
    }
   ],
   "source": [
    "monthly_payment_old = loan_payment(200000, 0.01, 30*12)\n",
    "print(f\"The monthly payment of the first loan is {monthly_payment_old:.2f}\")\n",
    "\n",
    "payment_cf = [0] + [monthly_payment_old] * 20 * 12\n",
    "payment_pv = PV(0.01, payment_cf)\n",
    "remaining_amount = FV(0.01, [200000-payment_pv], T= 20 * 12)\n",
    "print(f\"The remaining amount to the first loan at the end of year 20 is {remaining_amount:.2f}\")\n",
    "\n",
    "# Another way to compute the remaining amount is the present value of the remaining payment cashflow at the end of year 20\n",
    "# cf = [0]+ [monthly_payment_old] * 10 * 12\n",
    "# print(PV(0.01, cf))\n",
    "\n",
    "monthly_payment_new = loan_payment(remaining_amount, 0.09/12, 20 * 12)\n",
    "print(f\"The new monthly payment if restruct the loan is {monthly_payment_new:.2f}\")\n",
    "\n",
    "remaining_payment1_cf = [0] + [monthly_payment_old] * 10 * 12\n",
    "remaining_payment2_cf = [0] + [monthly_payment_new] * 20 * 12\n",
    "print(f\"The present value of the first option at the end of year 20 is {PV(0.05/12, remaining_payment1_cf):.2f}\")\n",
    "print(f\"The present value of the second option at the end of year 20 is {PV(0.05/12, remaining_payment2_cf):2f}\")\n",
    "print(\"Hence, we choose not to restructure the mortgage\")\n"
   ],
   "metadata": {
    "collapsed": false,
    "ExecuteTime": {
     "end_time": "2024-04-16T08:54:24.480131Z",
     "start_time": "2024-04-16T08:54:24.476097Z"
    }
   },
   "id": "f8d13e813864375",
   "execution_count": 40
  }
 ],
 "metadata": {
  "kernelspec": {
   "display_name": "Python 3",
   "language": "python",
   "name": "python3"
  },
  "language_info": {
   "codemirror_mode": {
    "name": "ipython",
    "version": 2
   },
   "file_extension": ".py",
   "mimetype": "text/x-python",
   "name": "python",
   "nbconvert_exporter": "python",
   "pygments_lexer": "ipython2",
   "version": "2.7.6"
  }
 },
 "nbformat": 4,
 "nbformat_minor": 5
}
