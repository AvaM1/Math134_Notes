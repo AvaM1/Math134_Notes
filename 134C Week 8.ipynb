{
 "cells": [
  {
   "cell_type": "markdown",
   "source": [
    "# Math 134C Week 8"
   ],
   "metadata": {
    "collapsed": false
   },
   "id": "8bf7767258b543f2"
  },
  {
   "cell_type": "code",
   "outputs": [],
   "source": [
    "import math\n",
    "import numpy as np\n",
    "from scipy.stats import norm\n",
    "def black_scholes_call(S_t, K, dt, r, sigma, delta):\n",
    "    d1 = (np.log(S_t / K) + (r -delta + 0.5 * sigma ** 2) * dt) / (sigma * np.sqrt(dt))\n",
    "    d2 = d1 - sigma * np.sqrt(dt)\n",
    "    call_price = S_t * np.exp(-delta * dt) * norm.cdf(d1) - K * np.exp(-r * dt) * norm.cdf(d2)\n",
    "    return call_price\n",
    "\n",
    "def black_scholes_put(S_t, K, dt, r, sigma, delta):\n",
    "    d1 = (np.log(S_t / K) + (r -delta + 0.5 * sigma ** 2) * dt) / (sigma * np.sqrt(dt))\n",
    "    d2 = d1 - sigma * np.sqrt(dt)\n",
    "    call_price = - S_t * np.exp(-delta * dt) * norm.cdf(-d1) + K * np.exp(-r * dt) * norm.cdf(-d2)\n",
    "    return call_price\n",
    "\n",
    "def call_Delta(S_t, K, dt, r, sigma, delta):\n",
    "    d1 = (np.log(S_t / K) + (r -delta + 0.5 * sigma ** 2) * dt) / (sigma * np.sqrt(dt))  \n",
    "    return np.exp(-delta * dt) * norm.cdf(d1)\n",
    "\n",
    "def put_Delta(S_t, K, dt, r, sigma, delta):\n",
    "    d1 = (np.log(S_t / K) + (r -delta + 0.5 * sigma ** 2) * dt) / (sigma * np.sqrt(dt))  \n",
    "    return -np.exp(-delta * dt) * norm.cdf(-d1)\n",
    "\n",
    "def Gamma(S_t, K, dt, r, sigma, delta):\n",
    "    d1 = (np.log(S_t / K) + (r -delta + 0.5 * sigma ** 2) * dt) / (sigma * np.sqrt(dt))\n",
    "    return np.exp(-delta * dt) * norm.pdf(d1)/(S_t * sigma * np.sqrt(dt)) \n",
    "\n",
    "def call_Theta(S_t, K, dt, r, sigma, delta):\n",
    "    d1 = (np.log(S_t / K) + (r -delta + 0.5 * sigma ** 2) * dt) / (sigma * np.sqrt(dt))\n",
    "    d2 = d1 - sigma * np.sqrt(dt)\n",
    "    return delta * S_t * np.exp(-delta * dt)*norm.cdf(d1) - r * K * np.exp(-r*dt)*norm.cdf(d2)-(K * np.exp(-r*dt) * sigma * norm.pdf(d2))/ (2 * np.sqrt(dt)) \n",
    "\n",
    "def put_Theta(S_t, K, dt, r, sigma, delta):\n",
    "    d1 = (np.log(S_t / K) + (r -delta + 0.5 * sigma ** 2) * dt) / (sigma * np.sqrt(dt))\n",
    "    d2 = d1 - sigma * np.sqrt(dt)\n",
    "    return call_Theta(S_t, K, dt, r, sigma, delta) + r * K * np.exp(-r*dt) - delta * S_t * np.exp(-delta * dt)\n",
    "\n",
    "def put_given_call(C_t, S_t, K, r, dt):\n",
    "    return C_t - S_t + K * math.exp(-r * dt)\n",
    "def call_given_put(P_t, S_t, K, r, dt):\n",
    "    return P_t + S_t - K * math.exp(-r * dt)"
   ],
   "metadata": {
    "collapsed": false,
    "ExecuteTime": {
     "end_time": "2024-05-21T18:49:11.074983Z",
     "start_time": "2024-05-21T18:49:11.059801Z"
    }
   },
   "id": "efd4c76b76458445",
   "execution_count": 18
  },
  {
   "cell_type": "markdown",
   "source": [
    "**Quiz 7.1**Assume the Black-Scholes framework applies.\n",
    "\n",
    "Recall that a long 50-strike straddle consists of buying a 50-strike call option and buying a 50-strike put option.\n",
    "\n",
    "Suppose you enter into a long 50-strike straddle on a nondividend-paying stock and compute the current delta for that straddle with the following information:\n",
    "\n",
    "- The stock currently sells for 50.\n",
    "- The stock’s volatility is 50%.\n",
    "- The time to maturity is one year.\n",
    "- The continuously compounded risk-free interest rate is 4%.\n",
    "\n",
    "How much does delta change after three months, if the stock price happens to be 50 at that point in time?"
   ],
   "metadata": {
    "collapsed": false
   },
   "id": "784d777eedf87ce2"
  },
  {
   "cell_type": "markdown",
   "source": [
    "**Quiz 7.2**\n",
    "Facebook stock has risen in price over 42% so far in 2019.\n",
    "\n",
    "Consider the \"options chain\" table of market prices for Facebook (ticker: FB) stock options from May 16, 2019, as reported on the Chicago Board Options Exchange website www.cboe.com.Links to an external site.\n",
    "\n",
    "The stock price of FB on May 16 was $187.28 and the risk-free annualized interest rate was 2.3%. Please use the column labeled \"Last\" to find all the market option prices you need in this problem.\n",
    "\n",
    "![](img/week8_1.png)\n",
    "\n",
    "The expiration date for all these options is May 31, 2019, so the time to expiration for this problem is 15 days.  Assume the options are European.\n",
    "\n",
    "Of the 4 strike prices shown in the table, for which strike price is there no put/call parity violation?  \n",
    "\n",
    "When testing for put/call parity violations, round your numerical computations to the nearest hundredth (round to 2 decimal places)."
   ],
   "metadata": {
    "collapsed": false
   },
   "id": "37afc8728b791615"
  },
  {
   "cell_type": "code",
   "outputs": [
    {
     "name": "stdout",
     "output_type": "stream",
     "text": [
      "The price of the call for 182.5 strike should be 6.84\n",
      "The price of the call for 185 strike should be 5.10\n",
      "The price of the call for 187.5 strike should be 3.81\n",
      "The price of the call for 190 strike should be 2.41\n"
     ]
    }
   ],
   "source": [
    "print(\"The price of the call for\", 182.5, f\"strike should be {call_given_put(1.89, 187.28, 182.5, 0.023, 15/365):.2f}\")\n",
    "print(\"The price of the call for\", 185, f\"strike should be {call_given_put(2.65, 187.28, 185, 0.023, 15/365):.2f}\")\n",
    "print(\"The price of the call for\", 187.5, f\"strike should be {call_given_put(3.85, 187.28, 187.5, 0.023, 15/365):.2f}\")\n",
    "print(\"The price of the call for\", 190, f\"strike should be {call_given_put(4.95, 187.28, 190, 0.023, 15/365):.2f}\")"
   ],
   "metadata": {
    "collapsed": false,
    "ExecuteTime": {
     "end_time": "2024-05-21T18:38:31.504353Z",
     "start_time": "2024-05-21T18:38:31.499882Z"
    }
   },
   "id": "9739741762694786",
   "execution_count": 17
  },
  {
   "cell_type": "markdown",
   "source": [
    "**Quiz 7.3**\n",
    "Again consider the \"options chain\" table of market prices for Facebook (ticker: FB) stock options from May 16, 2019, as reported on the Chicago Board Options Exchange website www.cboe.com.  (Links to an external site.)\n",
    "\n",
    "The stock price of FB on May 16 was 187.28 and the risk-free annualized interest rate was 2.3%. Please use the column labeled \"Last\" to find all the market option prices you need in this problem.\n",
    "\n",
    "The expiration date for all these options is May 31, 2019, so the time to expiration for this problem is 15 days. Assume the options are European.\n",
    "\n",
    "![](img/week8_2.png)\n",
    "\n",
    "We seek to capture arbitrage profits based on put/call parity violations.  Of the 4 strike prices shown in the table, for which strike price does an arbitrage opportunity exist that involves selling a FB call option and buying a FB put option with the same strike price and collecting an arbitrage profit that is greater than 0.10?\n",
    "\n",
    " "
   ],
   "metadata": {
    "collapsed": false
   },
   "id": "8792abff97f27d83"
  },
  {
   "cell_type": "markdown",
   "source": [
    "**Quiz 7.4**\n",
    "You are given the following information for a stock:\n",
    "\n",
    "1. The current price of the stock is 50.\n",
    "2. The stock does not pay dividends.\n",
    "3. The continuously compounded risk-free interest rate is 8%.\n",
    "4. A 9-month European call option on the stock has a price of 4.40. The current delta of the call option is 0.5231.\n",
    "\n",
    "5. A market-maker purchases 1,000 call options and then delta-hedges the position.\n",
    "\n",
    "A day later, the price of the stock decreased to 45 and the price of the call option decreased to 3.80.\n",
    "\n",
    "Calculate the one-day profit of the market-maker, rounded to the nearest dollar."
   ],
   "metadata": {
    "collapsed": false
   },
   "id": "a736dc7e05517c63"
  },
  {
   "cell_type": "code",
   "outputs": [
    {
     "data": {
      "text/plain": "-2020.2687417608283"
     },
     "execution_count": 24,
     "metadata": {},
     "output_type": "execute_result"
    }
   ],
   "source": [
    "1000*0.5231*(-5) - 1000*(3.8-4.4) - (1000 * 0.5231 * 50 - 4.4 * 1000) * (np.exp(0.08/365)-1)"
   ],
   "metadata": {
    "collapsed": false,
    "ExecuteTime": {
     "end_time": "2024-05-21T18:50:47.752282Z",
     "start_time": "2024-05-21T18:50:47.746282Z"
    }
   },
   "id": "2c49caa063cdacb3",
   "execution_count": 24
  },
  {
   "cell_type": "markdown",
   "source": [
    "**Quiz 7.5**\n",
    "You are given the following information for a stock:\n",
    "\n",
    "1. The current price of the stock is 50.\n",
    "2. The stock does not pay dividends.\n",
    "3. The continuously compounded risk-free interest rate is 8%.\n",
    "4. A 9-month European put option on the stock has a price of 4.40. The current delta of the put option is –0.5701.\n",
    "5. A market-maker sells 500 put options and then delta-hedges the position.\n",
    "\n",
    "A day later, the price of the stock increased to 65 and the price of the put option decreased to 3.60.\n",
    "\n",
    "Calculate the one-day profit of the market-maker, rounded to the nearest dollar."
   ],
   "metadata": {
    "collapsed": false
   },
   "id": "d170212ae21220ca"
  },
  {
   "cell_type": "markdown",
   "source": [
    "**Quiz 7.6**\n",
    "A market-maker enters into a long position on 100 one-year European straddles with a strike price of $120. A straddle consists of a long call option and a long put option with the same strike price.\n",
    "\n",
    "The market-maker then delta-hedges it by buying/selling shares of stock and borrowing/lending the remaining balance. You are also given the following assumptions:\n",
    "\n",
    "1. The value of the stock is 120 now and 125 a day later\n",
    "2. The continuously compounded risk-free interest rate is 6%\n",
    "3. The value of a straddle is 46.32 now and 47.86 a day later\n",
    "4. The current delta of the  straddle is 0.2886\n",
    "\n",
    "Calculate the one-day profit for the market-maker, rounded to the nearest cent."
   ],
   "metadata": {
    "collapsed": false
   },
   "id": "ba41ae186ec067c8"
  },
  {
   "cell_type": "markdown",
   "source": [
    "**Quiz 7.7**\n",
    "Assume the Black-Scholes framework for option pricing applies.\n",
    "\n",
    "A market-maker buys 100 one-year European straddles with the strike price of 200. The market-maker then delta-hedges it by buying/selling shares of a nondividend-paying stock and borrowing/lending the remaining balance. A straddle consists of a long call and a long put on the same strike price. You are given the following information:\n",
    "\n",
    "1. The value of the stock is 200 now and 185 a day later\n",
    "2. The stock's volatility is 50%\n",
    "3. The continuously compounded risk-free interest rate is 5%\n",
    "4. The cost of one straddle is 77.42 now and 74.10 a day later\n",
    "\n",
    "5. Calculate the one-day profit for the market-maker, rounded to the nearest cent."
   ],
   "metadata": {
    "collapsed": false
   },
   "id": "6c779933b1a2bd4f"
  },
  {
   "cell_type": "markdown",
   "source": [
    "**Quiz 7.8**\n",
    "For this problem assume\n",
    "\n",
    "- Stock price S = 33.00\n",
    "- Volatility $\\sigma = 0.32$\n",
    "- Annual risk-free rate r = 6%\n",
    "- Continuously paid annual dividend rate $\\delta= 0.01$\n",
    "\n",
    "Consider a European call option on this stock with the following properties:\n",
    "\n",
    "- Strike price = 35\n",
    "- Delta = 0.3854\n",
    "- Gamma = 0.0847\n",
    "- Days to expiration = 68\n",
    "\n",
    "Using the delta-gamma approximation, compute the approximate price for the European call option if there is an immediate 0.50 stock price increase."
   ],
   "metadata": {
    "collapsed": false
   },
   "id": "3b87706a2d38dc45"
  },
  {
   "cell_type": "markdown",
   "source": [
    "**Quiz 7.9**\n",
    "Assume the Black-Scholes framework for option pricing applies.\n",
    "\n",
    "You are given:\n",
    "\n",
    "- The price of a nondividend-paying stock is 70.\n",
    "- The continuously compounded risk-free interest rate is 5%.\n",
    "- The volatility of the stock is greater than 30%.\n",
    "- A 1-year 72-strike European call option has a price of 10.39. The delta of the option is 0.59381.\n",
    "- A 1-year 75-strike European call option has a price of 9.16. The delta of the option is 0.54805.\n",
    "\n",
    "- A market-maker enters into a call bull spread where 100,000 72-strike call options are purchased and 100,000 75-strike call options are sold. The market-maker then delta-hedges the position with shares of the stock.\n",
    "\n",
    "One day later:\n",
    "\n",
    "- The price of the stock is 67.\n",
    "- The price of the 72-strike European call option is 8.67. The delta of the option is 0.54439.\n",
    "- The price of the 75-strike European call option is 7.57. The delta of the option is 0.49789.\n",
    "\n",
    "- Determine the number of additional shares of stock that needs to be sold or purchased after one day in order to maintain the delta hedge."
   ],
   "metadata": {
    "collapsed": false
   },
   "id": "d2748b9d8409bf08"
  },
  {
   "cell_type": "markdown",
   "source": [
    "**Quiz 7.10** \n",
    "\n",
    "Assume the Black-Scholes framework for option pricing applies and the risk-free rate is zero.\n",
    "\n",
    "AAPL stock is currently trading at 200 while a one-year at-the-money European call option on AAPL is trading at 20, or 10% of the value of the stock.  \n",
    "\n",
    "What is the implied volatility?"
   ],
   "metadata": {
    "collapsed": false
   },
   "id": "de1849bc0b858987"
  }
 ],
 "metadata": {
  "kernelspec": {
   "display_name": "Python 3",
   "language": "python",
   "name": "python3"
  },
  "language_info": {
   "codemirror_mode": {
    "name": "ipython",
    "version": 2
   },
   "file_extension": ".py",
   "mimetype": "text/x-python",
   "name": "python",
   "nbconvert_exporter": "python",
   "pygments_lexer": "ipython2",
   "version": "2.7.6"
  }
 },
 "nbformat": 4,
 "nbformat_minor": 5
}
